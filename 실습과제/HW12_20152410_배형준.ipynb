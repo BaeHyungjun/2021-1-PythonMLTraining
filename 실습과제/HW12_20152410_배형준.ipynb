{
  "nbformat": 4,
  "nbformat_minor": 0,
  "metadata": {
    "colab": {
      "name": "HW12_20152410_배형준.ipynb",
      "provenance": [],
      "collapsed_sections": []
    },
    "kernelspec": {
      "name": "python3",
      "display_name": "Python 3"
    },
    "language_info": {
      "name": "python"
    }
  },
  "cells": [
    {
      "cell_type": "markdown",
      "metadata": {
        "id": "AXMJ4L_RlyGP"
      },
      "source": [
        "# 12-1 : moons 데이터셋을 이용한 결정 트리 모델 학습"
      ]
    },
    {
      "cell_type": "code",
      "metadata": {
        "id": "PJBxRyothGM2"
      },
      "source": [
        "import numpy as np\n",
        "import pandas as pd\n",
        "import matplotlib\n",
        "import matplotlib.pyplot as plt"
      ],
      "execution_count": 1,
      "outputs": []
    },
    {
      "cell_type": "code",
      "metadata": {
        "id": "R9IqE2AMhIJc"
      },
      "source": [
        "from sklearn.datasets import make_moons\n",
        "from sklearn.datasets import fetch_openml\n",
        "\n",
        "from sklearn.model_selection import train_test_split\n",
        "from sklearn.model_selection import GridSearchCV\n",
        "\n",
        "from sklearn.metrics import make_scorer, accuracy_score, confusion_matrix, classification_report\n",
        "\n",
        "from sklearn.tree import DecisionTreeClassifier\n",
        "from sklearn.linear_model import SGDClassifier\n",
        "from sklearn.ensemble import RandomForestClassifier, ExtraTreesClassifier\n",
        "from sklearn.ensemble import VotingClassifier, BaggingClassifier"
      ],
      "execution_count": 2,
      "outputs": []
    },
    {
      "cell_type": "code",
      "metadata": {
        "id": "X412EfwSiqLo"
      },
      "source": [
        "X_moon, y_moon = make_moons(n_samples = 500,\n",
        "                            shuffle = True,\n",
        "                            noise = 0.4,\n",
        "                            random_state = 20152410)"
      ],
      "execution_count": 3,
      "outputs": []
    },
    {
      "cell_type": "code",
      "metadata": {
        "colab": {
          "base_uri": "https://localhost:8080/",
          "height": 297
        },
        "id": "SrX4oplfivm0",
        "outputId": "40c2fbe5-7fe6-45ba-b9a2-f733beb08b2d"
      },
      "source": [
        "plt.figure(figsize = (6, 4))\n",
        "plt.plot(X_moon[np.where(y_moon == 0)[0], 0], X_moon[np.where(y_moon == 0)[0], 1], 'ro')\n",
        "plt.plot(X_moon[np.where(y_moon == 1)[0], 0], X_moon[np.where(y_moon == 1)[0], 1], 'bo')\n",
        "plt.tight_layout()\n",
        "plt.show()"
      ],
      "execution_count": 4,
      "outputs": [
        {
          "output_type": "display_data",
          "data": {
            "image/png": "[encoded data removed]",
            "text/plain": [
              "<Figure size 432x288 with 1 Axes>"
            ]
          },
          "metadata": {
            "tags": [],
            "needs_background": "light"
          }
        }
      ]
    },
    {
      "cell_type": "code",
      "metadata": {
        "id": "Y8Q54lUgixO8"
      },
      "source": [
        "X_train, X_test, y_train, y_test = train_test_split(X_moon,\n",
        "                                                    y_moon,\n",
        "                                                    train_size = 0.8,\n",
        "                                                    stratify = y_moon,\n",
        "                                                    random_state = 20152410)"
      ],
      "execution_count": 5,
      "outputs": []
    },
    {
      "cell_type": "code",
      "metadata": {
        "colab": {
          "base_uri": "https://localhost:8080/"
        },
        "id": "LGGyHaF5jFST",
        "outputId": "6dde2d4e-37ba-4792-fb0d-2b87ab3d5ef3"
      },
      "source": [
        "X_train.shape, X_test.shape, y_train.shape, y_test.shape"
      ],
      "execution_count": 6,
      "outputs": [
        {
          "output_type": "execute_result",
          "data": {
            "text/plain": [
              "((400, 2), (100, 2), (400,), (100,))"
            ]
          },
          "metadata": {
            "tags": []
          },
          "execution_count": 6
        }
      ]
    },
    {
      "cell_type": "code",
      "metadata": {
        "id": "vWpHqRvPjIo7"
      },
      "source": [
        "tree_clf = DecisionTreeClassifier()\n",
        "tree_params = {'criterion' : ['gini', 'entropy'],\n",
        "               'max_depth' : list(range(3, 10)),\n",
        "               'min_samples_split' : list(range(2, 21, 2)),\n",
        "               'max_features' : ['auto'],\n",
        "               'max_leaf_nodes' : list(range(10, 101, 10))}\n",
        "\n",
        "tree_clf_gridsearch = GridSearchCV(estimator = tree_clf,\n",
        "                                   param_grid = tree_params,\n",
        "                                   cv = 4,\n",
        "                                   verbose = 1)"
      ],
      "execution_count": 7,
      "outputs": []
    },
    {
      "cell_type": "code",
      "metadata": {
        "colab": {
          "base_uri": "https://localhost:8080/"
        },
        "id": "APU8leOTkWu6",
        "outputId": "51b3b61f-b5c5-48ef-ac3b-ab7a6d4dd61e"
      },
      "source": [
        "tree_clf_gridsearch.fit(X_train, y_train)"
      ],
      "execution_count": 8,
      "outputs": [
        {
          "output_type": "stream",
          "text": [
            "Fitting 4 folds for each of 1400 candidates, totalling 5600 fits\n"
          ],
          "name": "stdout"
        },
        {
          "output_type": "stream",
          "text": [
            "[Parallel(n_jobs=1)]: Using backend SequentialBackend with 1 concurrent workers.\n",
            "[Parallel(n_jobs=1)]: Done 5600 out of 5600 | elapsed:    7.1s finished\n"
          ],
          "name": "stderr"
        },
        {
          "output_type": "execute_result",
          "data": {
            "text/plain": [
              "GridSearchCV(cv=4, error_score=nan,\n",
              "             estimator=DecisionTreeClassifier(ccp_alpha=0.0, class_weight=None,\n",
              "                                              criterion='gini', max_depth=None,\n",
              "                                              max_features=None,\n",
              "                                              max_leaf_nodes=None,\n",
              "                                              min_impurity_decrease=0.0,\n",
              "                                              min_impurity_split=None,\n",
              "                                              min_samples_leaf=1,\n",
              "                                              min_samples_split=2,\n",
              "                                              min_weight_fraction_leaf=0.0,\n",
              "                                              presort='deprecated',\n",
              "                                              random_state=None,\n",
              "                                              splitter='best'),\n",
              "             iid='deprecated', n_jobs=None,\n",
              "             param_grid={'criterion': ['gini', 'entropy'],\n",
              "                         'max_depth': [3, 4, 5, 6, 7, 8, 9],\n",
              "                         'max_features': ['auto'],\n",
              "                         'max_leaf_nodes': [10, 20, 30, 40, 50, 60, 70, 80, 90,\n",
              "                                            100],\n",
              "                         'min_samples_split': [2, 4, 6, 8, 10, 12, 14, 16, 18,\n",
              "                                               20]},\n",
              "             pre_dispatch='2*n_jobs', refit=True, return_train_score=False,\n",
              "             scoring=None, verbose=1)"
            ]
          },
          "metadata": {
            "tags": []
          },
          "execution_count": 8
        }
      ]
    },
    {
      "cell_type": "code",
      "metadata": {
        "colab": {
          "base_uri": "https://localhost:8080/",
          "height": 513
        },
        "id": "bTZMlq1Ok381",
        "outputId": "ecd84e20-80bb-45d4-fc56-875795691491"
      },
      "source": [
        "pd.DataFrame(tree_clf_gridsearch.cv_results_).sort_values(by = 'mean_test_score',\n",
        "                                                          ascending = False).head()"
      ],
      "execution_count": 9,
      "outputs": [
        {
          "output_type": "execute_result",
          "data": {
            "text/html": [
              "<div>\n",
              "<style scoped>\n",
              "    .dataframe tbody tr th:only-of-type {\n",
              "        vertical-align: middle;\n",
              "    }\n",
              "\n",
              "    .dataframe tbody tr th {\n",
              "        vertical-align: top;\n",
              "    }\n",
              "\n",
              "    .dataframe thead th {\n",
              "        text-align: right;\n",
              "    }\n",
              "</style>\n",
              "<table border=\"1\" class=\"dataframe\">\n",
              "  <thead>\n",
              "    <tr style=\"text-align: right;\">\n",
              "      <th></th>\n",
              "      <th>mean_fit_time</th>\n",
              "      <th>std_fit_time</th>\n",
              "      <th>mean_score_time</th>\n",
              "      <th>std_score_time</th>\n",
              "      <th>param_criterion</th>\n",
              "      <th>param_max_depth</th>\n",
              "      <th>param_max_features</th>\n",
              "      <th>param_max_leaf_nodes</th>\n",
              "      <th>param_min_samples_split</th>\n",
              "      <th>params</th>\n",
              "      <th>split0_test_score</th>\n",
              "      <th>split1_test_score</th>\n",
              "      <th>split2_test_score</th>\n",
              "      <th>split3_test_score</th>\n",
              "      <th>mean_test_score</th>\n",
              "      <th>std_test_score</th>\n",
              "      <th>rank_test_score</th>\n",
              "    </tr>\n",
              "  </thead>\n",
              "  <tbody>\n",
              "    <tr>\n",
              "      <th>20</th>\n",
              "      <td>0.000418</td>\n",
              "      <td>0.000002</td>\n",
              "      <td>0.000263</td>\n",
              "      <td>0.000019</td>\n",
              "      <td>gini</td>\n",
              "      <td>3</td>\n",
              "      <td>auto</td>\n",
              "      <td>30</td>\n",
              "      <td>2</td>\n",
              "      <td>{'criterion': 'gini', 'max_depth': 3, 'max_fea...</td>\n",
              "      <td>0.85</td>\n",
              "      <td>0.87</td>\n",
              "      <td>0.85</td>\n",
              "      <td>0.80</td>\n",
              "      <td>0.8425</td>\n",
              "      <td>0.025860</td>\n",
              "      <td>1</td>\n",
              "    </tr>\n",
              "    <tr>\n",
              "      <th>945</th>\n",
              "      <td>0.000599</td>\n",
              "      <td>0.000013</td>\n",
              "      <td>0.000256</td>\n",
              "      <td>0.000005</td>\n",
              "      <td>entropy</td>\n",
              "      <td>5</td>\n",
              "      <td>auto</td>\n",
              "      <td>50</td>\n",
              "      <td>12</td>\n",
              "      <td>{'criterion': 'entropy', 'max_depth': 5, 'max_...</td>\n",
              "      <td>0.85</td>\n",
              "      <td>0.85</td>\n",
              "      <td>0.86</td>\n",
              "      <td>0.81</td>\n",
              "      <td>0.8425</td>\n",
              "      <td>0.019203</td>\n",
              "      <td>1</td>\n",
              "    </tr>\n",
              "    <tr>\n",
              "      <th>1014</th>\n",
              "      <td>0.000638</td>\n",
              "      <td>0.000014</td>\n",
              "      <td>0.000265</td>\n",
              "      <td>0.000014</td>\n",
              "      <td>entropy</td>\n",
              "      <td>6</td>\n",
              "      <td>auto</td>\n",
              "      <td>20</td>\n",
              "      <td>10</td>\n",
              "      <td>{'criterion': 'entropy', 'max_depth': 6, 'max_...</td>\n",
              "      <td>0.85</td>\n",
              "      <td>0.85</td>\n",
              "      <td>0.86</td>\n",
              "      <td>0.81</td>\n",
              "      <td>0.8425</td>\n",
              "      <td>0.019203</td>\n",
              "      <td>1</td>\n",
              "    </tr>\n",
              "    <tr>\n",
              "      <th>226</th>\n",
              "      <td>0.000565</td>\n",
              "      <td>0.000082</td>\n",
              "      <td>0.000286</td>\n",
              "      <td>0.000017</td>\n",
              "      <td>gini</td>\n",
              "      <td>5</td>\n",
              "      <td>auto</td>\n",
              "      <td>30</td>\n",
              "      <td>14</td>\n",
              "      <td>{'criterion': 'gini', 'max_depth': 5, 'max_fea...</td>\n",
              "      <td>0.85</td>\n",
              "      <td>0.85</td>\n",
              "      <td>0.86</td>\n",
              "      <td>0.80</td>\n",
              "      <td>0.8400</td>\n",
              "      <td>0.023452</td>\n",
              "      <td>4</td>\n",
              "    </tr>\n",
              "    <tr>\n",
              "      <th>873</th>\n",
              "      <td>0.000590</td>\n",
              "      <td>0.000043</td>\n",
              "      <td>0.000264</td>\n",
              "      <td>0.000010</td>\n",
              "      <td>entropy</td>\n",
              "      <td>4</td>\n",
              "      <td>auto</td>\n",
              "      <td>80</td>\n",
              "      <td>8</td>\n",
              "      <td>{'criterion': 'entropy', 'max_depth': 4, 'max_...</td>\n",
              "      <td>0.85</td>\n",
              "      <td>0.86</td>\n",
              "      <td>0.85</td>\n",
              "      <td>0.80</td>\n",
              "      <td>0.8400</td>\n",
              "      <td>0.023452</td>\n",
              "      <td>4</td>\n",
              "    </tr>\n",
              "  </tbody>\n",
              "</table>\n",
              "</div>"
            ],
            "text/plain": [
              "      mean_fit_time  std_fit_time  ...  std_test_score  rank_test_score\n",
              "20         0.000418      0.000002  ...        0.025860                1\n",
              "945        0.000599      0.000013  ...        0.019203                1\n",
              "1014       0.000638      0.000014  ...        0.019203                1\n",
              "226        0.000565      0.000082  ...        0.023452                4\n",
              "873        0.000590      0.000043  ...        0.023452                4\n",
              "\n",
              "[5 rows x 17 columns]"
            ]
          },
          "metadata": {
            "tags": []
          },
          "execution_count": 9
        }
      ]
    },
    {
      "cell_type": "code",
      "metadata": {
        "colab": {
          "base_uri": "https://localhost:8080/"
        },
        "id": "OMBKFrE8lyxr",
        "outputId": "606504b9-0778-4062-d9b2-78158ed20645"
      },
      "source": [
        "tree_clf_gridsearch.best_estimator_"
      ],
      "execution_count": 10,
      "outputs": [
        {
          "output_type": "execute_result",
          "data": {
            "text/plain": [
              "DecisionTreeClassifier(ccp_alpha=0.0, class_weight=None, criterion='gini',\n",
              "                       max_depth=3, max_features='auto', max_leaf_nodes=30,\n",
              "                       min_impurity_decrease=0.0, min_impurity_split=None,\n",
              "                       min_samples_leaf=1, min_samples_split=2,\n",
              "                       min_weight_fraction_leaf=0.0, presort='deprecated',\n",
              "                       random_state=None, splitter='best')"
            ]
          },
          "metadata": {
            "tags": []
          },
          "execution_count": 10
        }
      ]
    },
    {
      "cell_type": "code",
      "metadata": {
        "colab": {
          "base_uri": "https://localhost:8080/"
        },
        "id": "rh5UrN1Wlo0O",
        "outputId": "ef4ef23e-06ac-47df-f139-d056688f7358"
      },
      "source": [
        "best_tree_clf = tree_clf_gridsearch.best_estimator_\n",
        "best_tree_clf.fit(X_train, y_train)\n",
        "y_pred_tree = best_tree_clf.predict(X_test)\n",
        "\n",
        "print('Decision Tree 모델의 test accuracy : {}'.format(accuracy_score(y_test, y_pred_tree)))\n",
        "print(confusion_matrix(y_test, y_pred_tree))"
      ],
      "execution_count": 11,
      "outputs": [
        {
          "output_type": "stream",
          "text": [
            "Decision Tree 모델의 test accuracy : 0.85\n",
            "[[41  9]\n",
            " [ 6 44]]\n"
          ],
          "name": "stdout"
        }
      ]
    },
    {
      "cell_type": "markdown",
      "metadata": {
        "id": "7iAUF7yNmCqd"
      },
      "source": [
        "# 12-2 : mnist 데이터셋을 이용해 모델 학습"
      ]
    },
    {
      "cell_type": "code",
      "metadata": {
        "id": "FuQuVdL8mbZr"
      },
      "source": [
        "mnist = fetch_openml('mnist_784')"
      ],
      "execution_count": 12,
      "outputs": []
    },
    {
      "cell_type": "code",
      "metadata": {
        "id": "tMK1dbDymi7i"
      },
      "source": [
        "def mnist_stratified_sampling(target):\n",
        "    '''각 숫자별로 550개씩 총 5500개 샘플 추출'''\n",
        "    np.random.seed(20152410)\n",
        "    index_list = [np.random.permutation(np.where(target == i)[0])[:1100]\n",
        "                  for i in range(10)]\n",
        "    index = np.concatenate(index_list)\n",
        "    \n",
        "    return index\n",
        "\n",
        "X = mnist['data']\n",
        "y = mnist[\"target\"].astype(np.int)\n",
        "\n",
        "sample_index = mnist_stratified_sampling(y)\n",
        "X_small = X[sample_index] / 255\n",
        "y_small = y[sample_index]\n",
        "\n",
        "from sklearn.model_selection import StratifiedKFold\n",
        "\n",
        "stratified_kfold = StratifiedKFold(n_splits = 11)\n",
        "\n",
        "for train_index, test_index in stratified_kfold.split(X_small, y_small):\n",
        "    # train : 10000, test : 1000\n",
        "    X_train, X_test = X_small[train_index], X_small[test_index]\n",
        "    y_train, y_test = y_small[train_index], y_small[test_index]"
      ],
      "execution_count": 13,
      "outputs": []
    },
    {
      "cell_type": "code",
      "metadata": {
        "id": "Guqn5n4cmxkn"
      },
      "source": [
        "sgd_clf = SGDClassifier(random_state = 20152410)\n",
        "rf_clf = RandomForestClassifier(random_state = 20152410)\n",
        "extra_clf = ExtraTreesClassifier(random_state = 20152410)"
      ],
      "execution_count": 14,
      "outputs": []
    },
    {
      "cell_type": "code",
      "metadata": {
        "colab": {
          "base_uri": "https://localhost:8080/"
        },
        "id": "qKB08X-Fn8iU",
        "outputId": "3e1639bc-d0b4-477d-c65f-24dcf23f2420"
      },
      "source": [
        "sgd_clf.fit(X_train, y_train)"
      ],
      "execution_count": 15,
      "outputs": [
        {
          "output_type": "execute_result",
          "data": {
            "text/plain": [
              "SGDClassifier(alpha=0.0001, average=False, class_weight=None,\n",
              "              early_stopping=False, epsilon=0.1, eta0=0.0, fit_intercept=True,\n",
              "              l1_ratio=0.15, learning_rate='optimal', loss='hinge',\n",
              "              max_iter=1000, n_iter_no_change=5, n_jobs=None, penalty='l2',\n",
              "              power_t=0.5, random_state=20152410, shuffle=True, tol=0.001,\n",
              "              validation_fraction=0.1, verbose=0, warm_start=False)"
            ]
          },
          "metadata": {
            "tags": []
          },
          "execution_count": 15
        }
      ]
    },
    {
      "cell_type": "code",
      "metadata": {
        "id": "5bEqyRwOotyb",
        "colab": {
          "base_uri": "https://localhost:8080/"
        },
        "outputId": "68765e03-1d6b-4499-b71c-de3f5927c267"
      },
      "source": [
        "rf_clf.fit(X_train, y_train)"
      ],
      "execution_count": 16,
      "outputs": [
        {
          "output_type": "execute_result",
          "data": {
            "text/plain": [
              "RandomForestClassifier(bootstrap=True, ccp_alpha=0.0, class_weight=None,\n",
              "                       criterion='gini', max_depth=None, max_features='auto',\n",
              "                       max_leaf_nodes=None, max_samples=None,\n",
              "                       min_impurity_decrease=0.0, min_impurity_split=None,\n",
              "                       min_samples_leaf=1, min_samples_split=2,\n",
              "                       min_weight_fraction_leaf=0.0, n_estimators=100,\n",
              "                       n_jobs=None, oob_score=False, random_state=20152410,\n",
              "                       verbose=0, warm_start=False)"
            ]
          },
          "metadata": {
            "tags": []
          },
          "execution_count": 16
        }
      ]
    },
    {
      "cell_type": "code",
      "metadata": {
        "id": "xonLbfFTot3L",
        "colab": {
          "base_uri": "https://localhost:8080/"
        },
        "outputId": "248e941b-e063-4f66-ab9e-89febd5bb12a"
      },
      "source": [
        "extra_clf.fit(X_train, y_train)"
      ],
      "execution_count": 17,
      "outputs": [
        {
          "output_type": "execute_result",
          "data": {
            "text/plain": [
              "ExtraTreesClassifier(bootstrap=False, ccp_alpha=0.0, class_weight=None,\n",
              "                     criterion='gini', max_depth=None, max_features='auto',\n",
              "                     max_leaf_nodes=None, max_samples=None,\n",
              "                     min_impurity_decrease=0.0, min_impurity_split=None,\n",
              "                     min_samples_leaf=1, min_samples_split=2,\n",
              "                     min_weight_fraction_leaf=0.0, n_estimators=100,\n",
              "                     n_jobs=None, oob_score=False, random_state=20152410,\n",
              "                     verbose=0, warm_start=False)"
            ]
          },
          "metadata": {
            "tags": []
          },
          "execution_count": 17
        }
      ]
    },
    {
      "cell_type": "code",
      "metadata": {
        "id": "Sy9oeegjoTYE"
      },
      "source": [
        "y_pred_sgd = sgd_clf.predict(X_test)\n",
        "y_pred_rf = rf_clf.predict(X_test)\n",
        "y_pred_extra = extra_clf.predict(X_test)"
      ],
      "execution_count": 18,
      "outputs": []
    },
    {
      "cell_type": "code",
      "metadata": {
        "colab": {
          "base_uri": "https://localhost:8080/"
        },
        "id": "0EaXU8idoK5T",
        "outputId": "09238fac-8442-4fba-b83d-d7ea44c36653"
      },
      "source": [
        "print('SGDClassifier 모델의 test accuracy : {}'.format(accuracy_score(y_test, y_pred_sgd)))\n",
        "print(confusion_matrix(y_test, y_pred_sgd))"
      ],
      "execution_count": 19,
      "outputs": [
        {
          "output_type": "stream",
          "text": [
            "SGDClassifier 모델의 test accuracy : 0.889\n",
            "[[96  0  1  0  1  0  1  0  0  1]\n",
            " [ 0 97  1  0  1  0  0  0  1  0]\n",
            " [ 0  0 86  8  2  0  1  3  0  0]\n",
            " [ 0  1  3 92  0  1  0  1  2  0]\n",
            " [ 0  3  3  0 92  1  0  0  0  1]\n",
            " [ 0  0  2  6  4 80  1  1  4  2]\n",
            " [ 1  0  0  0  1  2 95  0  1  0]\n",
            " [ 1  0  1  0  3  0  0 93  0  2]\n",
            " [ 1  6  2  2  1  6  2  1 73  6]\n",
            " [ 0  2  0  0  8  0  0  5  0 85]]\n"
          ],
          "name": "stdout"
        }
      ]
    },
    {
      "cell_type": "code",
      "metadata": {
        "colab": {
          "base_uri": "https://localhost:8080/"
        },
        "id": "1j93yyNfoQsd",
        "outputId": "a7753379-43f7-484a-b75e-671098f85bbc"
      },
      "source": [
        "print('RandomForestClassifier 모델의 test accuracy : {}'.format(accuracy_score(y_test, y_pred_rf)))\n",
        "print(confusion_matrix(y_test, y_pred_rf))"
      ],
      "execution_count": 20,
      "outputs": [
        {
          "output_type": "stream",
          "text": [
            "RandomForestClassifier 모델의 test accuracy : 0.953\n",
            "[[99  0  0  0  0  1  0  0  0  0]\n",
            " [ 0 99  1  0  0  0  0  0  0  0]\n",
            " [ 1  0 94  1  2  0  0  1  0  1]\n",
            " [ 0  0  3 89  1  3  1  0  2  1]\n",
            " [ 1  1  0  0 95  0  1  0  0  2]\n",
            " [ 1  0  0  1  0 94  1  0  2  1]\n",
            " [ 1  0  0  0  0  1 98  0  0  0]\n",
            " [ 1  0  2  0  0  0  0 97  0  0]\n",
            " [ 0  0  2  0  0  2  0  0 93  3]\n",
            " [ 0  1  0  0  1  1  0  2  0 95]]\n"
          ],
          "name": "stdout"
        }
      ]
    },
    {
      "cell_type": "code",
      "metadata": {
        "colab": {
          "base_uri": "https://localhost:8080/"
        },
        "id": "XCuf3sZ8oQxd",
        "outputId": "7884a8a2-f4a8-4348-bd55-8c532aafa47a"
      },
      "source": [
        "print('ExtraTreesClassifier 모델의 test accuracy : {}'.format(accuracy_score(y_test, y_pred_extra)))\n",
        "print(confusion_matrix(y_test, y_pred_extra))"
      ],
      "execution_count": 21,
      "outputs": [
        {
          "output_type": "stream",
          "text": [
            "ExtraTreesClassifier 모델의 test accuracy : 0.953\n",
            "[[98  0  0  0  0  1  0  0  1  0]\n",
            " [ 0 99  1  0  0  0  0  0  0  0]\n",
            " [ 0  0 95  1  2  0  0  1  0  1]\n",
            " [ 0  0  3 91  1  3  0  0  2  0]\n",
            " [ 0  1  1  0 92  0  1  0  0  5]\n",
            " [ 1  0  0  2  0 95  1  1  0  0]\n",
            " [ 1  0  0  0  0  2 97  0  0  0]\n",
            " [ 1  0  2  0  0  0  0 95  0  2]\n",
            " [ 0  0  1  0  0  2  1  0 95  1]\n",
            " [ 0  1  0  0  0  1  0  2  0 96]]\n"
          ],
          "name": "stdout"
        }
      ]
    },
    {
      "cell_type": "code",
      "metadata": {
        "id": "kU8ztwzEn711"
      },
      "source": [
        "voting_clf = VotingClassifier([('SGD', SGDClassifier(loss = 'log', random_state = 20152410)),\n",
        "                               ('RandomForest', RandomForestClassifier(random_state = 20152410)),\n",
        "                               ('ExtraTrees', ExtraTreesClassifier(random_state = 20152410))],\n",
        "                              voting = 'soft')\n",
        "\n",
        "bagging_clf = BaggingClassifier(DecisionTreeClassifier(),\n",
        "                                n_estimators = 100,\n",
        "                                bootstrap = True,\n",
        "                                random_state = 20152410)"
      ],
      "execution_count": 22,
      "outputs": []
    },
    {
      "cell_type": "code",
      "metadata": {
        "colab": {
          "base_uri": "https://localhost:8080/"
        },
        "id": "eRvd3siCoCdU",
        "outputId": "0473710b-510c-4a09-e45d-d5eb10a730e9"
      },
      "source": [
        "voting_clf.fit(X_train, y_train)"
      ],
      "execution_count": 23,
      "outputs": [
        {
          "output_type": "execute_result",
          "data": {
            "text/plain": [
              "VotingClassifier(estimators=[('SGD',\n",
              "                              SGDClassifier(alpha=0.0001, average=False,\n",
              "                                            class_weight=None,\n",
              "                                            early_stopping=False, epsilon=0.1,\n",
              "                                            eta0=0.0, fit_intercept=True,\n",
              "                                            l1_ratio=0.15,\n",
              "                                            learning_rate='optimal', loss='log',\n",
              "                                            max_iter=1000, n_iter_no_change=5,\n",
              "                                            n_jobs=None, penalty='l2',\n",
              "                                            power_t=0.5, random_state=20152410,\n",
              "                                            shuffle=True, tol=0.001,\n",
              "                                            validation_fraction=0.1, verbos...\n",
              "                                                   criterion='gini',\n",
              "                                                   max_depth=None,\n",
              "                                                   max_features='auto',\n",
              "                                                   max_leaf_nodes=None,\n",
              "                                                   max_samples=None,\n",
              "                                                   min_impurity_decrease=0.0,\n",
              "                                                   min_impurity_split=None,\n",
              "                                                   min_samples_leaf=1,\n",
              "                                                   min_samples_split=2,\n",
              "                                                   min_weight_fraction_leaf=0.0,\n",
              "                                                   n_estimators=100,\n",
              "                                                   n_jobs=None, oob_score=False,\n",
              "                                                   random_state=20152410,\n",
              "                                                   verbose=0,\n",
              "                                                   warm_start=False))],\n",
              "                 flatten_transform=True, n_jobs=None, voting='soft',\n",
              "                 weights=None)"
            ]
          },
          "metadata": {
            "tags": []
          },
          "execution_count": 23
        }
      ]
    },
    {
      "cell_type": "code",
      "metadata": {
        "colab": {
          "base_uri": "https://localhost:8080/"
        },
        "id": "lIwoADBYoGer",
        "outputId": "428d7f52-1d53-4d55-f024-5ed968e67df7"
      },
      "source": [
        "bagging_clf.fit(X_train, y_train)"
      ],
      "execution_count": 24,
      "outputs": [
        {
          "output_type": "execute_result",
          "data": {
            "text/plain": [
              "BaggingClassifier(base_estimator=DecisionTreeClassifier(ccp_alpha=0.0,\n",
              "                                                        class_weight=None,\n",
              "                                                        criterion='gini',\n",
              "                                                        max_depth=None,\n",
              "                                                        max_features=None,\n",
              "                                                        max_leaf_nodes=None,\n",
              "                                                        min_impurity_decrease=0.0,\n",
              "                                                        min_impurity_split=None,\n",
              "                                                        min_samples_leaf=1,\n",
              "                                                        min_samples_split=2,\n",
              "                                                        min_weight_fraction_leaf=0.0,\n",
              "                                                        presort='deprecated',\n",
              "                                                        random_state=None,\n",
              "                                                        splitter='best'),\n",
              "                  bootstrap=True, bootstrap_features=False, max_features=1.0,\n",
              "                  max_samples=1.0, n_estimators=100, n_jobs=None,\n",
              "                  oob_score=False, random_state=20152410, verbose=0,\n",
              "                  warm_start=False)"
            ]
          },
          "metadata": {
            "tags": []
          },
          "execution_count": 24
        }
      ]
    },
    {
      "cell_type": "code",
      "metadata": {
        "id": "HYYAA50Qo025"
      },
      "source": [
        "y_pred_voting = voting_clf.predict(X_test)\n",
        "y_pred_bagging = bagging_clf.predict(X_test)"
      ],
      "execution_count": 25,
      "outputs": []
    },
    {
      "cell_type": "code",
      "metadata": {
        "colab": {
          "base_uri": "https://localhost:8080/"
        },
        "id": "SQhq2eGTpbAC",
        "outputId": "2a37e842-ebed-4db9-9580-ebdf59fce91b"
      },
      "source": [
        "print('VotingClassifier 모델의 test accuracy : {}'.format(accuracy_score(y_test, y_pred_voting)))\n",
        "print(confusion_matrix(y_test, y_pred_voting))"
      ],
      "execution_count": 26,
      "outputs": [
        {
          "output_type": "stream",
          "text": [
            "VotingClassifier 모델의 test accuracy : 0.931\n",
            "[[96  0  1  0  0  1  2  0  0  0]\n",
            " [ 0 99  1  0  0  0  0  0  0  0]\n",
            " [ 0  0 95  2  2  0  0  1  0  0]\n",
            " [ 0  0  4 91  0  2  0  1  2  0]\n",
            " [ 0  2  1  0 92  1  0  0  1  3]\n",
            " [ 1  0  0  3  1 88  1  1  3  2]\n",
            " [ 1  0  0  0  0  2 97  0  0  0]\n",
            " [ 1  0  1  0  1  0  0 95  0  2]\n",
            " [ 2  1  0  2  2  4  1  1 84  3]\n",
            " [ 0  1  0  0  3  0  0  2  0 94]]\n"
          ],
          "name": "stdout"
        }
      ]
    },
    {
      "cell_type": "code",
      "metadata": {
        "colab": {
          "base_uri": "https://localhost:8080/"
        },
        "id": "DEXZit9NpeT-",
        "outputId": "65a2a559-739f-4ca2-a908-0b443480416c"
      },
      "source": [
        "print('BaggingClassifier 모델의 test accuracy : {}'.format(accuracy_score(y_test, y_pred_bagging)))\n",
        "print(confusion_matrix(y_test, y_pred_bagging))"
      ],
      "execution_count": 27,
      "outputs": [
        {
          "output_type": "stream",
          "text": [
            "BaggingClassifier 모델의 test accuracy : 0.932\n",
            "[[99  0  0  0  0  1  0  0  0  0]\n",
            " [ 0 98  1  0  0  1  0  0  0  0]\n",
            " [ 1  0 92  1  2  0  1  1  0  2]\n",
            " [ 1  0  4 86  1  0  1  0  4  3]\n",
            " [ 0  0  1  1 92  0  1  0  1  4]\n",
            " [ 1  1  0  2  1 88  2  2  2  1]\n",
            " [ 1  0  0  0  0  3 96  0  0  0]\n",
            " [ 0  0  3  0  0  0  0 97  0  0]\n",
            " [ 1  1  0  2  0  0  1  0 92  3]\n",
            " [ 0  1  0  1  2  0  0  3  1 92]]\n"
          ],
          "name": "stdout"
        }
      ]
    },
    {
      "cell_type": "markdown",
      "metadata": {
        "id": "bIkAjAUDp4tY"
      },
      "source": [
        "# 12-3 : 타이타닉 데이터셋을 이용한 모델 학습"
      ]
    },
    {
      "cell_type": "code",
      "metadata": {
        "id": "EW-dLdiLqw2x"
      },
      "source": [
        "titanic_train = pd.read_csv('./train.csv')\n",
        "titanic_test = pd.read_csv('./test.csv')"
      ],
      "execution_count": 28,
      "outputs": []
    },
    {
      "cell_type": "code",
      "metadata": {
        "id": "Unujv3lr4I3Z"
      },
      "source": [
        "titanic_train_dtypes = {}\n",
        "train_dtypes = ['int16', 'int16','category','object','category','float32','int8','int8','object','float32','object','category']\n",
        "\n",
        "for index, value in enumerate(titanic_train.columns):\n",
        "    titanic_train_dtypes[value] = train_dtypes[index]\n",
        "\n",
        "\n",
        "titanic_test_dtypes = {}\n",
        "test_dtypes = ['int16', 'category','object','category','float32','int8','int8','object','float32','object','category']\n",
        "\n",
        "for index, value in enumerate(titanic_test.columns):\n",
        "    titanic_test_dtypes[value] = test_dtypes[index]"
      ],
      "execution_count": 29,
      "outputs": []
    },
    {
      "cell_type": "code",
      "metadata": {
        "id": "zg_SlFKC4uLw"
      },
      "source": [
        "titanic_train = titanic_train.astype(titanic_train_dtypes)\n",
        "titanic_test = titanic_test.astype(titanic_test_dtypes)"
      ],
      "execution_count": 30,
      "outputs": []
    },
    {
      "cell_type": "code",
      "metadata": {
        "colab": {
          "base_uri": "https://localhost:8080/"
        },
        "id": "Yj0cSwars3XG",
        "outputId": "25347bc6-a8f7-4c5f-b73b-d640430b069a"
      },
      "source": [
        "print(titanic_train.shape, titanic_test.shape)"
      ],
      "execution_count": 31,
      "outputs": [
        {
          "output_type": "stream",
          "text": [
            "(891, 12) (418, 11)\n"
          ],
          "name": "stdout"
        }
      ]
    },
    {
      "cell_type": "code",
      "metadata": {
        "colab": {
          "base_uri": "https://localhost:8080/"
        },
        "id": "cm1stzrqs6Ks",
        "outputId": "c3773873-6fe7-4df7-d361-146385fe3970"
      },
      "source": [
        "titanic_train.info()"
      ],
      "execution_count": 32,
      "outputs": [
        {
          "output_type": "stream",
          "text": [
            "<class 'pandas.core.frame.DataFrame'>\n",
            "RangeIndex: 891 entries, 0 to 890\n",
            "Data columns (total 12 columns):\n",
            " #   Column       Non-Null Count  Dtype   \n",
            "---  ------       --------------  -----   \n",
            " 0   PassengerId  891 non-null    int16   \n",
            " 1   Survived     891 non-null    int16   \n",
            " 2   Pclass       891 non-null    category\n",
            " 3   Name         891 non-null    object  \n",
            " 4   Sex          891 non-null    category\n",
            " 5   Age          714 non-null    float32 \n",
            " 6   SibSp        891 non-null    int8    \n",
            " 7   Parch        891 non-null    int8    \n",
            " 8   Ticket       891 non-null    object  \n",
            " 9   Fare         891 non-null    float32 \n",
            " 10  Cabin        204 non-null    object  \n",
            " 11  Embarked     889 non-null    category\n",
            "dtypes: category(3), float32(2), int16(2), int8(2), object(3)\n",
            "memory usage: 36.1+ KB\n"
          ],
          "name": "stdout"
        }
      ]
    },
    {
      "cell_type": "code",
      "metadata": {
        "colab": {
          "base_uri": "https://localhost:8080/"
        },
        "id": "mVK2KBrPs9pL",
        "outputId": "fe238fc2-b9bf-417f-b30b-0184b6c34769"
      },
      "source": [
        "titanic_test.info()"
      ],
      "execution_count": 33,
      "outputs": [
        {
          "output_type": "stream",
          "text": [
            "<class 'pandas.core.frame.DataFrame'>\n",
            "RangeIndex: 418 entries, 0 to 417\n",
            "Data columns (total 11 columns):\n",
            " #   Column       Non-Null Count  Dtype   \n",
            "---  ------       --------------  -----   \n",
            " 0   PassengerId  418 non-null    int16   \n",
            " 1   Pclass       418 non-null    category\n",
            " 2   Name         418 non-null    object  \n",
            " 3   Sex          418 non-null    category\n",
            " 4   Age          332 non-null    float32 \n",
            " 5   SibSp        418 non-null    int8    \n",
            " 6   Parch        418 non-null    int8    \n",
            " 7   Ticket       418 non-null    object  \n",
            " 8   Fare         417 non-null    float32 \n",
            " 9   Cabin        91 non-null     object  \n",
            " 10  Embarked     418 non-null    category\n",
            "dtypes: category(3), float32(2), int16(1), int8(2), object(3)\n",
            "memory usage: 16.3+ KB\n"
          ],
          "name": "stdout"
        }
      ]
    },
    {
      "cell_type": "code",
      "metadata": {
        "colab": {
          "base_uri": "https://localhost:8080/",
          "height": 204
        },
        "id": "7jNYaChqtH23",
        "outputId": "3ebc837c-b29b-40c9-ef46-3878d577435c"
      },
      "source": [
        "titanic_train.head()"
      ],
      "execution_count": 34,
      "outputs": [
        {
          "output_type": "execute_result",
          "data": {
            "text/html": [
              "<div>\n",
              "<style scoped>\n",
              "    .dataframe tbody tr th:only-of-type {\n",
              "        vertical-align: middle;\n",
              "    }\n",
              "\n",
              "    .dataframe tbody tr th {\n",
              "        vertical-align: top;\n",
              "    }\n",
              "\n",
              "    .dataframe thead th {\n",
              "        text-align: right;\n",
              "    }\n",
              "</style>\n",
              "<table border=\"1\" class=\"dataframe\">\n",
              "  <thead>\n",
              "    <tr style=\"text-align: right;\">\n",
              "      <th></th>\n",
              "      <th>PassengerId</th>\n",
              "      <th>Survived</th>\n",
              "      <th>Pclass</th>\n",
              "      <th>Name</th>\n",
              "      <th>Sex</th>\n",
              "      <th>Age</th>\n",
              "      <th>SibSp</th>\n",
              "      <th>Parch</th>\n",
              "      <th>Ticket</th>\n",
              "      <th>Fare</th>\n",
              "      <th>Cabin</th>\n",
              "      <th>Embarked</th>\n",
              "    </tr>\n",
              "  </thead>\n",
              "  <tbody>\n",
              "    <tr>\n",
              "      <th>0</th>\n",
              "      <td>1</td>\n",
              "      <td>0</td>\n",
              "      <td>3</td>\n",
              "      <td>Braund, Mr. Owen Harris</td>\n",
              "      <td>male</td>\n",
              "      <td>22.0</td>\n",
              "      <td>1</td>\n",
              "      <td>0</td>\n",
              "      <td>A/5 21171</td>\n",
              "      <td>7.250000</td>\n",
              "      <td>NaN</td>\n",
              "      <td>S</td>\n",
              "    </tr>\n",
              "    <tr>\n",
              "      <th>1</th>\n",
              "      <td>2</td>\n",
              "      <td>1</td>\n",
              "      <td>1</td>\n",
              "      <td>Cumings, Mrs. John Bradley (Florence Briggs Th...</td>\n",
              "      <td>female</td>\n",
              "      <td>38.0</td>\n",
              "      <td>1</td>\n",
              "      <td>0</td>\n",
              "      <td>PC 17599</td>\n",
              "      <td>71.283302</td>\n",
              "      <td>C85</td>\n",
              "      <td>C</td>\n",
              "    </tr>\n",
              "    <tr>\n",
              "      <th>2</th>\n",
              "      <td>3</td>\n",
              "      <td>1</td>\n",
              "      <td>3</td>\n",
              "      <td>Heikkinen, Miss. Laina</td>\n",
              "      <td>female</td>\n",
              "      <td>26.0</td>\n",
              "      <td>0</td>\n",
              "      <td>0</td>\n",
              "      <td>STON/O2. 3101282</td>\n",
              "      <td>7.925000</td>\n",
              "      <td>NaN</td>\n",
              "      <td>S</td>\n",
              "    </tr>\n",
              "    <tr>\n",
              "      <th>3</th>\n",
              "      <td>4</td>\n",
              "      <td>1</td>\n",
              "      <td>1</td>\n",
              "      <td>Futrelle, Mrs. Jacques Heath (Lily May Peel)</td>\n",
              "      <td>female</td>\n",
              "      <td>35.0</td>\n",
              "      <td>1</td>\n",
              "      <td>0</td>\n",
              "      <td>113803</td>\n",
              "      <td>53.099998</td>\n",
              "      <td>C123</td>\n",
              "      <td>S</td>\n",
              "    </tr>\n",
              "    <tr>\n",
              "      <th>4</th>\n",
              "      <td>5</td>\n",
              "      <td>0</td>\n",
              "      <td>3</td>\n",
              "      <td>Allen, Mr. William Henry</td>\n",
              "      <td>male</td>\n",
              "      <td>35.0</td>\n",
              "      <td>0</td>\n",
              "      <td>0</td>\n",
              "      <td>373450</td>\n",
              "      <td>8.050000</td>\n",
              "      <td>NaN</td>\n",
              "      <td>S</td>\n",
              "    </tr>\n",
              "  </tbody>\n",
              "</table>\n",
              "</div>"
            ],
            "text/plain": [
              "   PassengerId  Survived Pclass  ...       Fare Cabin  Embarked\n",
              "0            1         0      3  ...   7.250000   NaN         S\n",
              "1            2         1      1  ...  71.283302   C85         C\n",
              "2            3         1      3  ...   7.925000   NaN         S\n",
              "3            4         1      1  ...  53.099998  C123         S\n",
              "4            5         0      3  ...   8.050000   NaN         S\n",
              "\n",
              "[5 rows x 12 columns]"
            ]
          },
          "metadata": {
            "tags": []
          },
          "execution_count": 34
        }
      ]
    },
    {
      "cell_type": "code",
      "metadata": {
        "colab": {
          "base_uri": "https://localhost:8080/",
          "height": 204
        },
        "id": "HyE2F6tt5SAe",
        "outputId": "238e4115-e5ae-4331-e12e-b2fe8c47e163"
      },
      "source": [
        "titanic_test.head()"
      ],
      "execution_count": 35,
      "outputs": [
        {
          "output_type": "execute_result",
          "data": {
            "text/html": [
              "<div>\n",
              "<style scoped>\n",
              "    .dataframe tbody tr th:only-of-type {\n",
              "        vertical-align: middle;\n",
              "    }\n",
              "\n",
              "    .dataframe tbody tr th {\n",
              "        vertical-align: top;\n",
              "    }\n",
              "\n",
              "    .dataframe thead th {\n",
              "        text-align: right;\n",
              "    }\n",
              "</style>\n",
              "<table border=\"1\" class=\"dataframe\">\n",
              "  <thead>\n",
              "    <tr style=\"text-align: right;\">\n",
              "      <th></th>\n",
              "      <th>PassengerId</th>\n",
              "      <th>Pclass</th>\n",
              "      <th>Name</th>\n",
              "      <th>Sex</th>\n",
              "      <th>Age</th>\n",
              "      <th>SibSp</th>\n",
              "      <th>Parch</th>\n",
              "      <th>Ticket</th>\n",
              "      <th>Fare</th>\n",
              "      <th>Cabin</th>\n",
              "      <th>Embarked</th>\n",
              "    </tr>\n",
              "  </thead>\n",
              "  <tbody>\n",
              "    <tr>\n",
              "      <th>0</th>\n",
              "      <td>892</td>\n",
              "      <td>3</td>\n",
              "      <td>Kelly, Mr. James</td>\n",
              "      <td>male</td>\n",
              "      <td>34.5</td>\n",
              "      <td>0</td>\n",
              "      <td>0</td>\n",
              "      <td>330911</td>\n",
              "      <td>7.8292</td>\n",
              "      <td>NaN</td>\n",
              "      <td>Q</td>\n",
              "    </tr>\n",
              "    <tr>\n",
              "      <th>1</th>\n",
              "      <td>893</td>\n",
              "      <td>3</td>\n",
              "      <td>Wilkes, Mrs. James (Ellen Needs)</td>\n",
              "      <td>female</td>\n",
              "      <td>47.0</td>\n",
              "      <td>1</td>\n",
              "      <td>0</td>\n",
              "      <td>363272</td>\n",
              "      <td>7.0000</td>\n",
              "      <td>NaN</td>\n",
              "      <td>S</td>\n",
              "    </tr>\n",
              "    <tr>\n",
              "      <th>2</th>\n",
              "      <td>894</td>\n",
              "      <td>2</td>\n",
              "      <td>Myles, Mr. Thomas Francis</td>\n",
              "      <td>male</td>\n",
              "      <td>62.0</td>\n",
              "      <td>0</td>\n",
              "      <td>0</td>\n",
              "      <td>240276</td>\n",
              "      <td>9.6875</td>\n",
              "      <td>NaN</td>\n",
              "      <td>Q</td>\n",
              "    </tr>\n",
              "    <tr>\n",
              "      <th>3</th>\n",
              "      <td>895</td>\n",
              "      <td>3</td>\n",
              "      <td>Wirz, Mr. Albert</td>\n",
              "      <td>male</td>\n",
              "      <td>27.0</td>\n",
              "      <td>0</td>\n",
              "      <td>0</td>\n",
              "      <td>315154</td>\n",
              "      <td>8.6625</td>\n",
              "      <td>NaN</td>\n",
              "      <td>S</td>\n",
              "    </tr>\n",
              "    <tr>\n",
              "      <th>4</th>\n",
              "      <td>896</td>\n",
              "      <td>3</td>\n",
              "      <td>Hirvonen, Mrs. Alexander (Helga E Lindqvist)</td>\n",
              "      <td>female</td>\n",
              "      <td>22.0</td>\n",
              "      <td>1</td>\n",
              "      <td>1</td>\n",
              "      <td>3101298</td>\n",
              "      <td>12.2875</td>\n",
              "      <td>NaN</td>\n",
              "      <td>S</td>\n",
              "    </tr>\n",
              "  </tbody>\n",
              "</table>\n",
              "</div>"
            ],
            "text/plain": [
              "   PassengerId Pclass  ... Cabin Embarked\n",
              "0          892      3  ...   NaN        Q\n",
              "1          893      3  ...   NaN        S\n",
              "2          894      2  ...   NaN        Q\n",
              "3          895      3  ...   NaN        S\n",
              "4          896      3  ...   NaN        S\n",
              "\n",
              "[5 rows x 11 columns]"
            ]
          },
          "metadata": {
            "tags": []
          },
          "execution_count": 35
        }
      ]
    },
    {
      "cell_type": "markdown",
      "metadata": {
        "id": "3WmCwizYtKHC"
      },
      "source": [
        "## 전처리\n",
        "\n",
        "예측에 필요없는 변수 PassengerId, Name, Ticket 제거  \n",
        "결측치가 너무 많은 변수 Cabin 제거  \n",
        "위의 두 변수를 제거한 후에도 결측치가 있는 case 제거"
      ]
    },
    {
      "cell_type": "code",
      "metadata": {
        "id": "c95ErouYx49M"
      },
      "source": [
        "def preprocessing(train, test):\n",
        "    '전처리 후 matrix 형태로 반환'\n",
        "    import patsy\n",
        "\n",
        "    data = pd.concat([train, test], axis = 0)\n",
        "    data.Survived.fillna(value = 999, inplace = True)\n",
        "    \n",
        "    # Name, Ticket, Cabin 변수 제거\n",
        "    data = data.drop(columns = ['Name', 'Ticket', 'Cabin'])\n",
        "    \n",
        "    # 결측치가 있는 케이스 제거\n",
        "    data = data.dropna(axis = 0)\n",
        "    \n",
        "    # matrix 형태로 변환\n",
        "    data_matrix = patsy.dmatrices('Survived ~ -1 + PassengerId + Pclass + Sex + Age + SibSp + Parch + Fare + Embarked',\n",
        "                                  data = data,\n",
        "                                  return_type = 'dataframe')\n",
        "    y = data_matrix[0]\n",
        "    X = data_matrix[1]\n",
        "\n",
        "    y_train = y.loc[y.Survived != 999]    \n",
        "    X_train = X.loc[X.PassengerId <= 891].drop(columns = ['PassengerId'])\n",
        "    X_test = X.loc[X.PassengerId > 891].drop(columns = ['PassengerId'])\n",
        "    \n",
        "    data_dict = {'X_train' : X_train,\n",
        "                 'y_train' : y_train,\n",
        "                 'X_test' : X_test}\n",
        "\n",
        "    return data_dict"
      ],
      "execution_count": 36,
      "outputs": []
    },
    {
      "cell_type": "code",
      "metadata": {
        "id": "9hxFKA4r1Zpx"
      },
      "source": [
        "data_processed = preprocessing(train = titanic_train, test = titanic_test)"
      ],
      "execution_count": 37,
      "outputs": []
    },
    {
      "cell_type": "code",
      "metadata": {
        "colab": {
          "base_uri": "https://localhost:8080/",
          "height": 204
        },
        "id": "lOpMhg9m17z5",
        "outputId": "3848929c-26f4-4707-ea7f-2c24a6e51e59"
      },
      "source": [
        "data_processed['X_train'].head()"
      ],
      "execution_count": 38,
      "outputs": [
        {
          "output_type": "execute_result",
          "data": {
            "text/html": [
              "<div>\n",
              "<style scoped>\n",
              "    .dataframe tbody tr th:only-of-type {\n",
              "        vertical-align: middle;\n",
              "    }\n",
              "\n",
              "    .dataframe tbody tr th {\n",
              "        vertical-align: top;\n",
              "    }\n",
              "\n",
              "    .dataframe thead th {\n",
              "        text-align: right;\n",
              "    }\n",
              "</style>\n",
              "<table border=\"1\" class=\"dataframe\">\n",
              "  <thead>\n",
              "    <tr style=\"text-align: right;\">\n",
              "      <th></th>\n",
              "      <th>Pclass[1]</th>\n",
              "      <th>Pclass[2]</th>\n",
              "      <th>Pclass[3]</th>\n",
              "      <th>Sex[T.male]</th>\n",
              "      <th>Embarked[T.Q]</th>\n",
              "      <th>Embarked[T.S]</th>\n",
              "      <th>Age</th>\n",
              "      <th>SibSp</th>\n",
              "      <th>Parch</th>\n",
              "      <th>Fare</th>\n",
              "    </tr>\n",
              "  </thead>\n",
              "  <tbody>\n",
              "    <tr>\n",
              "      <th>0</th>\n",
              "      <td>0.0</td>\n",
              "      <td>0.0</td>\n",
              "      <td>1.0</td>\n",
              "      <td>1.0</td>\n",
              "      <td>0.0</td>\n",
              "      <td>1.0</td>\n",
              "      <td>22.0</td>\n",
              "      <td>1.0</td>\n",
              "      <td>0.0</td>\n",
              "      <td>7.250000</td>\n",
              "    </tr>\n",
              "    <tr>\n",
              "      <th>1</th>\n",
              "      <td>1.0</td>\n",
              "      <td>0.0</td>\n",
              "      <td>0.0</td>\n",
              "      <td>0.0</td>\n",
              "      <td>0.0</td>\n",
              "      <td>0.0</td>\n",
              "      <td>38.0</td>\n",
              "      <td>1.0</td>\n",
              "      <td>0.0</td>\n",
              "      <td>71.283302</td>\n",
              "    </tr>\n",
              "    <tr>\n",
              "      <th>2</th>\n",
              "      <td>0.0</td>\n",
              "      <td>0.0</td>\n",
              "      <td>1.0</td>\n",
              "      <td>0.0</td>\n",
              "      <td>0.0</td>\n",
              "      <td>1.0</td>\n",
              "      <td>26.0</td>\n",
              "      <td>0.0</td>\n",
              "      <td>0.0</td>\n",
              "      <td>7.925000</td>\n",
              "    </tr>\n",
              "    <tr>\n",
              "      <th>3</th>\n",
              "      <td>1.0</td>\n",
              "      <td>0.0</td>\n",
              "      <td>0.0</td>\n",
              "      <td>0.0</td>\n",
              "      <td>0.0</td>\n",
              "      <td>1.0</td>\n",
              "      <td>35.0</td>\n",
              "      <td>1.0</td>\n",
              "      <td>0.0</td>\n",
              "      <td>53.099998</td>\n",
              "    </tr>\n",
              "    <tr>\n",
              "      <th>4</th>\n",
              "      <td>0.0</td>\n",
              "      <td>0.0</td>\n",
              "      <td>1.0</td>\n",
              "      <td>1.0</td>\n",
              "      <td>0.0</td>\n",
              "      <td>1.0</td>\n",
              "      <td>35.0</td>\n",
              "      <td>0.0</td>\n",
              "      <td>0.0</td>\n",
              "      <td>8.050000</td>\n",
              "    </tr>\n",
              "  </tbody>\n",
              "</table>\n",
              "</div>"
            ],
            "text/plain": [
              "   Pclass[1]  Pclass[2]  Pclass[3]  Sex[T.male]  ...   Age  SibSp  Parch       Fare\n",
              "0        0.0        0.0        1.0          1.0  ...  22.0    1.0    0.0   7.250000\n",
              "1        1.0        0.0        0.0          0.0  ...  38.0    1.0    0.0  71.283302\n",
              "2        0.0        0.0        1.0          0.0  ...  26.0    0.0    0.0   7.925000\n",
              "3        1.0        0.0        0.0          0.0  ...  35.0    1.0    0.0  53.099998\n",
              "4        0.0        0.0        1.0          1.0  ...  35.0    0.0    0.0   8.050000\n",
              "\n",
              "[5 rows x 10 columns]"
            ]
          },
          "metadata": {
            "tags": []
          },
          "execution_count": 38
        }
      ]
    },
    {
      "cell_type": "code",
      "metadata": {
        "colab": {
          "base_uri": "https://localhost:8080/",
          "height": 204
        },
        "id": "Qymy5uxM2ivv",
        "outputId": "2f9675de-e396-4eb9-9069-c3c679985342"
      },
      "source": [
        "data_processed['X_test'].head()"
      ],
      "execution_count": 39,
      "outputs": [
        {
          "output_type": "execute_result",
          "data": {
            "text/html": [
              "<div>\n",
              "<style scoped>\n",
              "    .dataframe tbody tr th:only-of-type {\n",
              "        vertical-align: middle;\n",
              "    }\n",
              "\n",
              "    .dataframe tbody tr th {\n",
              "        vertical-align: top;\n",
              "    }\n",
              "\n",
              "    .dataframe thead th {\n",
              "        text-align: right;\n",
              "    }\n",
              "</style>\n",
              "<table border=\"1\" class=\"dataframe\">\n",
              "  <thead>\n",
              "    <tr style=\"text-align: right;\">\n",
              "      <th></th>\n",
              "      <th>Pclass[1]</th>\n",
              "      <th>Pclass[2]</th>\n",
              "      <th>Pclass[3]</th>\n",
              "      <th>Sex[T.male]</th>\n",
              "      <th>Embarked[T.Q]</th>\n",
              "      <th>Embarked[T.S]</th>\n",
              "      <th>Age</th>\n",
              "      <th>SibSp</th>\n",
              "      <th>Parch</th>\n",
              "      <th>Fare</th>\n",
              "    </tr>\n",
              "  </thead>\n",
              "  <tbody>\n",
              "    <tr>\n",
              "      <th>0</th>\n",
              "      <td>0.0</td>\n",
              "      <td>0.0</td>\n",
              "      <td>1.0</td>\n",
              "      <td>1.0</td>\n",
              "      <td>1.0</td>\n",
              "      <td>0.0</td>\n",
              "      <td>34.5</td>\n",
              "      <td>0.0</td>\n",
              "      <td>0.0</td>\n",
              "      <td>7.8292</td>\n",
              "    </tr>\n",
              "    <tr>\n",
              "      <th>1</th>\n",
              "      <td>0.0</td>\n",
              "      <td>0.0</td>\n",
              "      <td>1.0</td>\n",
              "      <td>0.0</td>\n",
              "      <td>0.0</td>\n",
              "      <td>1.0</td>\n",
              "      <td>47.0</td>\n",
              "      <td>1.0</td>\n",
              "      <td>0.0</td>\n",
              "      <td>7.0000</td>\n",
              "    </tr>\n",
              "    <tr>\n",
              "      <th>2</th>\n",
              "      <td>0.0</td>\n",
              "      <td>1.0</td>\n",
              "      <td>0.0</td>\n",
              "      <td>1.0</td>\n",
              "      <td>1.0</td>\n",
              "      <td>0.0</td>\n",
              "      <td>62.0</td>\n",
              "      <td>0.0</td>\n",
              "      <td>0.0</td>\n",
              "      <td>9.6875</td>\n",
              "    </tr>\n",
              "    <tr>\n",
              "      <th>3</th>\n",
              "      <td>0.0</td>\n",
              "      <td>0.0</td>\n",
              "      <td>1.0</td>\n",
              "      <td>1.0</td>\n",
              "      <td>0.0</td>\n",
              "      <td>1.0</td>\n",
              "      <td>27.0</td>\n",
              "      <td>0.0</td>\n",
              "      <td>0.0</td>\n",
              "      <td>8.6625</td>\n",
              "    </tr>\n",
              "    <tr>\n",
              "      <th>4</th>\n",
              "      <td>0.0</td>\n",
              "      <td>0.0</td>\n",
              "      <td>1.0</td>\n",
              "      <td>0.0</td>\n",
              "      <td>0.0</td>\n",
              "      <td>1.0</td>\n",
              "      <td>22.0</td>\n",
              "      <td>1.0</td>\n",
              "      <td>1.0</td>\n",
              "      <td>12.2875</td>\n",
              "    </tr>\n",
              "  </tbody>\n",
              "</table>\n",
              "</div>"
            ],
            "text/plain": [
              "   Pclass[1]  Pclass[2]  Pclass[3]  Sex[T.male]  ...   Age  SibSp  Parch     Fare\n",
              "0        0.0        0.0        1.0          1.0  ...  34.5    0.0    0.0   7.8292\n",
              "1        0.0        0.0        1.0          0.0  ...  47.0    1.0    0.0   7.0000\n",
              "2        0.0        1.0        0.0          1.0  ...  62.0    0.0    0.0   9.6875\n",
              "3        0.0        0.0        1.0          1.0  ...  27.0    0.0    0.0   8.6625\n",
              "4        0.0        0.0        1.0          0.0  ...  22.0    1.0    1.0  12.2875\n",
              "\n",
              "[5 rows x 10 columns]"
            ]
          },
          "metadata": {
            "tags": []
          },
          "execution_count": 39
        }
      ]
    },
    {
      "cell_type": "code",
      "metadata": {
        "colab": {
          "base_uri": "https://localhost:8080/",
          "height": 204
        },
        "id": "a2jr_TPp2Y5x",
        "outputId": "10a8088c-90a9-445f-8b4c-ddab30ae6d05"
      },
      "source": [
        "data_processed['y_train'].head()"
      ],
      "execution_count": 40,
      "outputs": [
        {
          "output_type": "execute_result",
          "data": {
            "text/html": [
              "<div>\n",
              "<style scoped>\n",
              "    .dataframe tbody tr th:only-of-type {\n",
              "        vertical-align: middle;\n",
              "    }\n",
              "\n",
              "    .dataframe tbody tr th {\n",
              "        vertical-align: top;\n",
              "    }\n",
              "\n",
              "    .dataframe thead th {\n",
              "        text-align: right;\n",
              "    }\n",
              "</style>\n",
              "<table border=\"1\" class=\"dataframe\">\n",
              "  <thead>\n",
              "    <tr style=\"text-align: right;\">\n",
              "      <th></th>\n",
              "      <th>Survived</th>\n",
              "    </tr>\n",
              "  </thead>\n",
              "  <tbody>\n",
              "    <tr>\n",
              "      <th>0</th>\n",
              "      <td>0.0</td>\n",
              "    </tr>\n",
              "    <tr>\n",
              "      <th>1</th>\n",
              "      <td>1.0</td>\n",
              "    </tr>\n",
              "    <tr>\n",
              "      <th>2</th>\n",
              "      <td>1.0</td>\n",
              "    </tr>\n",
              "    <tr>\n",
              "      <th>3</th>\n",
              "      <td>1.0</td>\n",
              "    </tr>\n",
              "    <tr>\n",
              "      <th>4</th>\n",
              "      <td>0.0</td>\n",
              "    </tr>\n",
              "  </tbody>\n",
              "</table>\n",
              "</div>"
            ],
            "text/plain": [
              "   Survived\n",
              "0       0.0\n",
              "1       1.0\n",
              "2       1.0\n",
              "3       1.0\n",
              "4       0.0"
            ]
          },
          "metadata": {
            "tags": []
          },
          "execution_count": 40
        }
      ]
    },
    {
      "cell_type": "code",
      "metadata": {
        "id": "XCgHnSur7EM4"
      },
      "source": [
        "X_train, X_val, y_train, y_val = train_test_split(data_processed['X_train'],\n",
        "                                                  data_processed['y_train'],\n",
        "                                                  train_size = 0.8,\n",
        "                                                  stratify = data_processed['y_train'],\n",
        "                                                  random_state = 20152410)"
      ],
      "execution_count": 41,
      "outputs": []
    },
    {
      "cell_type": "markdown",
      "metadata": {
        "id": "IN_--5XS_n9s"
      },
      "source": [
        "## DecisionTreeClassifier"
      ]
    },
    {
      "cell_type": "code",
      "metadata": {
        "id": "hsh2MSfM8eoU"
      },
      "source": [
        "tree_clf = DecisionTreeClassifier()\n",
        "tree_params = {'max_depth' : list(range(5, 16, 2)),\n",
        "               'min_samples_leaf' : list(range(1, 20, 2))}\n",
        "\n",
        "tree_gridcv = GridSearchCV(tree_clf,\n",
        "                           tree_params,\n",
        "                           cv = 4,\n",
        "                           verbose = 1)"
      ],
      "execution_count": 42,
      "outputs": []
    },
    {
      "cell_type": "code",
      "metadata": {
        "colab": {
          "base_uri": "https://localhost:8080/"
        },
        "id": "Op3u0LcF6W0j",
        "outputId": "b7a9c303-1962-4e57-af86-619d017bb09b"
      },
      "source": [
        "tree_gridcv.fit(X_train, y_train)"
      ],
      "execution_count": 43,
      "outputs": [
        {
          "output_type": "stream",
          "text": [
            "Fitting 4 folds for each of 60 candidates, totalling 240 fits\n"
          ],
          "name": "stdout"
        },
        {
          "output_type": "stream",
          "text": [
            "[Parallel(n_jobs=1)]: Using backend SequentialBackend with 1 concurrent workers.\n",
            "[Parallel(n_jobs=1)]: Done 240 out of 240 | elapsed:    1.0s finished\n"
          ],
          "name": "stderr"
        },
        {
          "output_type": "execute_result",
          "data": {
            "text/plain": [
              "GridSearchCV(cv=4, error_score=nan,\n",
              "             estimator=DecisionTreeClassifier(ccp_alpha=0.0, class_weight=None,\n",
              "                                              criterion='gini', max_depth=None,\n",
              "                                              max_features=None,\n",
              "                                              max_leaf_nodes=None,\n",
              "                                              min_impurity_decrease=0.0,\n",
              "                                              min_impurity_split=None,\n",
              "                                              min_samples_leaf=1,\n",
              "                                              min_samples_split=2,\n",
              "                                              min_weight_fraction_leaf=0.0,\n",
              "                                              presort='deprecated',\n",
              "                                              random_state=None,\n",
              "                                              splitter='best'),\n",
              "             iid='deprecated', n_jobs=None,\n",
              "             param_grid={'max_depth': [5, 7, 9, 11, 13, 15],\n",
              "                         'min_samples_leaf': [1, 3, 5, 7, 9, 11, 13, 15, 17,\n",
              "                                              19]},\n",
              "             pre_dispatch='2*n_jobs', refit=True, return_train_score=False,\n",
              "             scoring=None, verbose=1)"
            ]
          },
          "metadata": {
            "tags": []
          },
          "execution_count": 43
        }
      ]
    },
    {
      "cell_type": "code",
      "metadata": {
        "colab": {
          "base_uri": "https://localhost:8080/",
          "height": 394
        },
        "id": "Zgm1qc7b9C_r",
        "outputId": "ea95c7f0-cf0e-4ace-8d21-e66287acf19f"
      },
      "source": [
        "pd.DataFrame(tree_gridcv.cv_results_).sort_values(by = 'rank_test_score').head()"
      ],
      "execution_count": 44,
      "outputs": [
        {
          "output_type": "execute_result",
          "data": {
            "text/html": [
              "<div>\n",
              "<style scoped>\n",
              "    .dataframe tbody tr th:only-of-type {\n",
              "        vertical-align: middle;\n",
              "    }\n",
              "\n",
              "    .dataframe tbody tr th {\n",
              "        vertical-align: top;\n",
              "    }\n",
              "\n",
              "    .dataframe thead th {\n",
              "        text-align: right;\n",
              "    }\n",
              "</style>\n",
              "<table border=\"1\" class=\"dataframe\">\n",
              "  <thead>\n",
              "    <tr style=\"text-align: right;\">\n",
              "      <th></th>\n",
              "      <th>mean_fit_time</th>\n",
              "      <th>std_fit_time</th>\n",
              "      <th>mean_score_time</th>\n",
              "      <th>std_score_time</th>\n",
              "      <th>param_max_depth</th>\n",
              "      <th>param_min_samples_leaf</th>\n",
              "      <th>params</th>\n",
              "      <th>split0_test_score</th>\n",
              "      <th>split1_test_score</th>\n",
              "      <th>split2_test_score</th>\n",
              "      <th>split3_test_score</th>\n",
              "      <th>mean_test_score</th>\n",
              "      <th>std_test_score</th>\n",
              "      <th>rank_test_score</th>\n",
              "    </tr>\n",
              "  </thead>\n",
              "  <tbody>\n",
              "    <tr>\n",
              "      <th>12</th>\n",
              "      <td>0.002772</td>\n",
              "      <td>0.000728</td>\n",
              "      <td>0.000910</td>\n",
              "      <td>0.000029</td>\n",
              "      <td>7</td>\n",
              "      <td>5</td>\n",
              "      <td>{'max_depth': 7, 'min_samples_leaf': 5}</td>\n",
              "      <td>0.825175</td>\n",
              "      <td>0.767606</td>\n",
              "      <td>0.746479</td>\n",
              "      <td>0.809859</td>\n",
              "      <td>0.787280</td>\n",
              "      <td>0.031613</td>\n",
              "      <td>1</td>\n",
              "    </tr>\n",
              "    <tr>\n",
              "      <th>38</th>\n",
              "      <td>0.002316</td>\n",
              "      <td>0.000051</td>\n",
              "      <td>0.000907</td>\n",
              "      <td>0.000019</td>\n",
              "      <td>11</td>\n",
              "      <td>17</td>\n",
              "      <td>{'max_depth': 11, 'min_samples_leaf': 17}</td>\n",
              "      <td>0.818182</td>\n",
              "      <td>0.767606</td>\n",
              "      <td>0.746479</td>\n",
              "      <td>0.802817</td>\n",
              "      <td>0.783771</td>\n",
              "      <td>0.028279</td>\n",
              "      <td>2</td>\n",
              "    </tr>\n",
              "    <tr>\n",
              "      <th>58</th>\n",
              "      <td>0.002664</td>\n",
              "      <td>0.000443</td>\n",
              "      <td>0.001032</td>\n",
              "      <td>0.000225</td>\n",
              "      <td>15</td>\n",
              "      <td>17</td>\n",
              "      <td>{'max_depth': 15, 'min_samples_leaf': 17}</td>\n",
              "      <td>0.818182</td>\n",
              "      <td>0.767606</td>\n",
              "      <td>0.746479</td>\n",
              "      <td>0.802817</td>\n",
              "      <td>0.783771</td>\n",
              "      <td>0.028279</td>\n",
              "      <td>2</td>\n",
              "    </tr>\n",
              "    <tr>\n",
              "      <th>28</th>\n",
              "      <td>0.002969</td>\n",
              "      <td>0.000569</td>\n",
              "      <td>0.001226</td>\n",
              "      <td>0.000495</td>\n",
              "      <td>9</td>\n",
              "      <td>17</td>\n",
              "      <td>{'max_depth': 9, 'min_samples_leaf': 17}</td>\n",
              "      <td>0.818182</td>\n",
              "      <td>0.767606</td>\n",
              "      <td>0.746479</td>\n",
              "      <td>0.802817</td>\n",
              "      <td>0.783771</td>\n",
              "      <td>0.028279</td>\n",
              "      <td>2</td>\n",
              "    </tr>\n",
              "    <tr>\n",
              "      <th>8</th>\n",
              "      <td>0.002783</td>\n",
              "      <td>0.000484</td>\n",
              "      <td>0.001199</td>\n",
              "      <td>0.000244</td>\n",
              "      <td>5</td>\n",
              "      <td>17</td>\n",
              "      <td>{'max_depth': 5, 'min_samples_leaf': 17}</td>\n",
              "      <td>0.818182</td>\n",
              "      <td>0.767606</td>\n",
              "      <td>0.746479</td>\n",
              "      <td>0.802817</td>\n",
              "      <td>0.783771</td>\n",
              "      <td>0.028279</td>\n",
              "      <td>2</td>\n",
              "    </tr>\n",
              "  </tbody>\n",
              "</table>\n",
              "</div>"
            ],
            "text/plain": [
              "    mean_fit_time  std_fit_time  ...  std_test_score  rank_test_score\n",
              "12       0.002772      0.000728  ...        0.031613                1\n",
              "38       0.002316      0.000051  ...        0.028279                2\n",
              "58       0.002664      0.000443  ...        0.028279                2\n",
              "28       0.002969      0.000569  ...        0.028279                2\n",
              "8        0.002783      0.000484  ...        0.028279                2\n",
              "\n",
              "[5 rows x 14 columns]"
            ]
          },
          "metadata": {
            "tags": []
          },
          "execution_count": 44
        }
      ]
    },
    {
      "cell_type": "code",
      "metadata": {
        "colab": {
          "base_uri": "https://localhost:8080/"
        },
        "id": "i7NeSKsd6W61",
        "outputId": "8efd35e4-4b41-4728-aca2-2f5909c13be8"
      },
      "source": [
        "tree_best_clf = tree_gridcv.best_estimator_\n",
        "tree_best_clf"
      ],
      "execution_count": 45,
      "outputs": [
        {
          "output_type": "execute_result",
          "data": {
            "text/plain": [
              "DecisionTreeClassifier(ccp_alpha=0.0, class_weight=None, criterion='gini',\n",
              "                       max_depth=7, max_features=None, max_leaf_nodes=None,\n",
              "                       min_impurity_decrease=0.0, min_impurity_split=None,\n",
              "                       min_samples_leaf=5, min_samples_split=2,\n",
              "                       min_weight_fraction_leaf=0.0, presort='deprecated',\n",
              "                       random_state=None, splitter='best')"
            ]
          },
          "metadata": {
            "tags": []
          },
          "execution_count": 45
        }
      ]
    },
    {
      "cell_type": "code",
      "metadata": {
        "colab": {
          "base_uri": "https://localhost:8080/"
        },
        "id": "TD2a3BFy-fFf",
        "outputId": "97679266-43ed-4ad5-d28c-f1784c14b82a"
      },
      "source": [
        "y_val_pred_tree = tree_best_clf.predict(X_val)\n",
        "\n",
        "print('DecisionTreeClassifier validation accuracy : {:0.2f}%'.format(100*accuracy_score(y_val, y_val_pred_tree)))\n",
        "print('\\n')\n",
        "print(confusion_matrix(y_val, y_val_pred_tree))\n",
        "print('\\n')\n",
        "print(classification_report(y_val, y_val_pred_tree))"
      ],
      "execution_count": 46,
      "outputs": [
        {
          "output_type": "stream",
          "text": [
            "DecisionTreeClassifier validation accuracy : 78.32%\n",
            "\n",
            "\n",
            "[[76  9]\n",
            " [22 36]]\n",
            "\n",
            "\n",
            "              precision    recall  f1-score   support\n",
            "\n",
            "         0.0       0.78      0.89      0.83        85\n",
            "         1.0       0.80      0.62      0.70        58\n",
            "\n",
            "    accuracy                           0.78       143\n",
            "   macro avg       0.79      0.76      0.76       143\n",
            "weighted avg       0.79      0.78      0.78       143\n",
            "\n"
          ],
          "name": "stdout"
        }
      ]
    },
    {
      "cell_type": "code",
      "metadata": {
        "colab": {
          "base_uri": "https://localhost:8080/"
        },
        "id": "V__u2uwV-Hu2",
        "outputId": "47ba96c3-5ec6-43b4-89c6-4340795565c9"
      },
      "source": [
        "tree_final_clf = tree_gridcv.best_estimator_\n",
        "tree_final_clf.fit(data_processed['X_train'], data_processed['y_train'])\n",
        "\n",
        "y_test_pred_tree = tree_best_clf.predict(data_processed['X_test'])\n",
        "np.unique(y_test_pred_tree, return_counts = True)"
      ],
      "execution_count": 47,
      "outputs": [
        {
          "output_type": "execute_result",
          "data": {
            "text/plain": [
              "(array([0., 1.]), array([220, 111]))"
            ]
          },
          "metadata": {
            "tags": []
          },
          "execution_count": 47
        }
      ]
    },
    {
      "cell_type": "markdown",
      "metadata": {
        "id": "l35deK4Y_tTq"
      },
      "source": [
        "## RandomForestClassifier"
      ]
    },
    {
      "cell_type": "code",
      "metadata": {
        "id": "aF8Z_fVO-Q6l"
      },
      "source": [
        "rf_clf = RandomForestClassifier()\n",
        "rf_params = {'n_estimators' : list(range(25, 201, 25)),\n",
        "             'max_depth' : list(range(3, 14, 2))}\n",
        "\n",
        "rf_gridcv = GridSearchCV(rf_clf,\n",
        "                         rf_params,\n",
        "                         cv = 4,\n",
        "                         verbose = 1)"
      ],
      "execution_count": 48,
      "outputs": []
    },
    {
      "cell_type": "code",
      "metadata": {
        "colab": {
          "base_uri": "https://localhost:8080/"
        },
        "id": "V7HpKoi1_f-K",
        "outputId": "fe54b9b7-60f2-4b69-fb85-f2837232e81c"
      },
      "source": [
        "rf_gridcv.fit(X_train, np.asarray(y_train).reshape(-1))"
      ],
      "execution_count": 49,
      "outputs": [
        {
          "output_type": "stream",
          "text": [
            "[Parallel(n_jobs=1)]: Using backend SequentialBackend with 1 concurrent workers.\n"
          ],
          "name": "stderr"
        },
        {
          "output_type": "stream",
          "text": [
            "Fitting 4 folds for each of 48 candidates, totalling 192 fits\n"
          ],
          "name": "stdout"
        },
        {
          "output_type": "stream",
          "text": [
            "[Parallel(n_jobs=1)]: Done 192 out of 192 | elapsed:   32.8s finished\n"
          ],
          "name": "stderr"
        },
        {
          "output_type": "execute_result",
          "data": {
            "text/plain": [
              "GridSearchCV(cv=4, error_score=nan,\n",
              "             estimator=RandomForestClassifier(bootstrap=True, ccp_alpha=0.0,\n",
              "                                              class_weight=None,\n",
              "                                              criterion='gini', max_depth=None,\n",
              "                                              max_features='auto',\n",
              "                                              max_leaf_nodes=None,\n",
              "                                              max_samples=None,\n",
              "                                              min_impurity_decrease=0.0,\n",
              "                                              min_impurity_split=None,\n",
              "                                              min_samples_leaf=1,\n",
              "                                              min_samples_split=2,\n",
              "                                              min_weight_fraction_leaf=0.0,\n",
              "                                              n_estimators=100, n_jobs=None,\n",
              "                                              oob_score=False,\n",
              "                                              random_state=None, verbose=0,\n",
              "                                              warm_start=False),\n",
              "             iid='deprecated', n_jobs=None,\n",
              "             param_grid={'max_depth': [3, 5, 7, 9, 11, 13],\n",
              "                         'n_estimators': [25, 50, 75, 100, 125, 150, 175, 200]},\n",
              "             pre_dispatch='2*n_jobs', refit=True, return_train_score=False,\n",
              "             scoring=None, verbose=1)"
            ]
          },
          "metadata": {
            "tags": []
          },
          "execution_count": 49
        }
      ]
    },
    {
      "cell_type": "code",
      "metadata": {
        "colab": {
          "base_uri": "https://localhost:8080/",
          "height": 479
        },
        "id": "cfve-l47_zC6",
        "outputId": "c8797fb9-6835-4f41-84a6-16606530010f"
      },
      "source": [
        "pd.DataFrame(rf_gridcv.cv_results_).sort_values(by = 'rank_test_score').head()"
      ],
      "execution_count": 50,
      "outputs": [
        {
          "output_type": "execute_result",
          "data": {
            "text/html": [
              "<div>\n",
              "<style scoped>\n",
              "    .dataframe tbody tr th:only-of-type {\n",
              "        vertical-align: middle;\n",
              "    }\n",
              "\n",
              "    .dataframe tbody tr th {\n",
              "        vertical-align: top;\n",
              "    }\n",
              "\n",
              "    .dataframe thead th {\n",
              "        text-align: right;\n",
              "    }\n",
              "</style>\n",
              "<table border=\"1\" class=\"dataframe\">\n",
              "  <thead>\n",
              "    <tr style=\"text-align: right;\">\n",
              "      <th></th>\n",
              "      <th>mean_fit_time</th>\n",
              "      <th>std_fit_time</th>\n",
              "      <th>mean_score_time</th>\n",
              "      <th>std_score_time</th>\n",
              "      <th>param_max_depth</th>\n",
              "      <th>param_n_estimators</th>\n",
              "      <th>params</th>\n",
              "      <th>split0_test_score</th>\n",
              "      <th>split1_test_score</th>\n",
              "      <th>split2_test_score</th>\n",
              "      <th>split3_test_score</th>\n",
              "      <th>mean_test_score</th>\n",
              "      <th>std_test_score</th>\n",
              "      <th>rank_test_score</th>\n",
              "    </tr>\n",
              "  </thead>\n",
              "  <tbody>\n",
              "    <tr>\n",
              "      <th>21</th>\n",
              "      <td>0.206998</td>\n",
              "      <td>0.003460</td>\n",
              "      <td>0.015814</td>\n",
              "      <td>0.003345</td>\n",
              "      <td>7</td>\n",
              "      <td>150</td>\n",
              "      <td>{'max_depth': 7, 'n_estimators': 150}</td>\n",
              "      <td>0.832168</td>\n",
              "      <td>0.802817</td>\n",
              "      <td>0.767606</td>\n",
              "      <td>0.838028</td>\n",
              "      <td>0.810155</td>\n",
              "      <td>0.027954</td>\n",
              "      <td>1</td>\n",
              "    </tr>\n",
              "    <tr>\n",
              "      <th>10</th>\n",
              "      <td>0.101966</td>\n",
              "      <td>0.003018</td>\n",
              "      <td>0.007871</td>\n",
              "      <td>0.000944</td>\n",
              "      <td>5</td>\n",
              "      <td>75</td>\n",
              "      <td>{'max_depth': 5, 'n_estimators': 75}</td>\n",
              "      <td>0.832168</td>\n",
              "      <td>0.788732</td>\n",
              "      <td>0.760563</td>\n",
              "      <td>0.852113</td>\n",
              "      <td>0.808394</td>\n",
              "      <td>0.035885</td>\n",
              "      <td>2</td>\n",
              "    </tr>\n",
              "    <tr>\n",
              "      <th>23</th>\n",
              "      <td>0.283961</td>\n",
              "      <td>0.006309</td>\n",
              "      <td>0.018726</td>\n",
              "      <td>0.000776</td>\n",
              "      <td>7</td>\n",
              "      <td>200</td>\n",
              "      <td>{'max_depth': 7, 'n_estimators': 200}</td>\n",
              "      <td>0.832168</td>\n",
              "      <td>0.795775</td>\n",
              "      <td>0.767606</td>\n",
              "      <td>0.830986</td>\n",
              "      <td>0.806634</td>\n",
              "      <td>0.026861</td>\n",
              "      <td>3</td>\n",
              "    </tr>\n",
              "    <tr>\n",
              "      <th>40</th>\n",
              "      <td>0.037749</td>\n",
              "      <td>0.000788</td>\n",
              "      <td>0.003506</td>\n",
              "      <td>0.000026</td>\n",
              "      <td>13</td>\n",
              "      <td>25</td>\n",
              "      <td>{'max_depth': 13, 'n_estimators': 25}</td>\n",
              "      <td>0.839161</td>\n",
              "      <td>0.795775</td>\n",
              "      <td>0.753521</td>\n",
              "      <td>0.838028</td>\n",
              "      <td>0.806621</td>\n",
              "      <td>0.035293</td>\n",
              "      <td>4</td>\n",
              "    </tr>\n",
              "    <tr>\n",
              "      <th>19</th>\n",
              "      <td>0.139880</td>\n",
              "      <td>0.004235</td>\n",
              "      <td>0.010851</td>\n",
              "      <td>0.001008</td>\n",
              "      <td>7</td>\n",
              "      <td>100</td>\n",
              "      <td>{'max_depth': 7, 'n_estimators': 100}</td>\n",
              "      <td>0.860140</td>\n",
              "      <td>0.781690</td>\n",
              "      <td>0.760563</td>\n",
              "      <td>0.823944</td>\n",
              "      <td>0.806584</td>\n",
              "      <td>0.038429</td>\n",
              "      <td>5</td>\n",
              "    </tr>\n",
              "  </tbody>\n",
              "</table>\n",
              "</div>"
            ],
            "text/plain": [
              "    mean_fit_time  std_fit_time  ...  std_test_score  rank_test_score\n",
              "21       0.206998      0.003460  ...        0.027954                1\n",
              "10       0.101966      0.003018  ...        0.035885                2\n",
              "23       0.283961      0.006309  ...        0.026861                3\n",
              "40       0.037749      0.000788  ...        0.035293                4\n",
              "19       0.139880      0.004235  ...        0.038429                5\n",
              "\n",
              "[5 rows x 14 columns]"
            ]
          },
          "metadata": {
            "tags": []
          },
          "execution_count": 50
        }
      ]
    },
    {
      "cell_type": "code",
      "metadata": {
        "colab": {
          "base_uri": "https://localhost:8080/"
        },
        "id": "1CRJzSvDACfJ",
        "outputId": "7ae75887-6497-4f6b-e545-542246cc7488"
      },
      "source": [
        "rf_best_clf = rf_gridcv.best_estimator_\n",
        "rf_best_clf"
      ],
      "execution_count": 51,
      "outputs": [
        {
          "output_type": "execute_result",
          "data": {
            "text/plain": [
              "RandomForestClassifier(bootstrap=True, ccp_alpha=0.0, class_weight=None,\n",
              "                       criterion='gini', max_depth=7, max_features='auto',\n",
              "                       max_leaf_nodes=None, max_samples=None,\n",
              "                       min_impurity_decrease=0.0, min_impurity_split=None,\n",
              "                       min_samples_leaf=1, min_samples_split=2,\n",
              "                       min_weight_fraction_leaf=0.0, n_estimators=150,\n",
              "                       n_jobs=None, oob_score=False, random_state=None,\n",
              "                       verbose=0, warm_start=False)"
            ]
          },
          "metadata": {
            "tags": []
          },
          "execution_count": 51
        }
      ]
    },
    {
      "cell_type": "code",
      "metadata": {
        "colab": {
          "base_uri": "https://localhost:8080/"
        },
        "id": "KjROvnLoACnv",
        "outputId": "c72c8b81-606a-4ecd-c428-9e9e96ca62db"
      },
      "source": [
        "y_val_pred_rf = rf_best_clf.predict(X_val)\n",
        "\n",
        "print('RandomForestClassifier validation accuracy : {:0.2f}%'.format(100*accuracy_score(y_val, y_val_pred_rf)))\n",
        "print('\\n')\n",
        "print(confusion_matrix(y_val, y_val_pred_rf))\n",
        "print('\\n')\n",
        "print(classification_report(y_val, y_val_pred_rf))"
      ],
      "execution_count": 52,
      "outputs": [
        {
          "output_type": "stream",
          "text": [
            "RandomForestClassifier validation accuracy : 79.02%\n",
            "\n",
            "\n",
            "[[73 12]\n",
            " [18 40]]\n",
            "\n",
            "\n",
            "              precision    recall  f1-score   support\n",
            "\n",
            "         0.0       0.80      0.86      0.83        85\n",
            "         1.0       0.77      0.69      0.73        58\n",
            "\n",
            "    accuracy                           0.79       143\n",
            "   macro avg       0.79      0.77      0.78       143\n",
            "weighted avg       0.79      0.79      0.79       143\n",
            "\n"
          ],
          "name": "stdout"
        }
      ]
    },
    {
      "cell_type": "code",
      "metadata": {
        "colab": {
          "base_uri": "https://localhost:8080/"
        },
        "id": "3rppRKz8ACw0",
        "outputId": "07b1f936-43f1-4838-8620-253a86c807e0"
      },
      "source": [
        "rf_final_clf = rf_gridcv.best_estimator_\n",
        "rf_final_clf.fit(data_processed['X_train'], np.asarray(data_processed['y_train']).reshape(-1))\n",
        "\n",
        "y_test_pred_rf = tree_best_clf.predict(data_processed['X_test'])\n",
        "np.unique(y_test_pred_rf, return_counts = True)"
      ],
      "execution_count": 53,
      "outputs": [
        {
          "output_type": "execute_result",
          "data": {
            "text/plain": [
              "(array([0., 1.]), array([220, 111]))"
            ]
          },
          "metadata": {
            "tags": []
          },
          "execution_count": 53
        }
      ]
    }
  ]
}