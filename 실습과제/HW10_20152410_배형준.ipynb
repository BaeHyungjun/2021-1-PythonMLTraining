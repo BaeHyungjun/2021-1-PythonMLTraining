{
  "nbformat": 4,
  "nbformat_minor": 0,
  "metadata": {
    "colab": {
      "name": "HW10_20152410_배형준.ipynb",
      "provenance": [],
      "collapsed_sections": []
    },
    "kernelspec": {
      "name": "python3",
      "display_name": "Python 3"
    },
    "language_info": {
      "name": "python"
    }
  },
  "cells": [
    {
      "cell_type": "markdown",
      "metadata": {
        "id": "kVHF9KL4FaL8"
      },
      "source": [
        "# 10-1 : knn classifier with mnist dataset"
      ]
    },
    {
      "cell_type": "code",
      "metadata": {
        "id": "sruw55X7fvBY"
      },
      "source": [
        "import numpy as np\n",
        "import pandas as pd\n",
        "import matplotlib\n",
        "import matplotlib.pyplot as plt"
      ],
      "execution_count": 1,
      "outputs": []
    },
    {
      "cell_type": "code",
      "metadata": {
        "colab": {
          "base_uri": "https://localhost:8080/"
        },
        "id": "kcIXUekTgGUs",
        "outputId": "16bd9ced-3c32-448f-b26f-31254062b4df"
      },
      "source": [
        "from sklearn.datasets import fetch_openml\n",
        "\n",
        "mnist_dataset = fetch_openml('mnist_784',\n",
        "                             as_frame = False)\n",
        "\n",
        "print(mnist_dataset.DESCR)"
      ],
      "execution_count": 2,
      "outputs": [
        {
          "output_type": "stream",
          "text": [
            "**Author**: Yann LeCun, Corinna Cortes, Christopher J.C. Burges  \n",
            "**Source**: [MNIST Website](http://yann.lecun.com/exdb/mnist/) - Date unknown  \n",
            "**Please cite**:  \n",
            "\n",
            "The MNIST database of handwritten digits with 784 features, raw data available at: http://yann.lecun.com/exdb/mnist/. It can be split in a training set of the first 60,000 examples, and a test set of 10,000 examples  \n",
            "\n",
            "It is a subset of a larger set available from NIST. The digits have been size-normalized and centered in a fixed-size image. It is a good database for people who want to try learning techniques and pattern recognition methods on real-world data while spending minimal efforts on preprocessing and formatting. The original black and white (bilevel) images from NIST were size normalized to fit in a 20x20 pixel box while preserving their aspect ratio. The resulting images contain grey levels as a result of the anti-aliasing technique used by the normalization algorithm. the images were centered in a 28x28 image by computing the center of mass of the pixels, and translating the image so as to position this point at the center of the 28x28 field.  \n",
            "\n",
            "With some classification methods (particularly template-based methods, such as SVM and K-nearest neighbors), the error rate improves when the digits are centered by bounding box rather than center of mass. If you do this kind of pre-processing, you should report it in your publications. The MNIST database was constructed from NIST's NIST originally designated SD-3 as their training set and SD-1 as their test set. However, SD-3 is much cleaner and easier to recognize than SD-1. The reason for this can be found on the fact that SD-3 was collected among Census Bureau employees, while SD-1 was collected among high-school students. Drawing sensible conclusions from learning experiments requires that the result be independent of the choice of training set and test among the complete set of samples. Therefore it was necessary to build a new database by mixing NIST's datasets.  \n",
            "\n",
            "The MNIST training set is composed of 30,000 patterns from SD-3 and 30,000 patterns from SD-1. Our test set was composed of 5,000 patterns from SD-3 and 5,000 patterns from SD-1. The 60,000 pattern training set contained examples from approximately 250 writers. We made sure that the sets of writers of the training set and test set were disjoint. SD-1 contains 58,527 digit images written by 500 different writers. In contrast to SD-3, where blocks of data from each writer appeared in sequence, the data in SD-1 is scrambled. Writer identities for SD-1 is available and we used this information to unscramble the writers. We then split SD-1 in two: characters written by the first 250 writers went into our new training set. The remaining 250 writers were placed in our test set. Thus we had two sets with nearly 30,000 examples each. The new training set was completed with enough examples from SD-3, starting at pattern # 0, to make a full set of 60,000 training patterns. Similarly, the new test set was completed with SD-3 examples starting at pattern # 35,000 to make a full set with 60,000 test patterns. Only a subset of 10,000 test images (5,000 from SD-1 and 5,000 from SD-3) is available on this site. The full 60,000 sample training set is available.\n",
            "\n",
            "Downloaded from openml.org.\n"
          ],
          "name": "stdout"
        }
      ]
    },
    {
      "cell_type": "code",
      "metadata": {
        "id": "GiS4Q626jhHX"
      },
      "source": [
        "def mnist_stratified_sampling(target):\n",
        "    '''각 숫자별로 1100개씩 총 11000개 샘플 추출'''\n",
        "    np.random.seed(20152410)\n",
        "    index_list = [np.random.permutation(np.where(target == i)[0])[:1100]\n",
        "                  for i in range(10)]\n",
        "    index = np.concatenate(index_list)\n",
        "    \n",
        "    return index"
      ],
      "execution_count": 3,
      "outputs": []
    },
    {
      "cell_type": "code",
      "metadata": {
        "id": "kng4xMmVjmyn"
      },
      "source": [
        "X = mnist_dataset['data']\n",
        "y = mnist_dataset['target'].astype('int')\n",
        "\n",
        "sample_index = mnist_stratified_sampling(y)\n",
        "X_small = X[sample_index]\n",
        "y_small = y[sample_index]\n",
        "\n",
        "from sklearn.model_selection import StratifiedKFold\n",
        "\n",
        "stratified_kfold = StratifiedKFold(n_splits = 11)\n",
        "\n",
        "for train_index, test_index in stratified_kfold.split(X_small, y_small):\n",
        "    # train : 10000, test : 1000\n",
        "    X_train, X_test = X_small[train_index], X_small[test_index]\n",
        "    y_train, y_test = y_small[train_index], y_small[test_index]"
      ],
      "execution_count": 4,
      "outputs": []
    },
    {
      "cell_type": "code",
      "metadata": {
        "colab": {
          "base_uri": "https://localhost:8080/"
        },
        "id": "eO_L6DXVnSKc",
        "outputId": "c2b9cfeb-974f-4d0e-9a52-ea7eb8f7fd55"
      },
      "source": [
        "X_train.shape, X_test.shape, y_train.shape, y_test.shape"
      ],
      "execution_count": 5,
      "outputs": [
        {
          "output_type": "execute_result",
          "data": {
            "text/plain": [
              "((10000, 784), (1000, 784), (10000,), (1000,))"
            ]
          },
          "metadata": {
            "tags": []
          },
          "execution_count": 5
        }
      ]
    },
    {
      "cell_type": "code",
      "metadata": {
        "id": "vXeBzuWalHYV"
      },
      "source": [
        "import time\n",
        "from sklearn.model_selection import cross_val_score\n",
        "from sklearn.metrics import make_scorer\n",
        "from sklearn.metrics import accuracy_score\n",
        "from sklearn.neighbors import KNeighborsClassifier\n",
        "\n",
        "k_neighbors_list = list(range(3, 8))\n",
        "\n",
        "knn_uniform_cv_score = [cross_val_score(KNeighborsClassifier(n_neighbors = k, weights = 'uniform'),\n",
        "                                        cv = 3,\n",
        "                                        X = X_train,\n",
        "                                        y = y_train,\n",
        "                                        scoring = make_scorer(accuracy_score)).mean() for k in k_neighbors_list]\n",
        "\n",
        "knn_distance_cv_score = [cross_val_score(KNeighborsClassifier(n_neighbors = k, weights = 'distance'),\n",
        "                                         cv = 3,\n",
        "                                         X = X_train,\n",
        "                                         y = y_train,\n",
        "                                         scoring = make_scorer(accuracy_score)).mean() for k in k_neighbors_list]"
      ],
      "execution_count": 6,
      "outputs": []
    },
    {
      "cell_type": "code",
      "metadata": {
        "colab": {
          "base_uri": "https://localhost:8080/",
          "height": 297
        },
        "id": "6y5-iZXvqF0W",
        "outputId": "73bc1968-8b5e-4217-c0ef-6c98de5ddb09"
      },
      "source": [
        "plt.figure(figsize = (6, 4))\n",
        "plt.plot(k_neighbors_list, knn_uniform_cv_score, 'bo-', label = 'uniform')\n",
        "plt.plot(k_neighbors_list, knn_distance_cv_score, 'ro-', label = 'distance')\n",
        "\n",
        "plt.title('KNN classifier CV accuracy', fontsize = 15)\n",
        "plt.legend()\n",
        "plt.tight_layout()\n",
        "plt.show()"
      ],
      "execution_count": 7,
      "outputs": [
        {
          "output_type": "display_data",
          "data": {
            "image/png": "[encoded data removed]",
            "text/plain": [
              "<Figure size 432x288 with 1 Axes>"
            ]
          },
          "metadata": {
            "tags": [],
            "needs_background": "light"
          }
        }
      ]
    },
    {
      "cell_type": "code",
      "metadata": {
        "id": "GP9cVtLMrF5J"
      },
      "source": [
        "from sklearn.metrics import confusion_matrix, classification_report\n",
        "\n",
        "best_k = 4\n",
        "best_weights = 'distance'\n",
        "\n",
        "best_knn_clf = KNeighborsClassifier(n_neighbors = best_k,\n",
        "                                    weights = best_weights)\n",
        "best_knn_clf.fit(X_train, y_train)\n",
        "knn_y_pred = best_knn_clf.predict(X_test)"
      ],
      "execution_count": 8,
      "outputs": []
    },
    {
      "cell_type": "code",
      "metadata": {
        "colab": {
          "base_uri": "https://localhost:8080/"
        },
        "id": "4UYGvhessy8F",
        "outputId": "49260132-e233-4afb-d69e-7616f64d8f67"
      },
      "source": [
        "print(\"KNN classifier test accuracy : \", accuracy_score(y_test, knn_y_pred))\n",
        "print(\"\\n\")\n",
        "print(confusion_matrix(y_test, knn_y_pred))\n",
        "print(\"\\n\")\n",
        "print(classification_report(y_test, knn_y_pred))"
      ],
      "execution_count": 9,
      "outputs": [
        {
          "output_type": "stream",
          "text": [
            "KNN classifier test accuracy :  0.952\n",
            "\n",
            "\n",
            "[[99  0  0  0  0  1  0  0  0  0]\n",
            " [ 0 99  1  0  0  0  0  0  0  0]\n",
            " [ 1  0 92  0  2  0  0  5  0  0]\n",
            " [ 0  0  1 93  1  4  0  0  1  0]\n",
            " [ 0  3  0  0 92  0  0  1  0  4]\n",
            " [ 1  1  0  1  0 95  1  0  0  1]\n",
            " [ 2  0  0  0  0  1 97  0  0  0]\n",
            " [ 0  1  0  1  0  0  0 98  0  0]\n",
            " [ 1  1  0  1  1  2  0  0 92  2]\n",
            " [ 0  1  0  0  1  0  0  3  0 95]]\n",
            "\n",
            "\n",
            "              precision    recall  f1-score   support\n",
            "\n",
            "           0       0.95      0.99      0.97       100\n",
            "           1       0.93      0.99      0.96       100\n",
            "           2       0.98      0.92      0.95       100\n",
            "           3       0.97      0.93      0.95       100\n",
            "           4       0.95      0.92      0.93       100\n",
            "           5       0.92      0.95      0.94       100\n",
            "           6       0.99      0.97      0.98       100\n",
            "           7       0.92      0.98      0.95       100\n",
            "           8       0.99      0.92      0.95       100\n",
            "           9       0.93      0.95      0.94       100\n",
            "\n",
            "    accuracy                           0.95      1000\n",
            "   macro avg       0.95      0.95      0.95      1000\n",
            "weighted avg       0.95      0.95      0.95      1000\n",
            "\n"
          ],
          "name": "stdout"
        }
      ]
    },
    {
      "cell_type": "markdown",
      "metadata": {
        "id": "_4aUWu0errVp"
      },
      "source": [
        "# 10-2 : mlp classifier with mnist dataset"
      ]
    },
    {
      "cell_type": "code",
      "metadata": {
        "id": "I_ltLre1rvAJ"
      },
      "source": [
        "from sklearn.neural_network import MLPClassifier\n",
        "\n",
        "mlp_clf = MLPClassifier(hidden_layer_sizes = 128,\n",
        "                        early_stopping = True,\n",
        "                        random_state = 20152410)\n",
        "mlp_clf.fit(X_train, y_train)\n",
        "mlp_y_pred = mlp_clf.predict(X_test)"
      ],
      "execution_count": 10,
      "outputs": []
    },
    {
      "cell_type": "code",
      "metadata": {
        "colab": {
          "base_uri": "https://localhost:8080/"
        },
        "id": "lk20Ixqoscbq",
        "outputId": "6d9e9971-19ed-44f0-a960-5741a534fa44"
      },
      "source": [
        "print(\"MLP classifier test accuracy : \", accuracy_score(y_test, mlp_y_pred))\n",
        "print(\"\\n\")\n",
        "print(confusion_matrix(y_test, mlp_y_pred))\n",
        "print(\"\\n\")\n",
        "print(classification_report(y_test, mlp_y_pred))"
      ],
      "execution_count": 11,
      "outputs": [
        {
          "output_type": "stream",
          "text": [
            "MLP classifier test accuracy :  0.928\n",
            "\n",
            "\n",
            "[[96  0  1  0  0  0  1  0  1  1]\n",
            " [ 0 97  1  0  1  0  0  0  1  0]\n",
            " [ 0  1 94  0  1  0  1  2  1  0]\n",
            " [ 0  0  3 92  0  1  0  0  4  0]\n",
            " [ 1  0  0  0 92  0  2  0  1  4]\n",
            " [ 0  0  1  2  1 86  2  0  7  1]\n",
            " [ 1  0  1  0  0  2 95  0  1  0]\n",
            " [ 1  1  3  0  0  0  0 92  1  2]\n",
            " [ 0  0  2  1  0  2  2  0 93  0]\n",
            " [ 0  0  0  1  2  0  0  6  0 91]]\n",
            "\n",
            "\n",
            "              precision    recall  f1-score   support\n",
            "\n",
            "           0       0.97      0.96      0.96       100\n",
            "           1       0.98      0.97      0.97       100\n",
            "           2       0.89      0.94      0.91       100\n",
            "           3       0.96      0.92      0.94       100\n",
            "           4       0.95      0.92      0.93       100\n",
            "           5       0.95      0.86      0.90       100\n",
            "           6       0.92      0.95      0.94       100\n",
            "           7       0.92      0.92      0.92       100\n",
            "           8       0.85      0.93      0.89       100\n",
            "           9       0.92      0.91      0.91       100\n",
            "\n",
            "    accuracy                           0.93      1000\n",
            "   macro avg       0.93      0.93      0.93      1000\n",
            "weighted avg       0.93      0.93      0.93      1000\n",
            "\n"
          ],
          "name": "stdout"
        }
      ]
    },
    {
      "cell_type": "markdown",
      "metadata": {
        "id": "2sYJYHpLfFgy"
      },
      "source": [
        "# 10-3 : naive bayes with mnist dataset"
      ]
    },
    {
      "cell_type": "code",
      "metadata": {
        "id": "zEWS85tht0ji"
      },
      "source": [
        "from sklearn.naive_bayes import GaussianNB, MultinomialNB\n",
        "\n",
        "gnb_clf = GaussianNB()\n",
        "gnb_clf.fit(X_train, y_train)\n",
        "gnb_y_pred = gnb_clf.predict(X_test)"
      ],
      "execution_count": 12,
      "outputs": []
    },
    {
      "cell_type": "code",
      "metadata": {
        "colab": {
          "base_uri": "https://localhost:8080/"
        },
        "id": "ZDy2jCoHuEs6",
        "outputId": "a7e4339b-60ed-4ecf-a481-fb3340f8c79d"
      },
      "source": [
        "print(\"GaussianNB classifier test accuracy : \", accuracy_score(y_test, gnb_y_pred))\n",
        "print(\"\\n\")\n",
        "print(confusion_matrix(y_test, gnb_y_pred))\n",
        "print(\"\\n\")\n",
        "print(classification_report(y_test, gnb_y_pred))"
      ],
      "execution_count": 13,
      "outputs": [
        {
          "output_type": "stream",
          "text": [
            "GaussianNB classifier test accuracy :  0.582\n",
            "\n",
            "\n",
            "[[90  1  1  0  0  0  2  0  3  3]\n",
            " [ 0 97  0  0  0  0  2  0  1  0]\n",
            " [ 5  9 24 21  2  1 22  0 13  3]\n",
            " [ 4 11  1 72  0  0  4  1  2  5]\n",
            " [ 5  3  0  3 21  1 16  4  4 43]\n",
            " [16  9  1 14  0  9  8  0 32 11]\n",
            " [ 1  2  0  1  0  1 94  0  1  0]\n",
            " [ 1  1  0  3  0  1  0 41  0 53]\n",
            " [ 2 26  0  3  1  0  4  0 39 25]\n",
            " [ 0  2  0  1  1  1  0  0  0 95]]\n",
            "\n",
            "\n",
            "              precision    recall  f1-score   support\n",
            "\n",
            "           0       0.73      0.90      0.80       100\n",
            "           1       0.60      0.97      0.74       100\n",
            "           2       0.89      0.24      0.38       100\n",
            "           3       0.61      0.72      0.66       100\n",
            "           4       0.84      0.21      0.34       100\n",
            "           5       0.64      0.09      0.16       100\n",
            "           6       0.62      0.94      0.75       100\n",
            "           7       0.89      0.41      0.56       100\n",
            "           8       0.41      0.39      0.40       100\n",
            "           9       0.40      0.95      0.56       100\n",
            "\n",
            "    accuracy                           0.58      1000\n",
            "   macro avg       0.66      0.58      0.53      1000\n",
            "weighted avg       0.66      0.58      0.53      1000\n",
            "\n"
          ],
          "name": "stdout"
        }
      ]
    },
    {
      "cell_type": "code",
      "metadata": {
        "id": "P_fpzw1IuTS5"
      },
      "source": [
        "mnb_clf = MultinomialNB()\n",
        "mnb_clf.fit(X_train, y_train)\n",
        "mnb_y_pred = mnb_clf.predict(X_test)"
      ],
      "execution_count": 14,
      "outputs": []
    },
    {
      "cell_type": "code",
      "metadata": {
        "colab": {
          "base_uri": "https://localhost:8080/"
        },
        "id": "Fh5M0lUEuYlA",
        "outputId": "58ebb0a5-a54b-48fd-c432-511d76e53980"
      },
      "source": [
        "print(\"MultinomialNB classifier test accuracy : \", accuracy_score(y_test, mnb_y_pred))\n",
        "print(\"\\n\")\n",
        "print(confusion_matrix(y_test, mnb_y_pred))\n",
        "print(\"\\n\")\n",
        "print(classification_report(y_test, mnb_y_pred))"
      ],
      "execution_count": 15,
      "outputs": [
        {
          "output_type": "stream",
          "text": [
            "MultinomialNB classifier test accuracy :  0.816\n",
            "\n",
            "\n",
            "[[84  0  1  0  0  2  3  0 10  0]\n",
            " [ 0 93  1  1  0  0  0  0  5  0]\n",
            " [ 1  2 78  3  3  0  5  1  7  0]\n",
            " [ 1  1  5 82  1  4  0  0  6  0]\n",
            " [ 0  1  1  0 69  2  4  0  7 16]\n",
            " [ 1  2  0 12  0 65  3  0 15  2]\n",
            " [ 1  1  0  0  0  3 94  0  1  0]\n",
            " [ 1  3  0  0  2  0  0 83  3  8]\n",
            " [ 1  4  0  1  1  1  1  0 84  7]\n",
            " [ 0  1  0  0  7  0  0  5  3 84]]\n",
            "\n",
            "\n",
            "              precision    recall  f1-score   support\n",
            "\n",
            "           0       0.93      0.84      0.88       100\n",
            "           1       0.86      0.93      0.89       100\n",
            "           2       0.91      0.78      0.84       100\n",
            "           3       0.83      0.82      0.82       100\n",
            "           4       0.83      0.69      0.75       100\n",
            "           5       0.84      0.65      0.73       100\n",
            "           6       0.85      0.94      0.90       100\n",
            "           7       0.93      0.83      0.88       100\n",
            "           8       0.60      0.84      0.70       100\n",
            "           9       0.72      0.84      0.77       100\n",
            "\n",
            "    accuracy                           0.82      1000\n",
            "   macro avg       0.83      0.82      0.82      1000\n",
            "weighted avg       0.83      0.82      0.82      1000\n",
            "\n"
          ],
          "name": "stdout"
        }
      ]
    },
    {
      "cell_type": "markdown",
      "metadata": {
        "id": "g9PTqfMBfFqy"
      },
      "source": [
        "# 10-4 : logistic regression with iris dataset"
      ]
    },
    {
      "cell_type": "code",
      "metadata": {
        "colab": {
          "base_uri": "https://localhost:8080/"
        },
        "id": "ZcrxqU22uP2o",
        "outputId": "cc4faf4f-db51-4b20-839b-f276e171625b"
      },
      "source": [
        "from sklearn.datasets import load_iris\n",
        "from sklearn.linear_model import LogisticRegression\n",
        "\n",
        "iris_dataset = load_iris()\n",
        "\n",
        "print(iris_dataset.DESCR)"
      ],
      "execution_count": 16,
      "outputs": [
        {
          "output_type": "stream",
          "text": [
            ".. _iris_dataset:\n",
            "\n",
            "Iris plants dataset\n",
            "--------------------\n",
            "\n",
            "**Data Set Characteristics:**\n",
            "\n",
            "    :Number of Instances: 150 (50 in each of three classes)\n",
            "    :Number of Attributes: 4 numeric, predictive attributes and the class\n",
            "    :Attribute Information:\n",
            "        - sepal length in cm\n",
            "        - sepal width in cm\n",
            "        - petal length in cm\n",
            "        - petal width in cm\n",
            "        - class:\n",
            "                - Iris-Setosa\n",
            "                - Iris-Versicolour\n",
            "                - Iris-Virginica\n",
            "                \n",
            "    :Summary Statistics:\n",
            "\n",
            "    ============== ==== ==== ======= ===== ====================\n",
            "                    Min  Max   Mean    SD   Class Correlation\n",
            "    ============== ==== ==== ======= ===== ====================\n",
            "    sepal length:   4.3  7.9   5.84   0.83    0.7826\n",
            "    sepal width:    2.0  4.4   3.05   0.43   -0.4194\n",
            "    petal length:   1.0  6.9   3.76   1.76    0.9490  (high!)\n",
            "    petal width:    0.1  2.5   1.20   0.76    0.9565  (high!)\n",
            "    ============== ==== ==== ======= ===== ====================\n",
            "\n",
            "    :Missing Attribute Values: None\n",
            "    :Class Distribution: 33.3% for each of 3 classes.\n",
            "    :Creator: R.A. Fisher\n",
            "    :Donor: Michael Marshall (MARSHALL%PLU@io.arc.nasa.gov)\n",
            "    :Date: July, 1988\n",
            "\n",
            "The famous Iris database, first used by Sir R.A. Fisher. The dataset is taken\n",
            "from Fisher's paper. Note that it's the same as in R, but not as in the UCI\n",
            "Machine Learning Repository, which has two wrong data points.\n",
            "\n",
            "This is perhaps the best known database to be found in the\n",
            "pattern recognition literature.  Fisher's paper is a classic in the field and\n",
            "is referenced frequently to this day.  (See Duda & Hart, for example.)  The\n",
            "data set contains 3 classes of 50 instances each, where each class refers to a\n",
            "type of iris plant.  One class is linearly separable from the other 2; the\n",
            "latter are NOT linearly separable from each other.\n",
            "\n",
            ".. topic:: References\n",
            "\n",
            "   - Fisher, R.A. \"The use of multiple measurements in taxonomic problems\"\n",
            "     Annual Eugenics, 7, Part II, 179-188 (1936); also in \"Contributions to\n",
            "     Mathematical Statistics\" (John Wiley, NY, 1950).\n",
            "   - Duda, R.O., & Hart, P.E. (1973) Pattern Classification and Scene Analysis.\n",
            "     (Q327.D83) John Wiley & Sons.  ISBN 0-471-22361-1.  See page 218.\n",
            "   - Dasarathy, B.V. (1980) \"Nosing Around the Neighborhood: A New System\n",
            "     Structure and Classification Rule for Recognition in Partially Exposed\n",
            "     Environments\".  IEEE Transactions on Pattern Analysis and Machine\n",
            "     Intelligence, Vol. PAMI-2, No. 1, 67-71.\n",
            "   - Gates, G.W. (1972) \"The Reduced Nearest Neighbor Rule\".  IEEE Transactions\n",
            "     on Information Theory, May 1972, 431-433.\n",
            "   - See also: 1988 MLC Proceedings, 54-64.  Cheeseman et al\"s AUTOCLASS II\n",
            "     conceptual clustering system finds 3 classes in the data.\n",
            "   - Many, many more ...\n"
          ],
          "name": "stdout"
        }
      ]
    },
    {
      "cell_type": "code",
      "metadata": {
        "id": "emZ_Wldn3zv-"
      },
      "source": [
        "iris_X = iris_dataset['data']\n",
        "iris_X_sepal = iris_X[:, 0:2]\n",
        "iris_y = iris_dataset['target']"
      ],
      "execution_count": 17,
      "outputs": []
    },
    {
      "cell_type": "code",
      "metadata": {
        "id": "dGfVcDYKvwd1"
      },
      "source": [
        "logistic_clf = LogisticRegression()\n",
        "logistic_clf.fit(iris_X_sepal, iris_y)\n",
        "logistic_y_pred = logistic_clf.predict(iris_X_sepal)"
      ],
      "execution_count": 18,
      "outputs": []
    },
    {
      "cell_type": "code",
      "metadata": {
        "colab": {
          "base_uri": "https://localhost:8080/"
        },
        "id": "WfKeLLHF0_R3",
        "outputId": "f405015e-fce5-4178-f207-79d69c6f275d"
      },
      "source": [
        "logistic_clf.intercept_, logistic_clf.coef_"
      ],
      "execution_count": 19,
      "outputs": [
        {
          "output_type": "execute_result",
          "data": {
            "text/plain": [
              "(array([ 7.91322129,  1.84504714, -9.75826843]),\n",
              " array([[-2.70890249,  2.32402378],\n",
              "        [ 0.61273259, -1.57058803],\n",
              "        [ 2.0961699 , -0.75343574]]))"
            ]
          },
          "metadata": {
            "tags": []
          },
          "execution_count": 19
        }
      ]
    },
    {
      "cell_type": "code",
      "metadata": {
        "colab": {
          "base_uri": "https://localhost:8080/"
        },
        "id": "2ouCT_0e0dfA",
        "outputId": "f0ec808d-41f7-40b0-bac1-86256e4c4325"
      },
      "source": [
        "X_new = [[5.7, 1.5]]\n",
        "print(iris_dataset.target_names)\n",
        "print(np.round(logistic_clf.predict_proba(X_new), 3))\n",
        "print(logistic_clf.predict(X_new))"
      ],
      "execution_count": 20,
      "outputs": [
        {
          "output_type": "stream",
          "text": [
            "['setosa' 'versicolor' 'virginica']\n",
            "[[0.001 0.872 0.128]]\n",
            "[1]\n"
          ],
          "name": "stdout"
        }
      ]
    },
    {
      "cell_type": "code",
      "metadata": {
        "colab": {
          "base_uri": "https://localhost:8080/"
        },
        "id": "dGGLzfLBwcLK",
        "outputId": "5dd1d324-c34c-4efe-f467-f06b9432ad6a"
      },
      "source": [
        "print(\"logistic classifier accuracy : \", accuracy_score(iris_y, logistic_y_pred))\n",
        "print(\"\\n\")\n",
        "print(confusion_matrix(iris_y, logistic_y_pred))\n",
        "print(\"\\n\")\n",
        "print(classification_report(iris_y, logistic_y_pred))"
      ],
      "execution_count": 21,
      "outputs": [
        {
          "output_type": "stream",
          "text": [
            "logistic classifier accuracy :  0.82\n",
            "\n",
            "\n",
            "[[50  0  0]\n",
            " [ 0 37 13]\n",
            " [ 0 14 36]]\n",
            "\n",
            "\n",
            "              precision    recall  f1-score   support\n",
            "\n",
            "           0       1.00      1.00      1.00        50\n",
            "           1       0.73      0.74      0.73        50\n",
            "           2       0.73      0.72      0.73        50\n",
            "\n",
            "    accuracy                           0.82       150\n",
            "   macro avg       0.82      0.82      0.82       150\n",
            "weighted avg       0.82      0.82      0.82       150\n",
            "\n"
          ],
          "name": "stdout"
        }
      ]
    },
    {
      "cell_type": "code",
      "metadata": {
        "colab": {
          "base_uri": "https://localhost:8080/",
          "height": 441
        },
        "id": "9ew5BqIyw4pa",
        "outputId": "52c0f265-a2f9-4c55-abc8-16b072d1c44b"
      },
      "source": [
        "plt.figure(figsize = (8, 6))\n",
        "color = ['bo', 'ro', 'go']\n",
        "\n",
        "for i in range(3):\n",
        "    plt.plot(iris_X_sepal[np.where(iris_y == i)[0], 0],\n",
        "             iris_X_sepal[np.where(iris_y == i)[0], 1],\n",
        "             color[i],\n",
        "             label = iris_dataset.target_names[i])\n",
        "\n",
        "plt.xlabel(iris_dataset.feature_names[0], fontsize = 12.5)\n",
        "plt.ylabel(iris_dataset.feature_names[1], fontsize = 12.5)\n",
        "plt.legend()\n",
        "plt.tight_layout()\n",
        "plt.show()"
      ],
      "execution_count": 22,
      "outputs": [
        {
          "output_type": "display_data",
          "data": {
            "image/png": "[encoded data removed]",
            "text/plain": [
              "<Figure size 576x432 with 1 Axes>"
            ]
          },
          "metadata": {
            "tags": [],
            "needs_background": "light"
          }
        }
      ]
    },
    {
      "cell_type": "markdown",
      "metadata": {
        "id": "zayPnXqQfF17"
      },
      "source": [
        "# 10-5 : lda softmax classification with iris dataset"
      ]
    },
    {
      "cell_type": "code",
      "metadata": {
        "id": "0OFPGbBKewEM"
      },
      "source": [
        "from sklearn.model_selection import StratifiedKFold\n",
        "\n",
        "stratified_kfold = StratifiedKFold(n_splits = 5)\n",
        "\n",
        "for train_index, test_index in stratified_kfold.split(iris_X, iris_y):\n",
        "    # train : 120 (40, 40, 40), test : 30 (10, 10, 10)\n",
        "    iris_X_train = iris_X[train_index]\n",
        "    iris_X_test = iris_X[test_index]\n",
        "\n",
        "    iris_y_train = iris_y[train_index]\n",
        "    iris_y_test = iris_y[test_index]"
      ],
      "execution_count": 23,
      "outputs": []
    },
    {
      "cell_type": "code",
      "metadata": {
        "id": "bikQqQIxewMN"
      },
      "source": [
        "from sklearn.discriminant_analysis import LinearDiscriminantAnalysis\n",
        "\n",
        "lda_clf = LinearDiscriminantAnalysis()\n",
        "lda_clf.fit(iris_X_train, iris_y_train)\n",
        "lda_y_train_pred = lda_clf.predict(iris_X_train) \n",
        "lda_y_test_pred = lda_clf.predict(iris_X_test)"
      ],
      "execution_count": 24,
      "outputs": []
    },
    {
      "cell_type": "code",
      "metadata": {
        "colab": {
          "base_uri": "https://localhost:8080/"
        },
        "id": "K7H24pyFewP8",
        "outputId": "3a1e3306-071c-41ac-a16f-f4560d9fcfb8"
      },
      "source": [
        "print(\"LDA classifier train accuracy : \", accuracy_score(iris_y_train, lda_y_train_pred))\n",
        "print(\"LDA classifier test accuracy : \", accuracy_score(iris_y_test, lda_y_test_pred))\n",
        "print(\"\\n\")\n",
        "print(confusion_matrix(iris_y_test, lda_y_test_pred))\n",
        "print(\"\\n\")\n",
        "print(classification_report(iris_y_test, lda_y_test_pred))"
      ],
      "execution_count": 25,
      "outputs": [
        {
          "output_type": "stream",
          "text": [
            "LDA classifier train accuracy :  0.975\n",
            "LDA classifier test accuracy :  1.0\n",
            "\n",
            "\n",
            "[[10  0  0]\n",
            " [ 0 10  0]\n",
            " [ 0  0 10]]\n",
            "\n",
            "\n",
            "              precision    recall  f1-score   support\n",
            "\n",
            "           0       1.00      1.00      1.00        10\n",
            "           1       1.00      1.00      1.00        10\n",
            "           2       1.00      1.00      1.00        10\n",
            "\n",
            "    accuracy                           1.00        30\n",
            "   macro avg       1.00      1.00      1.00        30\n",
            "weighted avg       1.00      1.00      1.00        30\n",
            "\n"
          ],
          "name": "stdout"
        }
      ]
    }
  ]
}