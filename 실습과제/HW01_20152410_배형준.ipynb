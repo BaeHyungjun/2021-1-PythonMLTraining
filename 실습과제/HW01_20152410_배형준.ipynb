{
  "nbformat": 4,
  "nbformat_minor": 0,
  "metadata": {
    "colab": {
      "name": "HW01_20152410_배형준.ipynb",
      "provenance": [],
      "collapsed_sections": []
    },
    "kernelspec": {
      "name": "python3",
      "display_name": "Python 3"
    }
  },
  "cells": [
    {
      "cell_type": "markdown",
      "metadata": {
        "id": "OEzcJK-1Cixb"
      },
      "source": [
        "# 1-1 : 알파고 더 무비 감상문\r\n",
        "\r\n",
        "재밌게 봤습니다. 인공지능이 발전하면서 \"다양한 산업에서 사람의 노동력이 대체되어 많은 사람들이 지금의 일자리를 잃고 삶의 방식이 변화할 것이다\" 라는 말을 가장 많이 들었습니다. 이번 영화에선 바둑을 통해 다른 관점을 제시해줍니다. 인류가 인공지능의 결과물을 이용한다면 더 발전된 인간의 모습과 인간성의 확장을 기대할 수 있을 것이라고 말하는 부분이 가장 인상 깊었습니다."
      ]
    },
    {
      "cell_type": "markdown",
      "metadata": {
        "id": "IgYghWknGQ72"
      },
      "source": [
        "# 1-2 : 주어진 자연수가 홀수인지 짝수인지 구별"
      ]
    },
    {
      "cell_type": "code",
      "metadata": {
        "colab": {
          "base_uri": "https://localhost:8080/"
        },
        "id": "a26HwehbG_6K",
        "outputId": "185918fa-1b12-41da-a0f2-6653a2c3b1f1"
      },
      "source": [
        "while True:\r\n",
        "  # 숫자형으로 변환 가능한지 검증\r\n",
        "  try:\r\n",
        "    \r\n",
        "    # input 값 입력\r\n",
        "    number = int(input(\"자연수를 입력하세요.\"))\r\n",
        "\r\n",
        "    # 자연수인지 판별하는 조건문\r\n",
        "    if number >= 0:\r\n",
        "\r\n",
        "      # 짝수인지 홀수인지 판별하는 조건문\r\n",
        "      if number % 2 == 0:\r\n",
        "        print(\"{}는 짝수입니다.\".format(number))\r\n",
        "      else:\r\n",
        "        print(\"{}는 홀수입니다.\".format(number))\r\n",
        "      break\r\n",
        "\r\n",
        "    # 음수일 경우 출력\r\n",
        "    else:\r\n",
        "      print(\"자연수를 다시 입력해주세요.\")\r\n",
        "\r\n",
        "  # 숫자형으로 변환 불가능할 때 출력\r\n",
        "  except ValueError:\r\n",
        "    print(\"자연수를 다시 입력하주세요.\")"
      ],
      "execution_count": 1,
      "outputs": [
        {
          "output_type": "stream",
          "text": [
            "자연수를 입력하세요.ㅁㄴㅇ\n",
            "자연수를 다시 입력하주세요.\n",
            "자연수를 입력하세요.-1\n",
            "자연수를 다시 입력해주세요.\n",
            "자연수를 입력하세요.2\n",
            "2는 짝수입니다.\n"
          ],
          "name": "stdout"
        }
      ]
    },
    {
      "cell_type": "markdown",
      "metadata": {
        "id": "48joK-SbMVoA"
      },
      "source": [
        "# 1-3 : 주민등록번호 분할"
      ]
    },
    {
      "cell_type": "code",
      "metadata": {
        "colab": {
          "base_uri": "https://localhost:8080/"
        },
        "id": "udDiLP_xMcXg",
        "outputId": "1862bc79-bff7-4a58-cf9b-109e707e8d45"
      },
      "source": [
        "hong_id = \"881120-1068234\"\r\n",
        "\r\n",
        "print(\"주민등록번호 연월일 : {}, 뒷자리 : {}\".format(hong_id[:6], hong_id[-7:]))"
      ],
      "execution_count": 2,
      "outputs": [
        {
          "output_type": "stream",
          "text": [
            "주민등록번호 연월일 : 881120, 뒷자리 : 1068234\n"
          ],
          "name": "stdout"
        }
      ]
    },
    {
      "cell_type": "markdown",
      "metadata": {
        "id": "h4DJL--PM9DY"
      },
      "source": [
        "# 1-4 : 주민등록번호 뒷자리 맨 첫 번째 숫자 성별 출력"
      ]
    },
    {
      "cell_type": "code",
      "metadata": {
        "colab": {
          "base_uri": "https://localhost:8080/"
        },
        "id": "0-25PD7tM_2z",
        "outputId": "16c734f5-9fa0-453a-907c-39225510b741"
      },
      "source": [
        "hong_id = \"881120-1068234\"\r\n",
        "\r\n",
        "if hong_id[7] in [\"1\", \"3\"]:\r\n",
        "  print('홍길동씨는 남자입니다.')\r\n",
        "elif hong_id[7] in [\"2\", \"4\"]:\r\n",
        "  print('홍길동씨는 여자입니다.')\r\n",
        "else:\r\n",
        "  print(\"잘못된 주민등록번호입니다.\")"
      ],
      "execution_count": 3,
      "outputs": [
        {
          "output_type": "stream",
          "text": [
            "홍길동씨는 남자입니다.\n"
          ],
          "name": "stdout"
        }
      ]
    },
    {
      "cell_type": "markdown",
      "metadata": {
        "id": "CxoiocMANdS2"
      },
      "source": [
        "# 1-5 : 문자열 바꾸기"
      ]
    },
    {
      "cell_type": "code",
      "metadata": {
        "id": "zAGQfkUANgNg"
      },
      "source": [
        "string = \"a:b:c:d\""
      ],
      "execution_count": 4,
      "outputs": []
    },
    {
      "cell_type": "code",
      "metadata": {
        "colab": {
          "base_uri": "https://localhost:8080/"
        },
        "id": "oC9P1-KRNvU-",
        "outputId": "5b821458-eb3f-4c3e-ea29-e78c4a0b891d"
      },
      "source": [
        "print(\"replace를 이용하여 :를 #으로 변경 : {}\".format(string.replace(\":\", \"#\")))"
      ],
      "execution_count": 5,
      "outputs": [
        {
          "output_type": "stream",
          "text": [
            "replace를 이용하여 :를 #으로 변경 : a#b#c#d\n"
          ],
          "name": "stdout"
        }
      ]
    },
    {
      "cell_type": "code",
      "metadata": {
        "colab": {
          "base_uri": "https://localhost:8080/"
        },
        "id": "6k9gR2eiN8DM",
        "outputId": "d4ebbcda-6061-4b6f-d6cb-ab29e744a236"
      },
      "source": [
        "print(\"split, join을 이용하여 :를 #로 변경 : {}\".format(\"#\".join(string.split(\":\"))))"
      ],
      "execution_count": 6,
      "outputs": [
        {
          "output_type": "stream",
          "text": [
            "split, join을 이용하여 :를 #로 변경 : a#b#c#d\n"
          ],
          "name": "stdout"
        }
      ]
    }
  ]
}
