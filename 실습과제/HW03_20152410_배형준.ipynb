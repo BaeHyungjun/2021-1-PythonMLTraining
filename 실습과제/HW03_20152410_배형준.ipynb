{
  "nbformat": 4,
  "nbformat_minor": 0,
  "metadata": {
    "colab": {
      "name": "HW03_20152410_배형준.ipynb",
      "provenance": [],
      "collapsed_sections": []
    },
    "kernelspec": {
      "name": "python3",
      "display_name": "Python 3"
    }
  },
  "cells": [
    {
      "cell_type": "markdown",
      "metadata": {
        "id": "RG1fO9qCOo-g"
      },
      "source": [
        "# 3-1 : 짝수 홀수 판별 함수"
      ]
    },
    {
      "cell_type": "code",
      "metadata": {
        "id": "5PNJ5CBmO68M"
      },
      "source": [
        "def is_odd(number):\r\n",
        "  \"\"\"입력받은 자연수가 홀수인지 짝수인지 판별\"\"\"\r\n",
        "  if type(number) == int and number >= 0:\r\n",
        "    if number % 2 == 0:\r\n",
        "      result = \"짝수\"\r\n",
        "      print(\"입력받은 자연수 {}는 {}입니다.\".format(number, result))\r\n",
        "    elif number % 2 == 1:\r\n",
        "      result = \"홀수\"\r\n",
        "      print(\"입력받은 자연수 {}는 {}입니다.\".format(number, result))\r\n",
        "    else:\r\n",
        "      print(\"자연수를 입력해주세요.\")\r\n",
        "      \r\n",
        "  else:\r\n",
        "    print(\"자연수를 입력해주세요.\")"
      ],
      "execution_count": 1,
      "outputs": []
    },
    {
      "cell_type": "code",
      "metadata": {
        "colab": {
          "base_uri": "https://localhost:8080/"
        },
        "id": "0_RGQ8d4PvcZ",
        "outputId": "c954cb26-f93d-4137-e539-c737772c7764"
      },
      "source": [
        "number_list = [0, 1, 2, -1, -2, 10.5, \"삼백\"]\r\n",
        "for i in number_list:\r\n",
        "  is_odd(i)"
      ],
      "execution_count": 2,
      "outputs": [
        {
          "output_type": "stream",
          "text": [
            "입력받은 자연수 0는 짝수입니다.\n",
            "입력받은 자연수 1는 홀수입니다.\n",
            "입력받은 자연수 2는 짝수입니다.\n",
            "자연수를 입력해주세요.\n",
            "자연수를 입력해주세요.\n",
            "자연수를 입력해주세요.\n",
            "자연수를 입력해주세요.\n"
          ],
          "name": "stdout"
        }
      ]
    },
    {
      "cell_type": "markdown",
      "metadata": {
        "id": "TCfsA1ABPyEO"
      },
      "source": [
        "# 3-2 : 평균값 계산"
      ]
    },
    {
      "cell_type": "code",
      "metadata": {
        "id": "rLyWzor3P1lt"
      },
      "source": [
        "def calculate_average(*args):\r\n",
        "  \"\"\"입력으로 들어오는 모든 수의 평균값 계산, 개수가 정해져있지 않음\"\"\"\r\n",
        "  result = 0\r\n",
        "  count = 0\r\n",
        "  for i in args:\r\n",
        "    result += i\r\n",
        "    count += 1\r\n",
        "  return result / count"
      ],
      "execution_count": 3,
      "outputs": []
    },
    {
      "cell_type": "code",
      "metadata": {
        "colab": {
          "base_uri": "https://localhost:8080/"
        },
        "id": "28xmPqmeQrsM",
        "outputId": "47501d60-c1db-4bdf-f470-b43a0148391f"
      },
      "source": [
        "calculate_average(1, 2, 3, 6, 4, 8, 9, 4, 5, 50, 9)"
      ],
      "execution_count": 4,
      "outputs": [
        {
          "output_type": "execute_result",
          "data": {
            "text/plain": [
              "9.181818181818182"
            ]
          },
          "metadata": {
            "tags": []
          },
          "execution_count": 4
        }
      ]
    },
    {
      "cell_type": "markdown",
      "metadata": {
        "id": "Ci4-wtopQv-b"
      },
      "source": [
        "# 3-3 : 몫과 나머지"
      ]
    },
    {
      "cell_type": "code",
      "metadata": {
        "id": "Z4jXXr_yQ05G"
      },
      "source": [
        "def divide(a, b):\r\n",
        "  \"\"\"a를 b로 나누었을 때 몫과 나머지를 출력하는 함수\"\"\"\r\n",
        "  quotient = a // b\r\n",
        "  remainder = a % b\r\n",
        "  print(\"{}를 {}로 나눴을 때 몫은 {}이고 나머지는 {}이다.\".format(\r\n",
        "      a, b, quotient, remainder\r\n",
        "  ))"
      ],
      "execution_count": 5,
      "outputs": []
    },
    {
      "cell_type": "code",
      "metadata": {
        "colab": {
          "base_uri": "https://localhost:8080/"
        },
        "id": "0sk2SlZ4SDcI",
        "outputId": "e0810653-ccd6-423f-e7a4-c53663d493c2"
      },
      "source": [
        "divide(500, 17)"
      ],
      "execution_count": 6,
      "outputs": [
        {
          "output_type": "stream",
          "text": [
            "500를 17로 나눴을 때 몫은 29이고 나머지는 7이다.\n"
          ],
          "name": "stdout"
        }
      ]
    },
    {
      "cell_type": "markdown",
      "metadata": {
        "id": "OoSIOMicSFaH"
      },
      "source": [
        "# 3-4 : 숫자의 총합"
      ]
    },
    {
      "cell_type": "code",
      "metadata": {
        "id": "dBUAszBmSNVp"
      },
      "source": [
        "def calculate_sum(*args):\r\n",
        "  \"\"\"입력으로 들어오는 모든 수의 합 계산, 개수가 정해져있지 않음\"\"\"\r\n",
        "  result = 0\r\n",
        "  for i in args:\r\n",
        "    result += i\r\n",
        "  print(\"입력받은 숫자들은 다음과 같습니다.\",  args)\r\n",
        "  print(\"합은 {}입니다.\".format(result))"
      ],
      "execution_count": 7,
      "outputs": []
    },
    {
      "cell_type": "code",
      "metadata": {
        "colab": {
          "base_uri": "https://localhost:8080/"
        },
        "id": "r8i1HNa5TIRn",
        "outputId": "e820885c-8716-412e-f9d3-6c1be491433a"
      },
      "source": [
        "calculate_sum(1, 2, 3, 4, 9, 8, 4)"
      ],
      "execution_count": 8,
      "outputs": [
        {
          "output_type": "stream",
          "text": [
            "입력받은 숫자들은 다음과 같습니다. (1, 2, 3, 4, 9, 8, 4)\n",
            "합은 31입니다.\n"
          ],
          "name": "stdout"
        }
      ]
    },
    {
      "cell_type": "markdown",
      "metadata": {
        "id": "1iBWuLw1TLTN"
      },
      "source": [
        "# 3-5 : 한줄 구구단"
      ]
    },
    {
      "cell_type": "code",
      "metadata": {
        "id": "gvqiemO7TQFo"
      },
      "source": [
        "def show_gugudan(number):\r\n",
        "  \"\"\"2 ~ 9까지의 숫자 중 하나를 입력받아 해당 숫자의 구구단 한줄로 출력\"\"\"\r\n",
        "  if number in list(range(2, 10)):\r\n",
        "    for i in range(1, 10):\r\n",
        "      print(number*i, end=\" \")"
      ],
      "execution_count": 9,
      "outputs": []
    },
    {
      "cell_type": "code",
      "metadata": {
        "colab": {
          "base_uri": "https://localhost:8080/"
        },
        "id": "yu62YFn7Tr0c",
        "outputId": "5207bcd7-da5f-4191-83ee-0f95d7f05531"
      },
      "source": [
        "show_gugudan(7)"
      ],
      "execution_count": 10,
      "outputs": [
        {
          "output_type": "stream",
          "text": [
            "7 14 21 28 35 42 49 56 63 "
          ],
          "name": "stdout"
        }
      ]
    },
    {
      "cell_type": "markdown",
      "metadata": {
        "id": "BLrnEojdTtLk"
      },
      "source": [
        "# 3-6 : 피보나치 수열"
      ]
    },
    {
      "cell_type": "code",
      "metadata": {
        "id": "vGJZ-PlUTxRW"
      },
      "source": [
        "def fib(n):\r\n",
        "  if n == 1:\r\n",
        "    return 1\r\n",
        "  elif n == 2:\r\n",
        "    return 1\r\n",
        "  else:\r\n",
        "    return fib(n-1) + fib(n-2)"
      ],
      "execution_count": 11,
      "outputs": []
    },
    {
      "cell_type": "code",
      "metadata": {
        "colab": {
          "base_uri": "https://localhost:8080/"
        },
        "id": "j-2tdPdjT98z",
        "outputId": "7ee1e782-39b9-42fd-c23c-fe1a4df942d8"
      },
      "source": [
        "fib(20)"
      ],
      "execution_count": 12,
      "outputs": [
        {
          "output_type": "execute_result",
          "data": {
            "text/plain": [
              "6765"
            ]
          },
          "metadata": {
            "tags": []
          },
          "execution_count": 12
        }
      ]
    },
    {
      "cell_type": "markdown",
      "metadata": {
        "id": "4EyIvSr9UA_z"
      },
      "source": [
        "# 3-7 : Grading"
      ]
    },
    {
      "cell_type": "code",
      "metadata": {
        "id": "UX4V1DvbUDxZ"
      },
      "source": [
        "def grading(score):\r\n",
        "  \"\"\"\r\n",
        "  90 이상이면 A\r\n",
        "  80 이상 90 미만이면 B\r\n",
        "  70 이상 80 미만이면 C\r\n",
        "  60 이상 70 미만이면 D\r\n",
        "  60 미만이면 F\r\n",
        "  \"\"\"\r\n",
        "  standard = [-10, 60, 70, 80, 90, 110]\r\n",
        "  result_list = [\"F\", \"D\", \"C\", \"B\", \"A\"]\r\n",
        "  for i in range(5):\r\n",
        "    if standard[i] <= score < standard[i+1]:\r\n",
        "      result = result_list[i]\r\n",
        "  print(\"{}점은 {}입니다.\".format(score, result))"
      ],
      "execution_count": 13,
      "outputs": []
    },
    {
      "cell_type": "code",
      "metadata": {
        "colab": {
          "base_uri": "https://localhost:8080/"
        },
        "id": "Pzi_tUkFWeho",
        "outputId": "1744a4c1-ea39-46c2-e964-4b613bc43ea3"
      },
      "source": [
        "example = [55, 65, 75, 85, 95]\r\n",
        "for element in example:\r\n",
        "  grading(element)"
      ],
      "execution_count": 14,
      "outputs": [
        {
          "output_type": "stream",
          "text": [
            "55점은 F입니다.\n",
            "65점은 D입니다.\n",
            "75점은 C입니다.\n",
            "85점은 B입니다.\n",
            "95점은 A입니다.\n"
          ],
          "name": "stdout"
        }
      ]
    },
    {
      "cell_type": "markdown",
      "metadata": {
        "id": "3IrkWL2SWsek"
      },
      "source": [
        "# 3-8 : 예외처리"
      ]
    },
    {
      "cell_type": "code",
      "metadata": {
        "id": "ckYVG8OlXNye"
      },
      "source": [
        "def is_odd_tryexcept(number):\r\n",
        "  \"\"\"입력받은 자연수가 홀수인지 짝수인지 판별\"\"\"\r\n",
        "  try:\r\n",
        "    if number >= 0:\r\n",
        "      if number % 2 == 0:\r\n",
        "        result = \"짝수\"\r\n",
        "        print(\"입력받은 자연수 {}는 {}입니다.\".format(number, result))\r\n",
        "      elif number % 2 == 1:\r\n",
        "        result = \"홀수\"\r\n",
        "        print(\"입력받은 자연수 {}는 {}입니다.\".format(number, result))\r\n",
        "      else:\r\n",
        "        print(\"자연수를 입력해주세요.\")\r\n",
        "    else:\r\n",
        "      print(\"자연수를 입력해주세요.\")\r\n",
        "\r\n",
        "  except TypeError or UnboundLocalError:\r\n",
        "    print(\"자연수를 입력해주세요.\")"
      ],
      "execution_count": 15,
      "outputs": []
    },
    {
      "cell_type": "code",
      "metadata": {
        "colab": {
          "base_uri": "https://localhost:8080/"
        },
        "id": "p9HORl7bYn84",
        "outputId": "ae94a0a7-8e6c-4938-f7b8-34a2bb5faf70"
      },
      "source": [
        "number_list = [0, 1, 2, -1, -2, 10.5, '삼백']\r\n",
        "for i in number_list:\r\n",
        "  is_odd_tryexcept(i)"
      ],
      "execution_count": 16,
      "outputs": [
        {
          "output_type": "stream",
          "text": [
            "입력받은 자연수 0는 짝수입니다.\n",
            "입력받은 자연수 1는 홀수입니다.\n",
            "입력받은 자연수 2는 짝수입니다.\n",
            "자연수를 입력해주세요.\n",
            "자연수를 입력해주세요.\n",
            "자연수를 입력해주세요.\n",
            "자연수를 입력해주세요.\n"
          ],
          "name": "stdout"
        }
      ]
    }
  ]
}