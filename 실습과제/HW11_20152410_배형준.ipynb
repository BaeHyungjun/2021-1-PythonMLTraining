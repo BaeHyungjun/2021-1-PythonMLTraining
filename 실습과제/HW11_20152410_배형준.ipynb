{
  "nbformat": 4,
  "nbformat_minor": 0,
  "metadata": {
    "colab": {
      "name": "HW11_20152410_배형준.ipynb",
      "provenance": [],
      "collapsed_sections": []
    },
    "kernelspec": {
      "name": "python3",
      "display_name": "Python 3"
    },
    "language_info": {
      "name": "python"
    }
  },
  "cells": [
    {
      "cell_type": "markdown",
      "metadata": {
        "id": "a7BcbM_tliS6"
      },
      "source": [
        "# 11-1 : moons 데이터셋 이용해서 SVC 학습\n",
        "\n",
        "1) rbf 커널, gamma = 5, C = 0.1\n",
        "\n",
        "2) rbf 커널, gamma = 0.5, C = 0.1"
      ]
    },
    {
      "cell_type": "code",
      "metadata": {
        "id": "X3kj_9ynmv6E"
      },
      "source": [
        "import numpy as np\n",
        "import matplotlib\n",
        "import matplotlib.pyplot as plt"
      ],
      "execution_count": 1,
      "outputs": []
    },
    {
      "cell_type": "code",
      "metadata": {
        "id": "DhJy40K_mzNd"
      },
      "source": [
        "from sklearn.datasets import make_moons\n",
        "from sklearn.model_selection import cross_val_score\n",
        "from sklearn.metrics import make_scorer, accuracy_score\n",
        "from sklearn.svm import SVC"
      ],
      "execution_count": 2,
      "outputs": []
    },
    {
      "cell_type": "code",
      "metadata": {
        "id": "bxLPoI5ZnXRp"
      },
      "source": [
        "X_moon, y_moon = make_moons(n_samples = 1000,\n",
        "                            shuffle = True,\n",
        "                            noise = 0.15,\n",
        "                            random_state = 20152410)"
      ],
      "execution_count": 3,
      "outputs": []
    },
    {
      "cell_type": "code",
      "metadata": {
        "colab": {
          "base_uri": "https://localhost:8080/",
          "height": 297
        },
        "id": "XY_8EF7CnthX",
        "outputId": "d32fe58d-53a3-4d60-80d9-d694f75606da"
      },
      "source": [
        "plt.figure(figsize = (6, 4))\n",
        "plt.plot(X_moon[np.where(y_moon == 0)[0], 0], X_moon[np.where(y_moon == 0)[0], 1], 'ro')\n",
        "plt.plot(X_moon[np.where(y_moon == 1)[0], 0], X_moon[np.where(y_moon == 1)[0], 1], 'bo')\n",
        "plt.tight_layout()\n",
        "plt.show()"
      ],
      "execution_count": 4,
      "outputs": [
        {
          "output_type": "display_data",
          "data": {
            "image/png": "[encoded data removed]",
            "text/plain": [
              "<Figure size 432x288 with 1 Axes>"
            ]
          },
          "metadata": {
            "tags": [],
            "needs_background": "light"
          }
        }
      ]
    },
    {
      "cell_type": "code",
      "metadata": {
        "id": "UwM_nPWooH2e"
      },
      "source": [
        "moon_model1 = SVC(kernel = 'rbf', gamma = 5, C = 0.1)\n",
        "moon_model2 = SVC(kernel = 'rbf', gamma = 0.5, C = 0.1)\n",
        "\n",
        "moon_cv_accuracy_score = [cross_val_score(moon_model1,\n",
        "                                          X = X_moon,\n",
        "                                          y = y_moon,\n",
        "                                          cv = 5,\n",
        "                                          scoring = make_scorer(accuracy_score)),\n",
        "                          cross_val_score(moon_model2,\n",
        "                                          X = X_moon,\n",
        "                                          y = y_moon,\n",
        "                                          cv = 5,\n",
        "                                          scoring = make_scorer(accuracy_score))]"
      ],
      "execution_count": 5,
      "outputs": []
    },
    {
      "cell_type": "code",
      "metadata": {
        "colab": {
          "base_uri": "https://localhost:8080/"
        },
        "id": "uGHqt-5GpaJe",
        "outputId": "6f51d8da-66e4-4ee5-8e05-bc3bd19a924c"
      },
      "source": [
        "for index, value in enumerate(moon_cv_accuracy_score):\n",
        "    print(\"모델 {}번의 CV accuracy score : {}, 평균 성능 : {}\".format(index + 1, value, value.mean()))"
      ],
      "execution_count": 6,
      "outputs": [
        {
          "output_type": "stream",
          "text": [
            "모델 1번의 CV accuracy score : [0.985 0.98  0.985 0.995 0.975], 평균 성능 : 0.984\n",
            "모델 2번의 CV accuracy score : [0.94  0.905 0.925 0.96  0.92 ], 평균 성능 : 0.93\n"
          ],
          "name": "stdout"
        }
      ]
    },
    {
      "cell_type": "markdown",
      "metadata": {
        "id": "pCHz_n3mrCxf"
      },
      "source": [
        "CV 성능이 더 좋은 1번 모델 학습 후 결과 시각화"
      ]
    },
    {
      "cell_type": "code",
      "metadata": {
        "colab": {
          "base_uri": "https://localhost:8080/"
        },
        "id": "OzDMvISLq9_u",
        "outputId": "313dcf70-9943-405f-fc30-36c886a31700"
      },
      "source": [
        "moon_model1.fit(X_moon, y_moon)\n",
        "moon_model2.fit(X_moon, y_moon)\n",
        "\n",
        "print(\"모델 1번의 train accuracy score : {}\".format(accuracy_score(y_moon, moon_model1.predict(X_moon))))\n",
        "print(\"모델 2번의 train accuracy score : {}\".format(accuracy_score(y_moon, moon_model2.predict(X_moon))))"
      ],
      "execution_count": 7,
      "outputs": [
        {
          "output_type": "stream",
          "text": [
            "모델 1번의 train accuracy score : 0.986\n",
            "모델 2번의 train accuracy score : 0.936\n"
          ],
          "name": "stdout"
        }
      ]
    },
    {
      "cell_type": "code",
      "metadata": {
        "colab": {
          "base_uri": "https://localhost:8080/",
          "height": 297
        },
        "id": "ZOzv501urL1N",
        "outputId": "87db927b-33e6-441c-d77d-29fd25cd0761"
      },
      "source": [
        "plt.figure(figsize = (12, 4))\n",
        "\n",
        "plt.subplot(1, 2, 1)\n",
        "plt.plot(X_moon[np.where(y_moon == 0)[0], 0], X_moon[np.where(y_moon == 0)[0], 1], 'ro')\n",
        "plt.plot(X_moon[np.where(y_moon == 1)[0], 0], X_moon[np.where(y_moon == 1)[0], 1], 'bo')\n",
        "\n",
        "x1, x2 = np.meshgrid(np.linspace(-1.5, 2.5, 500), np.linspace(-1, 1.5, 500))\n",
        "X_new = np.c_[x1.ravel(), x2.ravel()]\n",
        "y_pred = moon_model1.predict(X_new).reshape(x1.shape)\n",
        "plt.contour(x1, x2, y_pred, colors = 'k', alpha = 0.5)\n",
        "\n",
        "plt.title('kernel = \"rbf\" , gamma = 5, C = 0.1')\n",
        "\n",
        "plt.subplot(1, 2, 2)\n",
        "plt.plot(X_moon[np.where(y_moon == 0)[0], 0], X_moon[np.where(y_moon == 0)[0], 1], 'ro')\n",
        "plt.plot(X_moon[np.where(y_moon == 1)[0], 0], X_moon[np.where(y_moon == 1)[0], 1], 'bo')\n",
        "\n",
        "x1, x2 = np.meshgrid(np.linspace(-1.5, 2.5, 500), np.linspace(-1, 1.5, 500))\n",
        "X_new = np.c_[x1.ravel(), x2.ravel()]\n",
        "y_pred = moon_model2.predict(X_new).reshape(x1.shape)\n",
        "plt.contour(x1, x2, y_pred, colors = 'k', alpha = 0.5)\n",
        "\n",
        "plt.title('kernel = \"rbf\" , gamma = 0.5, C = 0.1')\n",
        "\n",
        "plt.tight_layout()\n",
        "plt.show()"
      ],
      "execution_count": 8,
      "outputs": [
        {
          "output_type": "display_data",
          "data": {
            "image/png": "[encoded data removed]",
            "text/plain": [
              "<Figure size 864x288 with 2 Axes>"
            ]
          },
          "metadata": {
            "tags": [],
            "needs_background": "light"
          }
        }
      ]
    },
    {
      "cell_type": "markdown",
      "metadata": {
        "id": "7fglkS_fuupN"
      },
      "source": [
        "1번 모델의 gamma가 더 높기 때문에 오분류가 덜 되도록 모델을 학습했다\n",
        "\n",
        "CV accuracy score가 더 높고, 시각적으로 봤을 때도 오분류된 케이스가 적기때문에 더 좋은 모델이라고 평가할 수 있다"
      ]
    },
    {
      "cell_type": "markdown",
      "metadata": {
        "id": "5DovwYZiu_VA"
      },
      "source": [
        "# 11-2 : iris dataset을 이용해 SVC 학습"
      ]
    },
    {
      "cell_type": "code",
      "metadata": {
        "colab": {
          "base_uri": "https://localhost:8080/"
        },
        "id": "6S-qYpg-vFud",
        "outputId": "cc984feb-49fa-4d38-e6d7-8f254452b9c5"
      },
      "source": [
        "from sklearn.datasets import load_iris\n",
        "\n",
        "iris = load_iris()\n",
        "print(iris.DESCR)"
      ],
      "execution_count": 9,
      "outputs": [
        {
          "output_type": "stream",
          "text": [
            ".. _iris_dataset:\n",
            "\n",
            "Iris plants dataset\n",
            "--------------------\n",
            "\n",
            "**Data Set Characteristics:**\n",
            "\n",
            "    :Number of Instances: 150 (50 in each of three classes)\n",
            "    :Number of Attributes: 4 numeric, predictive attributes and the class\n",
            "    :Attribute Information:\n",
            "        - sepal length in cm\n",
            "        - sepal width in cm\n",
            "        - petal length in cm\n",
            "        - petal width in cm\n",
            "        - class:\n",
            "                - Iris-Setosa\n",
            "                - Iris-Versicolour\n",
            "                - Iris-Virginica\n",
            "                \n",
            "    :Summary Statistics:\n",
            "\n",
            "    ============== ==== ==== ======= ===== ====================\n",
            "                    Min  Max   Mean    SD   Class Correlation\n",
            "    ============== ==== ==== ======= ===== ====================\n",
            "    sepal length:   4.3  7.9   5.84   0.83    0.7826\n",
            "    sepal width:    2.0  4.4   3.05   0.43   -0.4194\n",
            "    petal length:   1.0  6.9   3.76   1.76    0.9490  (high!)\n",
            "    petal width:    0.1  2.5   1.20   0.76    0.9565  (high!)\n",
            "    ============== ==== ==== ======= ===== ====================\n",
            "\n",
            "    :Missing Attribute Values: None\n",
            "    :Class Distribution: 33.3% for each of 3 classes.\n",
            "    :Creator: R.A. Fisher\n",
            "    :Donor: Michael Marshall (MARSHALL%PLU@io.arc.nasa.gov)\n",
            "    :Date: July, 1988\n",
            "\n",
            "The famous Iris database, first used by Sir R.A. Fisher. The dataset is taken\n",
            "from Fisher's paper. Note that it's the same as in R, but not as in the UCI\n",
            "Machine Learning Repository, which has two wrong data points.\n",
            "\n",
            "This is perhaps the best known database to be found in the\n",
            "pattern recognition literature.  Fisher's paper is a classic in the field and\n",
            "is referenced frequently to this day.  (See Duda & Hart, for example.)  The\n",
            "data set contains 3 classes of 50 instances each, where each class refers to a\n",
            "type of iris plant.  One class is linearly separable from the other 2; the\n",
            "latter are NOT linearly separable from each other.\n",
            "\n",
            ".. topic:: References\n",
            "\n",
            "   - Fisher, R.A. \"The use of multiple measurements in taxonomic problems\"\n",
            "     Annual Eugenics, 7, Part II, 179-188 (1936); also in \"Contributions to\n",
            "     Mathematical Statistics\" (John Wiley, NY, 1950).\n",
            "   - Duda, R.O., & Hart, P.E. (1973) Pattern Classification and Scene Analysis.\n",
            "     (Q327.D83) John Wiley & Sons.  ISBN 0-471-22361-1.  See page 218.\n",
            "   - Dasarathy, B.V. (1980) \"Nosing Around the Neighborhood: A New System\n",
            "     Structure and Classification Rule for Recognition in Partially Exposed\n",
            "     Environments\".  IEEE Transactions on Pattern Analysis and Machine\n",
            "     Intelligence, Vol. PAMI-2, No. 1, 67-71.\n",
            "   - Gates, G.W. (1972) \"The Reduced Nearest Neighbor Rule\".  IEEE Transactions\n",
            "     on Information Theory, May 1972, 431-433.\n",
            "   - See also: 1988 MLC Proceedings, 54-64.  Cheeseman et al\"s AUTOCLASS II\n",
            "     conceptual clustering system finds 3 classes in the data.\n",
            "   - Many, many more ...\n"
          ],
          "name": "stdout"
        }
      ]
    },
    {
      "cell_type": "code",
      "metadata": {
        "colab": {
          "base_uri": "https://localhost:8080/"
        },
        "id": "m77ARvhExQuE",
        "outputId": "77b8a544-67e6-4c5d-d8d4-882e52b07d38"
      },
      "source": [
        "print(iris.feature_names)"
      ],
      "execution_count": 10,
      "outputs": [
        {
          "output_type": "stream",
          "text": [
            "['sepal length (cm)', 'sepal width (cm)', 'petal length (cm)', 'petal width (cm)']\n"
          ],
          "name": "stdout"
        }
      ]
    },
    {
      "cell_type": "code",
      "metadata": {
        "id": "9IClWNIzvLI7"
      },
      "source": [
        "X_iris = iris.data[:, 2:4]\n",
        "y_iris = iris.target"
      ],
      "execution_count": 11,
      "outputs": []
    },
    {
      "cell_type": "code",
      "metadata": {
        "id": "IjGyB2Uqvaug"
      },
      "source": [
        "iris_model1 = SVC(kernel = 'rbf', gamma = 0.7, C = 1)\n",
        "iris_model2 = SVC(kernel = 'linear', C = 1)\n",
        "iris_model3 = SVC(kernel = 'poly', degree = 3, gamma = 'auto', C = 1)\n",
        "\n",
        "iris_cv_accuracy_score = [cross_val_score(iris_model1,\n",
        "                                          X = X_iris,\n",
        "                                          y = y_iris,\n",
        "                                          cv = 5,\n",
        "                                          scoring = make_scorer(accuracy_score)),\n",
        "                          cross_val_score(iris_model2,\n",
        "                                          X = X_iris,\n",
        "                                          y = y_iris,\n",
        "                                          cv = 5,\n",
        "                                          scoring = make_scorer(accuracy_score)),\n",
        "                          cross_val_score(iris_model3,\n",
        "                                          X = X_iris,\n",
        "                                          y = y_iris,\n",
        "                                          cv = 5,\n",
        "                                          scoring = make_scorer(accuracy_score))]"
      ],
      "execution_count": 12,
      "outputs": []
    },
    {
      "cell_type": "code",
      "metadata": {
        "colab": {
          "base_uri": "https://localhost:8080/"
        },
        "id": "L6RpJvqEvz8d",
        "outputId": "1cf7cd0e-b448-48e3-a151-d45bfd8c3cc9"
      },
      "source": [
        "for index, value in enumerate(iris_cv_accuracy_score):\n",
        "    print(\"모델 {}번의 CV accuracy score : {}, 평균 성능 : {}\".format(index + 1, value, value.mean()))"
      ],
      "execution_count": 13,
      "outputs": [
        {
          "output_type": "stream",
          "text": [
            "모델 1번의 CV accuracy score : [0.96666667 0.96666667 0.93333333 0.93333333 1.        ], 평균 성능 : 0.96\n",
            "모델 2번의 CV accuracy score : [0.96666667 0.96666667 0.93333333 0.93333333 1.        ], 평균 성능 : 0.96\n",
            "모델 3번의 CV accuracy score : [0.96666667 0.96666667 0.93333333 0.93333333 1.        ], 평균 성능 : 0.96\n"
          ],
          "name": "stdout"
        }
      ]
    },
    {
      "cell_type": "code",
      "metadata": {
        "colab": {
          "base_uri": "https://localhost:8080/"
        },
        "id": "nJ6bMPoXv6AO",
        "outputId": "a740f772-9034-4fe0-b8f1-e64fb3ce3381"
      },
      "source": [
        "iris_model1.fit(X_iris, y_iris)\n",
        "iris_model2.fit(X_iris, y_iris)\n",
        "iris_model3.fit(X_iris, y_iris)\n",
        "\n",
        "iris_pred1 = iris_model1.predict(X_iris)\n",
        "iris_pred2 = iris_model2.predict(X_iris)\n",
        "iris_pred3 = iris_model3.predict(X_iris)\n",
        "\n",
        "print(\"모델 1번의 train accuracy score : {}\".format(accuracy_score(y_iris, iris_pred1)))\n",
        "print(\"모델 2번의 train accuracy score : {}\".format(accuracy_score(y_iris, iris_pred2)))\n",
        "print(\"모델 3번의 train accuracy score : {}\".format(accuracy_score(y_iris, iris_pred3)))"
      ],
      "execution_count": 14,
      "outputs": [
        {
          "output_type": "stream",
          "text": [
            "모델 1번의 train accuracy score : 0.9666666666666667\n",
            "모델 2번의 train accuracy score : 0.9666666666666667\n",
            "모델 3번의 train accuracy score : 0.96\n"
          ],
          "name": "stdout"
        }
      ]
    },
    {
      "cell_type": "code",
      "metadata": {
        "colab": {
          "base_uri": "https://localhost:8080/"
        },
        "id": "sLi1euHHwIz9",
        "outputId": "626dee2b-c5d0-42cf-a88e-36507db3be1f"
      },
      "source": [
        "from sklearn.metrics import confusion_matrix, classification_report\n",
        "\n",
        "print(\"모델 1번 : kernel = 'rbf', gamma = 0.7, C = 1\")\n",
        "print(confusion_matrix(y_iris, iris_pred1))\n",
        "print(classification_report(y_iris, iris_pred1))\n",
        "\n",
        "print(\"모델 2번 : kernel = 'linear', C = 1\")\n",
        "print(confusion_matrix(y_iris, iris_pred2))\n",
        "print(classification_report(y_iris, iris_pred2))\n",
        "\n",
        "print(\"모델 3번 : kernel = 'poly', degree = 3, gamma = 'auto', C = 1\")\n",
        "print(confusion_matrix(y_iris, iris_pred3))\n",
        "print(classification_report(y_iris, iris_pred3))"
      ],
      "execution_count": 15,
      "outputs": [
        {
          "output_type": "stream",
          "text": [
            "모델 1번 : kernel = 'rbf', gamma = 0.7, C = 1\n",
            "[[50  0  0]\n",
            " [ 0 47  3]\n",
            " [ 0  2 48]]\n",
            "              precision    recall  f1-score   support\n",
            "\n",
            "           0       1.00      1.00      1.00        50\n",
            "           1       0.96      0.94      0.95        50\n",
            "           2       0.94      0.96      0.95        50\n",
            "\n",
            "    accuracy                           0.97       150\n",
            "   macro avg       0.97      0.97      0.97       150\n",
            "weighted avg       0.97      0.97      0.97       150\n",
            "\n",
            "모델 2번 : kernel = 'linear', C = 1\n",
            "[[50  0  0]\n",
            " [ 0 47  3]\n",
            " [ 0  2 48]]\n",
            "              precision    recall  f1-score   support\n",
            "\n",
            "           0       1.00      1.00      1.00        50\n",
            "           1       0.96      0.94      0.95        50\n",
            "           2       0.94      0.96      0.95        50\n",
            "\n",
            "    accuracy                           0.97       150\n",
            "   macro avg       0.97      0.97      0.97       150\n",
            "weighted avg       0.97      0.97      0.97       150\n",
            "\n",
            "모델 3번 : kernel = 'poly', degree = 3, gamma = 'auto', C = 1\n",
            "[[50  0  0]\n",
            " [ 0 47  3]\n",
            " [ 0  3 47]]\n",
            "              precision    recall  f1-score   support\n",
            "\n",
            "           0       1.00      1.00      1.00        50\n",
            "           1       0.94      0.94      0.94        50\n",
            "           2       0.94      0.94      0.94        50\n",
            "\n",
            "    accuracy                           0.96       150\n",
            "   macro avg       0.96      0.96      0.96       150\n",
            "weighted avg       0.96      0.96      0.96       150\n",
            "\n"
          ],
          "name": "stdout"
        }
      ]
    },
    {
      "cell_type": "markdown",
      "metadata": {
        "id": "S_HgdTLivXZv"
      },
      "source": [
        "# 11-3 : mnist 데이터를 이용해 SVC 학습"
      ]
    },
    {
      "cell_type": "code",
      "metadata": {
        "id": "LHrDocqhxWo6"
      },
      "source": [
        "from sklearn.datasets import fetch_openml\n",
        "\n",
        "mnist = fetch_openml('mnist_784')"
      ],
      "execution_count": 16,
      "outputs": []
    },
    {
      "cell_type": "code",
      "metadata": {
        "id": "cg98rB52x5wg"
      },
      "source": [
        "def mnist_stratified_sampling(target):\n",
        "    '''각 숫자별로 550개씩 총 5500개 샘플 추출'''\n",
        "    np.random.seed(20152410)\n",
        "    index_list = [np.random.permutation(np.where(target == i)[0])[:550]\n",
        "                  for i in range(10)]\n",
        "    index = np.concatenate(index_list)\n",
        "    \n",
        "    return index\n",
        "\n",
        "X = mnist['data']\n",
        "y = mnist[\"target\"].astype(np.int)\n",
        "\n",
        "sample_index = mnist_stratified_sampling(y)\n",
        "X_small = X[sample_index] / 255\n",
        "y_small = y[sample_index]\n",
        "\n",
        "from sklearn.model_selection import StratifiedKFold\n",
        "\n",
        "stratified_kfold = StratifiedKFold(n_splits = 11)\n",
        "\n",
        "for train_index, test_index in stratified_kfold.split(X_small, y_small):\n",
        "    # train : 5000, test : 500\n",
        "    X_train, X_test = X_small[train_index], X_small[test_index]\n",
        "    y_train, y_test = y_small[train_index], y_small[test_index]"
      ],
      "execution_count": 17,
      "outputs": []
    },
    {
      "cell_type": "code",
      "metadata": {
        "colab": {
          "base_uri": "https://localhost:8080/"
        },
        "id": "ESlh-rvXyICe",
        "outputId": "0c2c7454-14c3-4681-e003-8506d15b54d3"
      },
      "source": [
        "X_train.shape, X_test.shape, y_train.shape, y_test.shape"
      ],
      "execution_count": 18,
      "outputs": [
        {
          "output_type": "execute_result",
          "data": {
            "text/plain": [
              "((5000, 784), (500, 784), (5000,), (500,))"
            ]
          },
          "metadata": {
            "tags": []
          },
          "execution_count": 18
        }
      ]
    },
    {
      "cell_type": "code",
      "metadata": {
        "id": "ivmMHQZ8yMEd"
      },
      "source": [
        "mnist_model1 = SVC(kernel = 'rbf', gamma = 1, C = 1)\n",
        "mnist_model2 = SVC(kernel = 'rbf', gamma = 'auto', C = 1)\n",
        "mnist_model3 = SVC(kernel = 'rbf', gamma = 1, C = 10)\n",
        "mnist_model4 = SVC(kernel = 'rbf', gamma = 'auto', C = 10)\n",
        "\n",
        "mnist_model_list = [mnist_model1, mnist_model2, mnist_model3, mnist_model4]"
      ],
      "execution_count": 19,
      "outputs": []
    },
    {
      "cell_type": "code",
      "metadata": {
        "id": "dD3RKHNkyh0l"
      },
      "source": [
        "mnist_cv_accuracy_score = [cross_val_score(model,\n",
        "                                           X = X_train,\n",
        "                                           y = y_train,\n",
        "                                           cv = 4,\n",
        "                                           scoring = make_scorer(accuracy_score)) for model in mnist_model_list]"
      ],
      "execution_count": 20,
      "outputs": []
    },
    {
      "cell_type": "code",
      "metadata": {
        "colab": {
          "base_uri": "https://localhost:8080/"
        },
        "id": "BYF3KQ8ny2LX",
        "outputId": "ba8a168c-ff9c-42e4-d1e0-4ccd94b234cd"
      },
      "source": [
        "for index, value in enumerate(mnist_cv_accuracy_score):\n",
        "    print(\"모델 {}번의 CV accuracy score : {}, 평균 성능 : {}\".format(index + 1, value, value.mean()))"
      ],
      "execution_count": 21,
      "outputs": [
        {
          "output_type": "stream",
          "text": [
            "모델 1번의 CV accuracy score : [0.1808 0.1656 0.1712 0.168 ], 평균 성능 : 0.1714\n",
            "모델 2번의 CV accuracy score : [0.8984 0.8896 0.8992 0.9016], 평균 성능 : 0.8972\n",
            "모델 3번의 CV accuracy score : [0.1944 0.1752 0.1792 0.1848], 평균 성능 : 0.18339999999999998\n",
            "모델 4번의 CV accuracy score : [0.9272 0.924  0.9368 0.9256], 평균 성능 : 0.9283999999999999\n"
          ],
          "name": "stdout"
        }
      ]
    },
    {
      "cell_type": "markdown",
      "metadata": {
        "id": "vv3v9Vsq-sy-"
      },
      "source": [
        "mnist small 데이터에서 CV accuracy score가 가장 좋은 모델은 SVC(kernel = 'rbf', gamma = 'auto', C = 10)"
      ]
    },
    {
      "cell_type": "code",
      "metadata": {
        "id": "wc2TddWh-GkC"
      },
      "source": [
        "mnist_model4.fit(X_train, y_train)\n",
        "y_test_pred = mnist_model4.predict(X_test)"
      ],
      "execution_count": 22,
      "outputs": []
    },
    {
      "cell_type": "code",
      "metadata": {
        "colab": {
          "base_uri": "https://localhost:8080/"
        },
        "id": "Lq9PNtl--Rsn",
        "outputId": "119abe98-c301-4e87-a3e7-8d0bef1e4e20"
      },
      "source": [
        "print(\"모델 3번 : kernel = 'rbf', gamma = 'auto', C = 10\")\n",
        "print(confusion_matrix(y_test, y_test_pred))\n",
        "print(classification_report(y_test, y_test_pred))"
      ],
      "execution_count": 23,
      "outputs": [
        {
          "output_type": "stream",
          "text": [
            "모델 3번 : kernel = 'rbf', gamma = 'auto', C = 10\n",
            "[[48  0  0  0  0  1  1  0  0  0]\n",
            " [ 0 48  0  0  0  0  1  0  1  0]\n",
            " [ 1  0 44  0  2  0  0  2  0  1]\n",
            " [ 0  2  3 39  0  5  0  1  0  0]\n",
            " [ 0  1  0  0 48  0  0  0  0  1]\n",
            " [ 1  0  0  2  0 44  0  1  2  0]\n",
            " [ 0  0  0  0  0  0 50  0  0  0]\n",
            " [ 1  0  0  0  0  0  0 48  0  1]\n",
            " [ 0  2  1  1  0  0  1  1 44  0]\n",
            " [ 0  0  0  0  0  0  1  1  0 48]]\n",
            "              precision    recall  f1-score   support\n",
            "\n",
            "           0       0.94      0.96      0.95        50\n",
            "           1       0.91      0.96      0.93        50\n",
            "           2       0.92      0.88      0.90        50\n",
            "           3       0.93      0.78      0.85        50\n",
            "           4       0.96      0.96      0.96        50\n",
            "           5       0.88      0.88      0.88        50\n",
            "           6       0.93      1.00      0.96        50\n",
            "           7       0.89      0.96      0.92        50\n",
            "           8       0.94      0.88      0.91        50\n",
            "           9       0.94      0.96      0.95        50\n",
            "\n",
            "    accuracy                           0.92       500\n",
            "   macro avg       0.92      0.92      0.92       500\n",
            "weighted avg       0.92      0.92      0.92       500\n",
            "\n"
          ],
          "name": "stdout"
        }
      ]
    },
    {
      "cell_type": "markdown",
      "metadata": {
        "id": "Cxmjph77y6zH"
      },
      "source": [
        "# 11-4 : breast cancer 데이터로 SVC 학습"
      ]
    },
    {
      "cell_type": "code",
      "metadata": {
        "colab": {
          "base_uri": "https://localhost:8080/"
        },
        "id": "IwRwtQK-y-7X",
        "outputId": "fc7ffb38-7522-4b8a-f99d-890bf8ade0a5"
      },
      "source": [
        "from sklearn.datasets import load_breast_cancer\n",
        "\n",
        "breast_cancer = load_breast_cancer()\n",
        "print(breast_cancer.DESCR)"
      ],
      "execution_count": 24,
      "outputs": [
        {
          "output_type": "stream",
          "text": [
            ".. _breast_cancer_dataset:\n",
            "\n",
            "Breast cancer wisconsin (diagnostic) dataset\n",
            "--------------------------------------------\n",
            "\n",
            "**Data Set Characteristics:**\n",
            "\n",
            "    :Number of Instances: 569\n",
            "\n",
            "    :Number of Attributes: 30 numeric, predictive attributes and the class\n",
            "\n",
            "    :Attribute Information:\n",
            "        - radius (mean of distances from center to points on the perimeter)\n",
            "        - texture (standard deviation of gray-scale values)\n",
            "        - perimeter\n",
            "        - area\n",
            "        - smoothness (local variation in radius lengths)\n",
            "        - compactness (perimeter^2 / area - 1.0)\n",
            "        - concavity (severity of concave portions of the contour)\n",
            "        - concave points (number of concave portions of the contour)\n",
            "        - symmetry \n",
            "        - fractal dimension (\"coastline approximation\" - 1)\n",
            "\n",
            "        The mean, standard error, and \"worst\" or largest (mean of the three\n",
            "        largest values) of these features were computed for each image,\n",
            "        resulting in 30 features.  For instance, field 3 is Mean Radius, field\n",
            "        13 is Radius SE, field 23 is Worst Radius.\n",
            "\n",
            "        - class:\n",
            "                - WDBC-Malignant\n",
            "                - WDBC-Benign\n",
            "\n",
            "    :Summary Statistics:\n",
            "\n",
            "    ===================================== ====== ======\n",
            "                                           Min    Max\n",
            "    ===================================== ====== ======\n",
            "    radius (mean):                        6.981  28.11\n",
            "    texture (mean):                       9.71   39.28\n",
            "    perimeter (mean):                     43.79  188.5\n",
            "    area (mean):                          143.5  2501.0\n",
            "    smoothness (mean):                    0.053  0.163\n",
            "    compactness (mean):                   0.019  0.345\n",
            "    concavity (mean):                     0.0    0.427\n",
            "    concave points (mean):                0.0    0.201\n",
            "    symmetry (mean):                      0.106  0.304\n",
            "    fractal dimension (mean):             0.05   0.097\n",
            "    radius (standard error):              0.112  2.873\n",
            "    texture (standard error):             0.36   4.885\n",
            "    perimeter (standard error):           0.757  21.98\n",
            "    area (standard error):                6.802  542.2\n",
            "    smoothness (standard error):          0.002  0.031\n",
            "    compactness (standard error):         0.002  0.135\n",
            "    concavity (standard error):           0.0    0.396\n",
            "    concave points (standard error):      0.0    0.053\n",
            "    symmetry (standard error):            0.008  0.079\n",
            "    fractal dimension (standard error):   0.001  0.03\n",
            "    radius (worst):                       7.93   36.04\n",
            "    texture (worst):                      12.02  49.54\n",
            "    perimeter (worst):                    50.41  251.2\n",
            "    area (worst):                         185.2  4254.0\n",
            "    smoothness (worst):                   0.071  0.223\n",
            "    compactness (worst):                  0.027  1.058\n",
            "    concavity (worst):                    0.0    1.252\n",
            "    concave points (worst):               0.0    0.291\n",
            "    symmetry (worst):                     0.156  0.664\n",
            "    fractal dimension (worst):            0.055  0.208\n",
            "    ===================================== ====== ======\n",
            "\n",
            "    :Missing Attribute Values: None\n",
            "\n",
            "    :Class Distribution: 212 - Malignant, 357 - Benign\n",
            "\n",
            "    :Creator:  Dr. William H. Wolberg, W. Nick Street, Olvi L. Mangasarian\n",
            "\n",
            "    :Donor: Nick Street\n",
            "\n",
            "    :Date: November, 1995\n",
            "\n",
            "This is a copy of UCI ML Breast Cancer Wisconsin (Diagnostic) datasets.\n",
            "https://goo.gl/U2Uwz2\n",
            "\n",
            "Features are computed from a digitized image of a fine needle\n",
            "aspirate (FNA) of a breast mass.  They describe\n",
            "characteristics of the cell nuclei present in the image.\n",
            "\n",
            "Separating plane described above was obtained using\n",
            "Multisurface Method-Tree (MSM-T) [K. P. Bennett, \"Decision Tree\n",
            "Construction Via Linear Programming.\" Proceedings of the 4th\n",
            "Midwest Artificial Intelligence and Cognitive Science Society,\n",
            "pp. 97-101, 1992], a classification method which uses linear\n",
            "programming to construct a decision tree.  Relevant features\n",
            "were selected using an exhaustive search in the space of 1-4\n",
            "features and 1-3 separating planes.\n",
            "\n",
            "The actual linear program used to obtain the separating plane\n",
            "in the 3-dimensional space is that described in:\n",
            "[K. P. Bennett and O. L. Mangasarian: \"Robust Linear\n",
            "Programming Discrimination of Two Linearly Inseparable Sets\",\n",
            "Optimization Methods and Software 1, 1992, 23-34].\n",
            "\n",
            "This database is also available through the UW CS ftp server:\n",
            "\n",
            "ftp ftp.cs.wisc.edu\n",
            "cd math-prog/cpo-dataset/machine-learn/WDBC/\n",
            "\n",
            ".. topic:: References\n",
            "\n",
            "   - W.N. Street, W.H. Wolberg and O.L. Mangasarian. Nuclear feature extraction \n",
            "     for breast tumor diagnosis. IS&T/SPIE 1993 International Symposium on \n",
            "     Electronic Imaging: Science and Technology, volume 1905, pages 861-870,\n",
            "     San Jose, CA, 1993.\n",
            "   - O.L. Mangasarian, W.N. Street and W.H. Wolberg. Breast cancer diagnosis and \n",
            "     prognosis via linear programming. Operations Research, 43(4), pages 570-577, \n",
            "     July-August 1995.\n",
            "   - W.H. Wolberg, W.N. Street, and O.L. Mangasarian. Machine learning techniques\n",
            "     to diagnose breast cancer from fine-needle aspirates. Cancer Letters 77 (1994) \n",
            "     163-171.\n"
          ],
          "name": "stdout"
        }
      ]
    },
    {
      "cell_type": "code",
      "metadata": {
        "colab": {
          "base_uri": "https://localhost:8080/"
        },
        "id": "AcmUEIKSzm7a",
        "outputId": "3b04cca3-8bbf-4d72-9ac0-b3c717e52c93"
      },
      "source": [
        "print(breast_cancer.feature_names)"
      ],
      "execution_count": 25,
      "outputs": [
        {
          "output_type": "stream",
          "text": [
            "['mean radius' 'mean texture' 'mean perimeter' 'mean area'\n",
            " 'mean smoothness' 'mean compactness' 'mean concavity'\n",
            " 'mean concave points' 'mean symmetry' 'mean fractal dimension'\n",
            " 'radius error' 'texture error' 'perimeter error' 'area error'\n",
            " 'smoothness error' 'compactness error' 'concavity error'\n",
            " 'concave points error' 'symmetry error' 'fractal dimension error'\n",
            " 'worst radius' 'worst texture' 'worst perimeter' 'worst area'\n",
            " 'worst smoothness' 'worst compactness' 'worst concavity'\n",
            " 'worst concave points' 'worst symmetry' 'worst fractal dimension']\n"
          ],
          "name": "stdout"
        }
      ]
    },
    {
      "cell_type": "code",
      "metadata": {
        "colab": {
          "base_uri": "https://localhost:8080/"
        },
        "id": "9tk_RsWrzl9S",
        "outputId": "2aa56ea3-4457-40ae-886a-59e71306d424"
      },
      "source": [
        "print(breast_cancer.target_names)"
      ],
      "execution_count": 26,
      "outputs": [
        {
          "output_type": "stream",
          "text": [
            "['malignant' 'benign']\n"
          ],
          "name": "stdout"
        }
      ]
    },
    {
      "cell_type": "code",
      "metadata": {
        "id": "FfGIitrNzdwM"
      },
      "source": [
        "X_bc = breast_cancer.data\n",
        "y_bc = breast_cancer.target.astype(np.int)\n",
        "\n",
        "from sklearn.model_selection import train_test_split\n",
        "\n",
        "X_train, X_test, y_train, y_test = train_test_split(X_bc,\n",
        "                                                    y_bc,\n",
        "                                                    train_size = 0.8,\n",
        "                                                    stratify = y_bc,\n",
        "                                                    random_state = 20152410)\n",
        "\n",
        "from sklearn.preprocessing import StandardScaler\n",
        "\n",
        "scaler = StandardScaler()\n",
        "X_bc_scaled = scaler.fit_transform(X_train)"
      ],
      "execution_count": 27,
      "outputs": []
    },
    {
      "cell_type": "code",
      "metadata": {
        "id": "M-j49zGFzHKj"
      },
      "source": [
        "bc_model1 = SVC(kernel = 'rbf', gamma = 1, C = 1)\n",
        "bc_model2 = SVC(kernel = 'rbf', gamma = 10, C = 1)\n",
        "bc_model3 = SVC(kernel = 'rbf', gamma = 1, C = 10)\n",
        "bc_model4 = SVC(kernel = 'rbf', gamma = 10, C = 10)\n",
        "bc_model5 = SVC(kernel = 'rbf', gamma = 'auto', C = 0.1)\n",
        "bc_model6 = SVC(kernel = 'rbf', gamma = 'auto', C = 1)\n",
        "bc_model7 = SVC(kernel = 'rbf', gamma = 'auto', C = 10)\n",
        "bc_model8 = SVC(kernel = 'rbf', gamma = 'scale', C = 10)\n",
        "bc_model9 = SVC(kernel = 'rbf', gamma = 1/30, C = 10)\n",
        "bc_model10 = SVC(kernel = 'rbf', gamma = 1/100, C = 1)\n",
        "bc_model11 = SVC(kernel = 'rbf', gamma = 1/100, C = 10)\n",
        "\n",
        "bc_model_list = [bc_model1, bc_model2, bc_model3, bc_model4, bc_model5,\n",
        "                 bc_model6, bc_model7, bc_model8, bc_model9, bc_model10, bc_model11]"
      ],
      "execution_count": 28,
      "outputs": []
    },
    {
      "cell_type": "markdown",
      "metadata": {
        "id": "Ks7mTGo92kxI"
      },
      "source": [
        "gamma를 'auto'나 'scale'로 하면 \n",
        "\n",
        "if gamma='scale' (default) is passed then it uses 1 / (n_features * X.var()) as value of gamma,\n",
        "\n",
        "if ‘auto’, uses 1 / n_features.로 설정됨\n",
        "\n",
        "학습 결과 보니까 'scale'로 해도 1 / n_features랑 결과가 같네"
      ]
    },
    {
      "cell_type": "code",
      "metadata": {
        "id": "IDxQ--lOzLIk"
      },
      "source": [
        "bc_cv_accuracy_score = [cross_val_score(model,\n",
        "                                        X = X_bc_scaled,\n",
        "                                        y = y_train,\n",
        "                                        cv = 5,\n",
        "                                        scoring = make_scorer(accuracy_score)) for model in bc_model_list]"
      ],
      "execution_count": 29,
      "outputs": []
    },
    {
      "cell_type": "code",
      "metadata": {
        "colab": {
          "base_uri": "https://localhost:8080/"
        },
        "id": "YsA_uhrR0m_H",
        "outputId": "944a3d02-5a97-4cfa-f008-2b22cfdca4c5"
      },
      "source": [
        "for index, value in enumerate(bc_cv_accuracy_score):\n",
        "    print(\"모델 {}번의 CV accuracy score : {}, 평균 성능 : {}\".format(index + 1, value, value.mean()))"
      ],
      "execution_count": 30,
      "outputs": [
        {
          "output_type": "stream",
          "text": [
            "모델 1번의 CV accuracy score : [0.62637363 0.62637363 0.63736264 0.63736264 0.62637363], 평균 성능 : 0.6307692307692307\n",
            "모델 2번의 CV accuracy score : [0.62637363 0.62637363 0.62637363 0.62637363 0.62637363], 평균 성능 : 0.6263736263736264\n",
            "모델 3번의 CV accuracy score : [0.62637363 0.62637363 0.63736264 0.63736264 0.62637363], 평균 성능 : 0.6307692307692307\n",
            "모델 4번의 CV accuracy score : [0.62637363 0.62637363 0.62637363 0.62637363 0.62637363], 평균 성능 : 0.6263736263736264\n",
            "모델 5번의 CV accuracy score : [0.92307692 0.96703297 0.95604396 0.93406593 0.92307692], 평균 성능 : 0.9406593406593406\n",
            "모델 6번의 CV accuracy score : [0.95604396 0.98901099 0.97802198 0.95604396 0.96703297], 평균 성능 : 0.9692307692307693\n",
            "모델 7번의 CV accuracy score : [0.98901099 0.98901099 0.94505495 0.94505495 0.97802198], 평균 성능 : 0.9692307692307693\n",
            "모델 8번의 CV accuracy score : [0.98901099 0.98901099 0.94505495 0.94505495 0.97802198], 평균 성능 : 0.9692307692307693\n",
            "모델 9번의 CV accuracy score : [0.98901099 0.98901099 0.94505495 0.94505495 0.97802198], 평균 성능 : 0.9692307692307693\n",
            "모델 10번의 CV accuracy score : [0.93406593 0.96703297 0.98901099 0.97802198 0.96703297], 평균 성능 : 0.9670329670329669\n",
            "모델 11번의 CV accuracy score : [0.98901099 0.97802198 1.         0.95604396 0.95604396], 평균 성능 : 0.9758241758241759\n"
          ],
          "name": "stdout"
        }
      ]
    },
    {
      "cell_type": "markdown",
      "metadata": {
        "id": "ulUCdb_F3Uo_"
      },
      "source": [
        "CV accuracy score가 가장 좋은 모델은 SVC(kernel = 'rbf', gamma = 1/100, C = 10) 모델"
      ]
    },
    {
      "cell_type": "code",
      "metadata": {
        "colab": {
          "base_uri": "https://localhost:8080/"
        },
        "id": "171VHJvT0wtA",
        "outputId": "6fa31926-9ebd-45d7-9913-195b9943f1a5"
      },
      "source": [
        "from sklearn.linear_model import SGDClassifier\n",
        "\n",
        "sgd_clf = SGDClassifier()\n",
        "cv_sgc_accuracy_score = cross_val_score(sgd_clf,\n",
        "                                        X = X_bc_scaled,\n",
        "                                        y = y_train,\n",
        "                                        cv = 5,\n",
        "                                        scoring = make_scorer(accuracy_score))\n",
        "\n",
        "print(\"SGDClassifier CV accuracy score : {}, 평균 성능 : {}\".format(cv_sgc_accuracy_score, cv_sgc_accuracy_score.mean()))"
      ],
      "execution_count": 31,
      "outputs": [
        {
          "output_type": "stream",
          "text": [
            "SGDClassifier CV accuracy score : [0.97802198 0.96703297 0.96703297 0.92307692 0.95604396], 평균 성능 : 0.9582417582417582\n"
          ],
          "name": "stdout"
        }
      ]
    },
    {
      "cell_type": "markdown",
      "metadata": {
        "id": "aFYZ-5f234_o"
      },
      "source": [
        "SGDClassifier의 default 옵션 모델의 CV score보다 SVC(kernel = 'rbf', gamma = 1/100, C = 10) 모델의 CV score가 더 높다.\n",
        "\n",
        "test accuracy score를 비교해보면"
      ]
    },
    {
      "cell_type": "code",
      "metadata": {
        "id": "aITC4e4N7oCf"
      },
      "source": [
        "bc_model11.fit(X_bc_scaled, y_train)\n",
        "sgd_clf.fit(X_bc_scaled, y_train)\n",
        "\n",
        "X_test_scaled = scaler.transform(X_test)\n",
        "\n",
        "y_pred_svc = bc_model11.predict(X_test_scaled)\n",
        "y_pred_sgd = sgd_clf.predict(X_test_scaled)"
      ],
      "execution_count": 32,
      "outputs": []
    },
    {
      "cell_type": "code",
      "metadata": {
        "colab": {
          "base_uri": "https://localhost:8080/"
        },
        "id": "1SLvgaZP7hlk",
        "outputId": "ad8a5da4-e57e-499d-fc98-efe428daf809"
      },
      "source": [
        "print(\"SVC test accuracy score : {}\".format(accuracy_score(y_test, y_pred_svc)))\n",
        "print(\"SGDClassifier test accuracy score : {}\".format(accuracy_score(y_test, y_pred_sgd)))"
      ],
      "execution_count": 33,
      "outputs": [
        {
          "output_type": "stream",
          "text": [
            "SVC test accuracy score : 0.9824561403508771\n",
            "SGDClassifier test accuracy score : 0.9912280701754386\n"
          ],
          "name": "stdout"
        }
      ]
    },
    {
      "cell_type": "markdown",
      "metadata": {
        "id": "BU1yGPVp8H8_"
      },
      "source": [
        "SVC(kernel = 'rbf', gamma = 1/100, C = 10) 모델의 test 정확도가 약 1%정도 더 높은 것을 확인할 수 있다."
      ]
    }
  ]
}