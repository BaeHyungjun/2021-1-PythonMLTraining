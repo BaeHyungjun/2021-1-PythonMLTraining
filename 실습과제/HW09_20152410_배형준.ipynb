{
  "nbformat": 4,
  "nbformat_minor": 0,
  "metadata": {
    "colab": {
      "name": "HW09_20152410_배형준.ipynb",
      "provenance": [],
      "collapsed_sections": []
    },
    "kernelspec": {
      "name": "python3",
      "display_name": "Python 3"
    },
    "language_info": {
      "name": "python"
    }
  },
  "cells": [
    {
      "cell_type": "markdown",
      "metadata": {
        "id": "p5w3NhynEw42"
      },
      "source": [
        "# 9-1 : linear regression of insurance.csv"
      ]
    },
    {
      "cell_type": "code",
      "metadata": {
        "id": "eXEII-0rkiaX"
      },
      "source": [
        "import numpy as np\n",
        "import pandas as pd\n",
        "import matplotlib\n",
        "import matplotlib.pyplot as plt"
      ],
      "execution_count": 1,
      "outputs": []
    },
    {
      "cell_type": "code",
      "metadata": {
        "id": "7sPgEH_Pkp1s"
      },
      "source": [
        "data_insurance = pd.read_csv(\"./insurance.csv\", header = 0)\n",
        "data = data_insurance.copy()"
      ],
      "execution_count": 2,
      "outputs": []
    },
    {
      "cell_type": "code",
      "metadata": {
        "colab": {
          "base_uri": "https://localhost:8080/",
          "height": 204
        },
        "id": "Rl11mwWrrk-w",
        "outputId": "129245eb-5472-4a26-c37b-9966acf8c8bc"
      },
      "source": [
        "data.head()"
      ],
      "execution_count": 3,
      "outputs": [
        {
          "output_type": "execute_result",
          "data": {
            "text/html": [
              "<div>\n",
              "<style scoped>\n",
              "    .dataframe tbody tr th:only-of-type {\n",
              "        vertical-align: middle;\n",
              "    }\n",
              "\n",
              "    .dataframe tbody tr th {\n",
              "        vertical-align: top;\n",
              "    }\n",
              "\n",
              "    .dataframe thead th {\n",
              "        text-align: right;\n",
              "    }\n",
              "</style>\n",
              "<table border=\"1\" class=\"dataframe\">\n",
              "  <thead>\n",
              "    <tr style=\"text-align: right;\">\n",
              "      <th></th>\n",
              "      <th>age</th>\n",
              "      <th>sex</th>\n",
              "      <th>bmi</th>\n",
              "      <th>children</th>\n",
              "      <th>smoker</th>\n",
              "      <th>region</th>\n",
              "      <th>expenses</th>\n",
              "    </tr>\n",
              "  </thead>\n",
              "  <tbody>\n",
              "    <tr>\n",
              "      <th>0</th>\n",
              "      <td>19</td>\n",
              "      <td>female</td>\n",
              "      <td>27.9</td>\n",
              "      <td>0</td>\n",
              "      <td>yes</td>\n",
              "      <td>southwest</td>\n",
              "      <td>16884.92</td>\n",
              "    </tr>\n",
              "    <tr>\n",
              "      <th>1</th>\n",
              "      <td>18</td>\n",
              "      <td>male</td>\n",
              "      <td>33.8</td>\n",
              "      <td>1</td>\n",
              "      <td>no</td>\n",
              "      <td>southeast</td>\n",
              "      <td>1725.55</td>\n",
              "    </tr>\n",
              "    <tr>\n",
              "      <th>2</th>\n",
              "      <td>28</td>\n",
              "      <td>male</td>\n",
              "      <td>33.0</td>\n",
              "      <td>3</td>\n",
              "      <td>no</td>\n",
              "      <td>southeast</td>\n",
              "      <td>4449.46</td>\n",
              "    </tr>\n",
              "    <tr>\n",
              "      <th>3</th>\n",
              "      <td>33</td>\n",
              "      <td>male</td>\n",
              "      <td>22.7</td>\n",
              "      <td>0</td>\n",
              "      <td>no</td>\n",
              "      <td>northwest</td>\n",
              "      <td>21984.47</td>\n",
              "    </tr>\n",
              "    <tr>\n",
              "      <th>4</th>\n",
              "      <td>32</td>\n",
              "      <td>male</td>\n",
              "      <td>28.9</td>\n",
              "      <td>0</td>\n",
              "      <td>no</td>\n",
              "      <td>northwest</td>\n",
              "      <td>3866.86</td>\n",
              "    </tr>\n",
              "  </tbody>\n",
              "</table>\n",
              "</div>"
            ],
            "text/plain": [
              "   age     sex   bmi  children smoker     region  expenses\n",
              "0   19  female  27.9         0    yes  southwest  16884.92\n",
              "1   18    male  33.8         1     no  southeast   1725.55\n",
              "2   28    male  33.0         3     no  southeast   4449.46\n",
              "3   33    male  22.7         0     no  northwest  21984.47\n",
              "4   32    male  28.9         0     no  northwest   3866.86"
            ]
          },
          "metadata": {
            "tags": []
          },
          "execution_count": 3
        }
      ]
    },
    {
      "cell_type": "code",
      "metadata": {
        "colab": {
          "base_uri": "https://localhost:8080/"
        },
        "id": "mG5qz8rakyjy",
        "outputId": "5a8a4b13-3751-4cab-b36b-30dc375acda5"
      },
      "source": [
        "data.info()"
      ],
      "execution_count": 4,
      "outputs": [
        {
          "output_type": "stream",
          "text": [
            "<class 'pandas.core.frame.DataFrame'>\n",
            "RangeIndex: 1338 entries, 0 to 1337\n",
            "Data columns (total 7 columns):\n",
            " #   Column    Non-Null Count  Dtype  \n",
            "---  ------    --------------  -----  \n",
            " 0   age       1338 non-null   int64  \n",
            " 1   sex       1338 non-null   object \n",
            " 2   bmi       1338 non-null   float64\n",
            " 3   children  1338 non-null   int64  \n",
            " 4   smoker    1338 non-null   object \n",
            " 5   region    1338 non-null   object \n",
            " 6   expenses  1338 non-null   float64\n",
            "dtypes: float64(2), int64(2), object(3)\n",
            "memory usage: 73.3+ KB\n"
          ],
          "name": "stdout"
        }
      ]
    },
    {
      "cell_type": "markdown",
      "metadata": {
        "id": "LmrIK-Jpk-Zr"
      },
      "source": [
        "0. age : 나이, 정수형  \n",
        "1. sex : 성별, 문자형  \n",
        "2. bmi : bmi 지수, 실수형  \n",
        "3. children : 자녀 수, 정수형  \n",
        "4. smoker : 흡연 여부, 문자형  \n",
        "5. region : 거주 지역, 문자형  \n",
        "6. expenses : 비용, 종속변수, 실수형"
      ]
    },
    {
      "cell_type": "markdown",
      "metadata": {
        "id": "2FRP7nCand8d"
      },
      "source": [
        "### 학습에 사용할 수 있도록 매트릭스 형태로 변환\n",
        "\n",
        "숫자형 변수 : 그대로 사용\n",
        "\n",
        "문자형 변수 (카테고리 변수) : onehot encoding"
      ]
    },
    {
      "cell_type": "code",
      "metadata": {
        "id": "asDPegWUk3pJ"
      },
      "source": [
        "import patsy\n",
        "\n",
        "formula = \"expenses ~ age + sex + bmi + children + smoker + region\"\n",
        "data_matrix = patsy.dmatrices(formula_like = formula,\n",
        "                              data = data,\n",
        "                              return_type = 'dataframe')\n",
        "y_train, X_train = data_matrix"
      ],
      "execution_count": 5,
      "outputs": []
    },
    {
      "cell_type": "code",
      "metadata": {
        "colab": {
          "base_uri": "https://localhost:8080/",
          "height": 204
        },
        "id": "IV7Pk-tCk8Pq",
        "outputId": "e18fcc71-c1fb-400c-a714-d7df1215b993"
      },
      "source": [
        "y_train.head()"
      ],
      "execution_count": 6,
      "outputs": [
        {
          "output_type": "execute_result",
          "data": {
            "text/html": [
              "<div>\n",
              "<style scoped>\n",
              "    .dataframe tbody tr th:only-of-type {\n",
              "        vertical-align: middle;\n",
              "    }\n",
              "\n",
              "    .dataframe tbody tr th {\n",
              "        vertical-align: top;\n",
              "    }\n",
              "\n",
              "    .dataframe thead th {\n",
              "        text-align: right;\n",
              "    }\n",
              "</style>\n",
              "<table border=\"1\" class=\"dataframe\">\n",
              "  <thead>\n",
              "    <tr style=\"text-align: right;\">\n",
              "      <th></th>\n",
              "      <th>expenses</th>\n",
              "    </tr>\n",
              "  </thead>\n",
              "  <tbody>\n",
              "    <tr>\n",
              "      <th>0</th>\n",
              "      <td>16884.92</td>\n",
              "    </tr>\n",
              "    <tr>\n",
              "      <th>1</th>\n",
              "      <td>1725.55</td>\n",
              "    </tr>\n",
              "    <tr>\n",
              "      <th>2</th>\n",
              "      <td>4449.46</td>\n",
              "    </tr>\n",
              "    <tr>\n",
              "      <th>3</th>\n",
              "      <td>21984.47</td>\n",
              "    </tr>\n",
              "    <tr>\n",
              "      <th>4</th>\n",
              "      <td>3866.86</td>\n",
              "    </tr>\n",
              "  </tbody>\n",
              "</table>\n",
              "</div>"
            ],
            "text/plain": [
              "   expenses\n",
              "0  16884.92\n",
              "1   1725.55\n",
              "2   4449.46\n",
              "3  21984.47\n",
              "4   3866.86"
            ]
          },
          "metadata": {
            "tags": []
          },
          "execution_count": 6
        }
      ]
    },
    {
      "cell_type": "code",
      "metadata": {
        "colab": {
          "base_uri": "https://localhost:8080/",
          "height": 224
        },
        "id": "E7Vwim4QnIFU",
        "outputId": "5351701b-2ec1-4097-ae3d-58ca50895aa8"
      },
      "source": [
        "X_train.head()"
      ],
      "execution_count": 7,
      "outputs": [
        {
          "output_type": "execute_result",
          "data": {
            "text/html": [
              "<div>\n",
              "<style scoped>\n",
              "    .dataframe tbody tr th:only-of-type {\n",
              "        vertical-align: middle;\n",
              "    }\n",
              "\n",
              "    .dataframe tbody tr th {\n",
              "        vertical-align: top;\n",
              "    }\n",
              "\n",
              "    .dataframe thead th {\n",
              "        text-align: right;\n",
              "    }\n",
              "</style>\n",
              "<table border=\"1\" class=\"dataframe\">\n",
              "  <thead>\n",
              "    <tr style=\"text-align: right;\">\n",
              "      <th></th>\n",
              "      <th>Intercept</th>\n",
              "      <th>sex[T.male]</th>\n",
              "      <th>smoker[T.yes]</th>\n",
              "      <th>region[T.northwest]</th>\n",
              "      <th>region[T.southeast]</th>\n",
              "      <th>region[T.southwest]</th>\n",
              "      <th>age</th>\n",
              "      <th>bmi</th>\n",
              "      <th>children</th>\n",
              "    </tr>\n",
              "  </thead>\n",
              "  <tbody>\n",
              "    <tr>\n",
              "      <th>0</th>\n",
              "      <td>1.0</td>\n",
              "      <td>0.0</td>\n",
              "      <td>1.0</td>\n",
              "      <td>0.0</td>\n",
              "      <td>0.0</td>\n",
              "      <td>1.0</td>\n",
              "      <td>19.0</td>\n",
              "      <td>27.9</td>\n",
              "      <td>0.0</td>\n",
              "    </tr>\n",
              "    <tr>\n",
              "      <th>1</th>\n",
              "      <td>1.0</td>\n",
              "      <td>1.0</td>\n",
              "      <td>0.0</td>\n",
              "      <td>0.0</td>\n",
              "      <td>1.0</td>\n",
              "      <td>0.0</td>\n",
              "      <td>18.0</td>\n",
              "      <td>33.8</td>\n",
              "      <td>1.0</td>\n",
              "    </tr>\n",
              "    <tr>\n",
              "      <th>2</th>\n",
              "      <td>1.0</td>\n",
              "      <td>1.0</td>\n",
              "      <td>0.0</td>\n",
              "      <td>0.0</td>\n",
              "      <td>1.0</td>\n",
              "      <td>0.0</td>\n",
              "      <td>28.0</td>\n",
              "      <td>33.0</td>\n",
              "      <td>3.0</td>\n",
              "    </tr>\n",
              "    <tr>\n",
              "      <th>3</th>\n",
              "      <td>1.0</td>\n",
              "      <td>1.0</td>\n",
              "      <td>0.0</td>\n",
              "      <td>1.0</td>\n",
              "      <td>0.0</td>\n",
              "      <td>0.0</td>\n",
              "      <td>33.0</td>\n",
              "      <td>22.7</td>\n",
              "      <td>0.0</td>\n",
              "    </tr>\n",
              "    <tr>\n",
              "      <th>4</th>\n",
              "      <td>1.0</td>\n",
              "      <td>1.0</td>\n",
              "      <td>0.0</td>\n",
              "      <td>1.0</td>\n",
              "      <td>0.0</td>\n",
              "      <td>0.0</td>\n",
              "      <td>32.0</td>\n",
              "      <td>28.9</td>\n",
              "      <td>0.0</td>\n",
              "    </tr>\n",
              "  </tbody>\n",
              "</table>\n",
              "</div>"
            ],
            "text/plain": [
              "   Intercept  sex[T.male]  smoker[T.yes]  ...   age   bmi  children\n",
              "0        1.0          0.0            1.0  ...  19.0  27.9       0.0\n",
              "1        1.0          1.0            0.0  ...  18.0  33.8       1.0\n",
              "2        1.0          1.0            0.0  ...  28.0  33.0       3.0\n",
              "3        1.0          1.0            0.0  ...  33.0  22.7       0.0\n",
              "4        1.0          1.0            0.0  ...  32.0  28.9       0.0\n",
              "\n",
              "[5 rows x 9 columns]"
            ]
          },
          "metadata": {
            "tags": []
          },
          "execution_count": 7
        }
      ]
    },
    {
      "cell_type": "markdown",
      "metadata": {
        "id": "FsczpDmSn0a6"
      },
      "source": [
        "### 선형회귀"
      ]
    },
    {
      "cell_type": "code",
      "metadata": {
        "id": "jJ0PbWYbo3T9"
      },
      "source": [
        "from sklearn.linear_model import LinearRegression\n",
        "from sklearn.metrics import mean_squared_error, mean_absolute_error\n",
        "\n",
        "model = LinearRegression(fit_intercept = False)\n",
        "model.fit(X_train, y_train)\n",
        "pred = model.predict(X_train)\n",
        "mse = mean_squared_error(y_train, pred)\n",
        "mae = mean_absolute_error(y_train, pred)"
      ],
      "execution_count": 8,
      "outputs": []
    },
    {
      "cell_type": "code",
      "metadata": {
        "colab": {
          "base_uri": "https://localhost:8080/"
        },
        "id": "dN6v_pRHpJNl",
        "outputId": "1c71d8db-c123-4ca1-81b6-5876e593a1a0"
      },
      "source": [
        "print(\"선형회귀모델의 계수\\n\")\n",
        "for iter, column in enumerate(X_train.columns):\n",
        "    print(\"{} 변수의 계수\".format(column).ljust(30, ' '), \": {}\".format(model.coef_[0, iter-1]))"
      ],
      "execution_count": 9,
      "outputs": [
        {
          "output_type": "stream",
          "text": [
            "선형회귀모델의 계수\n",
            "\n",
            "Intercept 변수의 계수               : 475.68891551264454\n",
            "sex[T.male] 변수의 계수             : -11941.562460855705\n",
            "smoker[T.yes] 변수의 계수           : -131.352014107324\n",
            "region[T.northwest] 변수의 계수     : 23847.476695040208\n",
            "region[T.southeast] 변수의 계수     : -352.79009551848645\n",
            "region[T.southwest] 변수의 계수     : -1035.5957010023126\n",
            "age 변수의 계수                     : -959.3058293994179\n",
            "bmi 변수의 계수                     : 256.839170623225\n",
            "children 변수의 계수                : 339.28986330949357\n"
          ],
          "name": "stdout"
        }
      ]
    },
    {
      "cell_type": "code",
      "metadata": {
        "colab": {
          "base_uri": "https://localhost:8080/"
        },
        "id": "7YKdKMtBpcwc",
        "outputId": "3735c29e-8175-42f6-d462-6b515836f5a2"
      },
      "source": [
        "print(\"선형회귀모델의 MSE : {}\".format(mse))\n",
        "print(\"선형회귀모델의 MAE : {}\".format(mae))"
      ],
      "execution_count": 10,
      "outputs": [
        {
          "output_type": "stream",
          "text": [
            "선형회귀모델의 MSE : 36499631.63514606\n",
            "선형회귀모델의 MAE : 4170.7309867908\n"
          ],
          "name": "stdout"
        }
      ]
    },
    {
      "cell_type": "markdown",
      "metadata": {
        "id": "tyrQ4x3gqyUx"
      },
      "source": [
        "# 9-2, 9-3 : diabetes 데이터 선형회귀, 릿지회귀, 라쏘회귀"
      ]
    },
    {
      "cell_type": "code",
      "metadata": {
        "id": "DaiDc7rlrP-q"
      },
      "source": [
        "from sklearn.datasets import load_diabetes\n",
        "\n",
        "diabetes = load_diabetes()\n",
        "X, y = diabetes.data, diabetes.target"
      ],
      "execution_count": 11,
      "outputs": []
    },
    {
      "cell_type": "code",
      "metadata": {
        "colab": {
          "base_uri": "https://localhost:8080/"
        },
        "id": "DCJ_sYyVrqwu",
        "outputId": "0f9ecb95-667d-4d88-8514-eda418c39202"
      },
      "source": [
        "print(diabetes.DESCR)"
      ],
      "execution_count": 12,
      "outputs": [
        {
          "output_type": "stream",
          "text": [
            ".. _diabetes_dataset:\n",
            "\n",
            "Diabetes dataset\n",
            "----------------\n",
            "\n",
            "Ten baseline variables, age, sex, body mass index, average blood\n",
            "pressure, and six blood serum measurements were obtained for each of n =\n",
            "442 diabetes patients, as well as the response of interest, a\n",
            "quantitative measure of disease progression one year after baseline.\n",
            "\n",
            "**Data Set Characteristics:**\n",
            "\n",
            "  :Number of Instances: 442\n",
            "\n",
            "  :Number of Attributes: First 10 columns are numeric predictive values\n",
            "\n",
            "  :Target: Column 11 is a quantitative measure of disease progression one year after baseline\n",
            "\n",
            "  :Attribute Information:\n",
            "      - age     age in years\n",
            "      - sex\n",
            "      - bmi     body mass index\n",
            "      - bp      average blood pressure\n",
            "      - s1      tc, T-Cells (a type of white blood cells)\n",
            "      - s2      ldl, low-density lipoproteins\n",
            "      - s3      hdl, high-density lipoproteins\n",
            "      - s4      tch, thyroid stimulating hormone\n",
            "      - s5      ltg, lamotrigine\n",
            "      - s6      glu, blood sugar level\n",
            "\n",
            "Note: Each of these 10 feature variables have been mean centered and scaled by the standard deviation times `n_samples` (i.e. the sum of squares of each column totals 1).\n",
            "\n",
            "Source URL:\n",
            "https://www4.stat.ncsu.edu/~boos/var.select/diabetes.html\n",
            "\n",
            "For more information see:\n",
            "Bradley Efron, Trevor Hastie, Iain Johnstone and Robert Tibshirani (2004) \"Least Angle Regression,\" Annals of Statistics (with discussion), 407-499.\n",
            "(https://web.stanford.edu/~hastie/Papers/LARS/LeastAngle_2002.pdf)\n"
          ],
          "name": "stdout"
        }
      ]
    },
    {
      "cell_type": "code",
      "metadata": {
        "colab": {
          "base_uri": "https://localhost:8080/"
        },
        "id": "r-pDF0rOralu",
        "outputId": "0bdb4888-9d38-41d6-c7d5-f9b39ad2c226"
      },
      "source": [
        "X.shape, y.shape"
      ],
      "execution_count": 13,
      "outputs": [
        {
          "output_type": "execute_result",
          "data": {
            "text/plain": [
              "((442, 10), (442,))"
            ]
          },
          "metadata": {
            "tags": []
          },
          "execution_count": 13
        }
      ]
    },
    {
      "cell_type": "code",
      "metadata": {
        "colab": {
          "base_uri": "https://localhost:8080/"
        },
        "id": "nRT-rqEkrdlO",
        "outputId": "bf03b147-227d-4ba0-fdbb-c151c74b0cd6"
      },
      "source": [
        "X[0:5]"
      ],
      "execution_count": 14,
      "outputs": [
        {
          "output_type": "execute_result",
          "data": {
            "text/plain": [
              "array([[ 0.03807591,  0.05068012,  0.06169621,  0.02187235, -0.0442235 ,\n",
              "        -0.03482076, -0.04340085, -0.00259226,  0.01990842, -0.01764613],\n",
              "       [-0.00188202, -0.04464164, -0.05147406, -0.02632783, -0.00844872,\n",
              "        -0.01916334,  0.07441156, -0.03949338, -0.06832974, -0.09220405],\n",
              "       [ 0.08529891,  0.05068012,  0.04445121, -0.00567061, -0.04559945,\n",
              "        -0.03419447, -0.03235593, -0.00259226,  0.00286377, -0.02593034],\n",
              "       [-0.08906294, -0.04464164, -0.01159501, -0.03665645,  0.01219057,\n",
              "         0.02499059, -0.03603757,  0.03430886,  0.02269202, -0.00936191],\n",
              "       [ 0.00538306, -0.04464164, -0.03638469,  0.02187235,  0.00393485,\n",
              "         0.01559614,  0.00814208, -0.00259226, -0.03199144, -0.04664087]])"
            ]
          },
          "metadata": {
            "tags": []
          },
          "execution_count": 14
        }
      ]
    },
    {
      "cell_type": "code",
      "metadata": {
        "colab": {
          "base_uri": "https://localhost:8080/"
        },
        "id": "1aK7MbQtrh8t",
        "outputId": "1b11bc6b-9975-47ac-a344-19ca42160501"
      },
      "source": [
        "y[0:5]"
      ],
      "execution_count": 15,
      "outputs": [
        {
          "output_type": "execute_result",
          "data": {
            "text/plain": [
              "array([151.,  75., 141., 206., 135.])"
            ]
          },
          "metadata": {
            "tags": []
          },
          "execution_count": 15
        }
      ]
    },
    {
      "cell_type": "markdown",
      "metadata": {
        "id": "GmaGRcEq0gUL"
      },
      "source": [
        "### 선형회귀"
      ]
    },
    {
      "cell_type": "code",
      "metadata": {
        "id": "3YRDrIaWD2WX"
      },
      "source": [
        "from sklearn.linear_model import LinearRegression\n",
        "from sklearn.metrics import mean_squared_error, mean_absolute_error"
      ],
      "execution_count": 16,
      "outputs": []
    },
    {
      "cell_type": "code",
      "metadata": {
        "id": "1IK8ozp1s8Hi"
      },
      "source": [
        "def linear_regression_cv(X, y, cv, random_state = 20152410):\n",
        "    \"\"\"선형회귀모델의 cv score 반환\"\"\"\n",
        "    n = X.shape[0]\n",
        "    np.random.seed(random_state)\n",
        "    permutation = np.random.permutation(np.arange(0, n))\n",
        "    cv_score_mse = []\n",
        "    cv_score_mae = []\n",
        "\n",
        "    # cv score 계산\n",
        "    for iter in range(cv):\n",
        "        # train, validation 분할\n",
        "        train_index = np.concatenate([permutation[:int(iter*n/cv)], permutation[int((iter + 1)*n/cv):]])\n",
        "        X_train = X[train_index]\n",
        "        y_train = y[train_index]\n",
        "\n",
        "        val_index = permutation[int(iter*n/cv):int((iter + 1)*n/cv)]\n",
        "        X_val = X[val_index]\n",
        "        y_val = y[val_index]\n",
        "        \n",
        "        # 선형회귀모델 학습 및 성능 평가\n",
        "        linear_model = LinearRegression()\n",
        "        linear_model.fit(X_train, y_train)\n",
        "        val_pred = linear_model.predict(X_val)\n",
        "        val_mse = mean_squared_error(y_val, val_pred)\n",
        "        val_mae = mean_absolute_error(y_val, val_pred)\n",
        "\n",
        "        cv_score_mse.append(val_mse)\n",
        "        cv_score_mae.append(val_mae)\n",
        "\n",
        "    return {'cv_score_mse' : cv_score_mse, 'cv_score_mae' : cv_score_mae}"
      ],
      "execution_count": 17,
      "outputs": []
    },
    {
      "cell_type": "code",
      "metadata": {
        "id": "OnC_feXqwqVw"
      },
      "source": [
        "linear_regression_cv_score = linear_regression_cv(X = X,\n",
        "                                                  y = y,\n",
        "                                                  cv = 5,\n",
        "                                                  random_state = 20152410)"
      ],
      "execution_count": 18,
      "outputs": []
    },
    {
      "cell_type": "code",
      "metadata": {
        "colab": {
          "base_uri": "https://localhost:8080/"
        },
        "id": "kEGjPa0Rw_PB",
        "outputId": "a69e27e0-0764-4e90-ff3b-c25fb14a3ea4"
      },
      "source": [
        "print(\"선형회귀모델의 cv_score_mse : {},\\n평균 mse : {}\".format(linear_regression_cv_score['cv_score_mse'],\n",
        "                                                      np.mean(linear_regression_cv_score['cv_score_mse'])))\n",
        "print(\"선형회귀모델의 cv_score_mae : {},\\n평균 mae : {}\".format(linear_regression_cv_score['cv_score_mae'],\n",
        "                                                      np.mean(linear_regression_cv_score['cv_score_mae'])))"
      ],
      "execution_count": 19,
      "outputs": [
        {
          "output_type": "stream",
          "text": [
            "선형회귀모델의 cv_score_mse : [3109.794243978987, 2727.4424372165754, 3079.819414753706, 2966.795009929121, 3121.6123833069432],\n",
            "평균 mse : 3001.0926978370667\n",
            "선형회귀모델의 cv_score_mae : [44.01366297479206, 42.180871902652136, 46.245853792061006, 44.5633460947356, 45.282200695064724],\n",
            "평균 mae : 44.45718709186111\n"
          ],
          "name": "stdout"
        }
      ]
    },
    {
      "cell_type": "code",
      "metadata": {
        "colab": {
          "base_uri": "https://localhost:8080/"
        },
        "id": "FuplWjB-ENNP",
        "outputId": "70495e30-c433-4c1c-b272-ea9647ec4d1c"
      },
      "source": [
        "linear_model = LinearRegression()\n",
        "linear_model.fit(X, y)\n",
        "\n",
        "print(\"선형회귀모델의 계수\\n\")\n",
        "print(\"상수항\".ljust(12, ' '), ': {}'.format(linear_model.intercept_))\n",
        "for iter in range(linear_model.coef_.shape[0]):\n",
        "    print(\"{} 변수의 계수\".format(diabetes.feature_names[iter]).ljust(10, ' '), \": {}\".format(linear_model.coef_[iter]))"
      ],
      "execution_count": 20,
      "outputs": [
        {
          "output_type": "stream",
          "text": [
            "선형회귀모델의 계수\n",
            "\n",
            "상수항          : 152.1334841628965\n",
            "age 변수의 계수 : -10.012197817470847\n",
            "sex 변수의 계수 : -239.81908936565472\n",
            "bmi 변수의 계수 : 519.8397867901343\n",
            "bp 변수의 계수  : 324.3904276893763\n",
            "s1 변수의 계수  : -792.1841616283061\n",
            "s2 변수의 계수  : 476.74583782366255\n",
            "s3 변수의 계수  : 101.04457032134488\n",
            "s4 변수의 계수  : 177.0641762322512\n",
            "s5 변수의 계수  : 751.2793210873945\n",
            "s6 변수의 계수  : 67.62538639104386\n"
          ],
          "name": "stdout"
        }
      ]
    },
    {
      "cell_type": "markdown",
      "metadata": {
        "id": "9TlxdorU0iWD"
      },
      "source": [
        "### 릿지회귀"
      ]
    },
    {
      "cell_type": "code",
      "metadata": {
        "id": "CBbvXvvg0bh8"
      },
      "source": [
        "from sklearn.linear_model import Ridge, Lasso\n",
        "from sklearn.model_selection import cross_val_score\n",
        "from sklearn.metrics import mean_squared_error, mean_absolute_error, make_scorer"
      ],
      "execution_count": 21,
      "outputs": []
    },
    {
      "cell_type": "code",
      "metadata": {
        "id": "nHDIKw2g8CJO"
      },
      "source": [
        "alphas = np.logspace(-4, 1, 400)\n",
        "\n",
        "cv_score_ridge = [ cross_val_score(Ridge(alpha = alpha, normalize = True),\n",
        "                                   X,\n",
        "                                   y,\n",
        "                                   cv = 5,\n",
        "                                   scoring = make_scorer(mean_squared_error)).mean() for alpha in alphas]\n",
        "\n",
        "cv_score_lasso = [ cross_val_score(Lasso(alpha = alpha, normalize = True),\n",
        "                                   X,\n",
        "                                   y,\n",
        "                                   cv = 5,\n",
        "                                   scoring = make_scorer(mean_squared_error)).mean() for alpha in alphas]"
      ],
      "execution_count": 22,
      "outputs": []
    },
    {
      "cell_type": "code",
      "metadata": {
        "colab": {
          "base_uri": "https://localhost:8080/",
          "height": 281
        },
        "id": "1nFfSq6w95U0",
        "outputId": "143cef38-3778-4c47-a60c-7496ef1261bd"
      },
      "source": [
        "plt.plot(np.arange(0, 400), alphas)\n",
        "plt.title(\"Distribution of hyperparameter alpha\")\n",
        "plt.show()"
      ],
      "execution_count": 23,
      "outputs": [
        {
          "output_type": "display_data",
          "data": {
            "image/png": "[encoded data removed]",
            "text/plain": [
              "<Figure size 432x288 with 1 Axes>"
            ]
          },
          "metadata": {
            "tags": [],
            "needs_background": "light"
          }
        }
      ]
    },
    {
      "cell_type": "code",
      "metadata": {
        "colab": {
          "base_uri": "https://localhost:8080/",
          "height": 297
        },
        "id": "ZtODL62r9A4F",
        "outputId": "e117de54-6de6-4599-fc9f-7d5f54624e20"
      },
      "source": [
        "plt.figure(figsize = (8, 4))\n",
        "plt.plot(alphas, cv_score_ridge, 'b-', label = 'ridge')\n",
        "plt.plot(alphas, cv_score_lasso, 'r-', label = 'lasso')\n",
        "\n",
        "plt.title(\"CV score by alpha\", fontsize = 15)\n",
        "plt.xlabel('alpha')\n",
        "plt.ylabel('mse')\n",
        "plt.legend()\n",
        "plt.tight_layout()\n",
        "plt.show()"
      ],
      "execution_count": 24,
      "outputs": [
        {
          "output_type": "display_data",
          "data": {
            "image/png": "[encoded data removed]",
            "text/plain": [
              "<Figure size 576x288 with 1 Axes>"
            ]
          },
          "metadata": {
            "tags": [],
            "needs_background": "light"
          }
        }
      ]
    },
    {
      "cell_type": "code",
      "metadata": {
        "id": "pv36qWwxCPPk"
      },
      "source": [
        "best_ridge_alpha = alphas[np.argmin(cv_score_ridge)]\n",
        "best_lasso_alpha = alphas[np.argmin(cv_score_lasso)]"
      ],
      "execution_count": 25,
      "outputs": []
    },
    {
      "cell_type": "code",
      "metadata": {
        "colab": {
          "base_uri": "https://localhost:8080/"
        },
        "id": "hXKSHBQBCe57",
        "outputId": "ae78b111-9b35-47ce-d1ec-0de85abc0923"
      },
      "source": [
        "print(\"릿지 회귀모델의 CV mse 최솟값 : {},\\n릿지 최적 파라미터 alpha : {}\".format(cv_score_ridge[np.argmin(cv_score_ridge)],\n",
        "                                                                best_ridge_alpha))\n",
        "print(\"라쏘 회귀모델의 CV mse 최솟값 : {},\\n라쏘 최적 파라미터 alpha : {}\".format(cv_score_lasso[np.argmin(cv_score_lasso)],\n",
        "                                                                best_lasso_alpha))"
      ],
      "execution_count": 26,
      "outputs": [
        {
          "output_type": "stream",
          "text": [
            "릿지 회귀모델의 CV mse 최솟값 : 2992.984660810382,\n",
            "릿지 최적 파라미터 alpha : 0.0005983321728796288\n",
            "라쏘 회귀모델의 CV mse 최솟값 : 2991.8491922626336,\n",
            "라쏘 최적 파라미터 alpha : 0.004256696454607871\n"
          ],
          "name": "stdout"
        }
      ]
    },
    {
      "cell_type": "code",
      "metadata": {
        "colab": {
          "base_uri": "https://localhost:8080/"
        },
        "id": "zeHqpodRDErk",
        "outputId": "a6109ab9-6cc0-45d7-96a7-f1b3b669f25d"
      },
      "source": [
        "ridge_model = Ridge(alpha = best_ridge_alpha, normalize = True)\n",
        "ridge_model.fit(X, y)\n",
        "\n",
        "lasso_model = Lasso(alpha = best_lasso_alpha, normalize = True)\n",
        "lasso_model.fit(X, y)"
      ],
      "execution_count": 27,
      "outputs": [
        {
          "output_type": "execute_result",
          "data": {
            "text/plain": [
              "Lasso(alpha=0.004256696454607871, normalize=True)"
            ]
          },
          "metadata": {
            "tags": []
          },
          "execution_count": 27
        }
      ]
    },
    {
      "cell_type": "code",
      "metadata": {
        "colab": {
          "base_uri": "https://localhost:8080/"
        },
        "id": "7Khkj8FuDEmS",
        "outputId": "1f8bf6bc-8931-41f0-9715-e7ccc4820830"
      },
      "source": [
        "print(\"릿지회귀모델의 계수\")\n",
        "print(\"라쏘회귀모델의 규제 파라미터 : {}\\n\".format(ridge_model.alpha))\n",
        "print(\"상수항\".ljust(12, ' '), ': {}'.format(ridge_model.intercept_))\n",
        "for iter in range(ridge_model.coef_.shape[0]):\n",
        "    print(\"{} 변수의 계수\".format(diabetes.feature_names[iter]).ljust(10, ' '), \": {}\".format(ridge_model.coef_[iter]))"
      ],
      "execution_count": 28,
      "outputs": [
        {
          "output_type": "stream",
          "text": [
            "릿지회귀모델의 계수\n",
            "라쏘회귀모델의 규제 파라미터 : 0.0005983321728796288\n",
            "\n",
            "상수항          : 152.1334841628965\n",
            "age 변수의 계수 : -9.726823338052709\n",
            "sex 변수의 계수 : -239.37219485128085\n",
            "bmi 변수의 계수 : 520.1773958241004\n",
            "bp 변수의 계수  : 324.04480081387334\n",
            "s1 변수의 계수  : -742.3095500992263\n",
            "s2 변수의 계수  : 437.17166619107496\n",
            "s3 변수의 계수  : 79.02807769856464\n",
            "s4 변수의 계수  : 171.08447381093112\n",
            "s5 변수의 계수  : 732.3480180002167\n",
            "s6 변수의 계수  : 67.93038206329116\n"
          ],
          "name": "stdout"
        }
      ]
    },
    {
      "cell_type": "code",
      "metadata": {
        "colab": {
          "base_uri": "https://localhost:8080/"
        },
        "id": "XJYG3ORlDEin",
        "outputId": "224826af-b68c-4eaf-c1ef-8db8a0686b57"
      },
      "source": [
        "print(\"라쏘회귀모델의 계수\")\n",
        "print(\"라쏘회귀모델의 규제 파라미터 : {}\\n\".format(lasso_model.alpha))\n",
        "print(\"상수항\".ljust(12, ' '), ': {}'.format(lasso_model.intercept_))\n",
        "for iter in range(lasso_model.coef_.shape[0]):\n",
        "    print(\"{} 변수의 계수\".format(diabetes.feature_names[iter]).ljust(10, ' '), \": {}\".format(lasso_model.coef_[iter]))"
      ],
      "execution_count": 29,
      "outputs": [
        {
          "output_type": "stream",
          "text": [
            "라쏘회귀모델의 계수\n",
            "라쏘회귀모델의 규제 파라미터 : 0.004256696454607871\n",
            "\n",
            "상수항          : 152.13348416289648\n",
            "age 변수의 계수 : -6.167627403751548\n",
            "sex 변수의 계수 : -235.3044813085324\n",
            "bmi 변수의 계수 : 522.1437192874059\n",
            "bp 변수의 계수  : 320.759320053947\n",
            "s1 변수의 계수  : -562.7083367780614\n",
            "s2 변수의 계수  : 295.4754685532383\n",
            "s3 변수의 계수  : -0.0\n",
            "s4 변수의 계수  : 146.0312248392512\n",
            "s5 변수의 계수  : 666.8624316332792\n",
            "s6 변수의 계수  : 66.61730754216445\n"
          ],
          "name": "stdout"
        }
      ]
    }
  ]
}