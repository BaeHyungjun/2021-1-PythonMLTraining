{
  "nbformat": 4,
  "nbformat_minor": 0,
  "metadata": {
    "colab": {
      "name": "HW02_20152410_배형준.ipynb",
      "provenance": [],
      "collapsed_sections": []
    },
    "kernelspec": {
      "name": "python3",
      "display_name": "Python 3"
    }
  },
  "cells": [
    {
      "cell_type": "markdown",
      "metadata": {
        "id": "PHhPo88HqJhr"
      },
      "source": [
        "# 2-1 : 리스트 조인"
      ]
    },
    {
      "cell_type": "code",
      "metadata": {
        "colab": {
          "base_uri": "https://localhost:8080/"
        },
        "id": "YySmdDENrjCC",
        "outputId": "8b1ee248-936c-4168-c626-dd094b480531"
      },
      "source": [
        "mylist1 = ['Life', 'is', 'too', 'short']\r\n",
        "string1 = \" \".join(mylist1)\r\n",
        "print(string1)"
      ],
      "execution_count": 1,
      "outputs": [
        {
          "output_type": "stream",
          "text": [
            "Life is too short\n"
          ],
          "name": "stdout"
        }
      ]
    },
    {
      "cell_type": "markdown",
      "metadata": {
        "id": "dmNJ8jWGrX6S"
      },
      "source": [
        "# 2-2 : 리스트 정렬"
      ]
    },
    {
      "cell_type": "code",
      "metadata": {
        "colab": {
          "base_uri": "https://localhost:8080/"
        },
        "id": "9pf-U5uYsh3R",
        "outputId": "e6514789-3f7a-4d83-f7e5-92b926deb56c"
      },
      "source": [
        "mylist2 = [1, 3, 5, 4, 2]\r\n",
        "mylist2.sort(reverse=True)\r\n",
        "print(mylist2)"
      ],
      "execution_count": 2,
      "outputs": [
        {
          "output_type": "stream",
          "text": [
            "[5, 4, 3, 2, 1]\n"
          ],
          "name": "stdout"
        }
      ]
    },
    {
      "cell_type": "markdown",
      "metadata": {
        "id": "X5vTvSeMrY_y"
      },
      "source": [
        "# 2-3 : 튜플 추가\r\n",
        "\r\n",
        "튜플에 원소를 추가하거나 빼는 등 변경은 못하지만 튜플 + 튜플 처럼 튜플 간 계산은 가능"
      ]
    },
    {
      "cell_type": "code",
      "metadata": {
        "colab": {
          "base_uri": "https://localhost:8080/"
        },
        "id": "9EKfVldntGrx",
        "outputId": "545b92db-6cce-4c43-a113-3375ba9692a5"
      },
      "source": [
        "mytuple3 = (1, 2, 3,)\r\n",
        "print(mytuple3 + (4, ))"
      ],
      "execution_count": 3,
      "outputs": [
        {
          "output_type": "stream",
          "text": [
            "(1, 2, 3, 4)\n"
          ],
          "name": "stdout"
        }
      ]
    },
    {
      "cell_type": "markdown",
      "metadata": {
        "id": "ErInInZhrZNq"
      },
      "source": [
        "# 2-4 : 딕셔너리 만들기"
      ]
    },
    {
      "cell_type": "code",
      "metadata": {
        "colab": {
          "base_uri": "https://localhost:8080/"
        },
        "id": "M0_SyQomtrqm",
        "outputId": "afdb1d05-e86d-4de3-ee13-74abafdf394a"
      },
      "source": [
        "mydict4 = dict(name = \"홍길동\", birth = 1128, age = 30)\r\n",
        "mydict4"
      ],
      "execution_count": 4,
      "outputs": [
        {
          "output_type": "execute_result",
          "data": {
            "text/plain": [
              "{'age': 30, 'birth': 1128, 'name': '홍길동'}"
            ]
          },
          "metadata": {
            "tags": []
          },
          "execution_count": 4
        }
      ]
    },
    {
      "cell_type": "code",
      "metadata": {
        "colab": {
          "base_uri": "https://localhost:8080/"
        },
        "id": "zV5F3FnguMH-",
        "outputId": "17b2a666-300f-4a2b-c257-4f97e91d62e5"
      },
      "source": [
        "mydict4.keys()"
      ],
      "execution_count": 5,
      "outputs": [
        {
          "output_type": "execute_result",
          "data": {
            "text/plain": [
              "dict_keys(['name', 'birth', 'age'])"
            ]
          },
          "metadata": {
            "tags": []
          },
          "execution_count": 5
        }
      ]
    },
    {
      "cell_type": "code",
      "metadata": {
        "colab": {
          "base_uri": "https://localhost:8080/"
        },
        "id": "LvCESnXnuTd2",
        "outputId": "490786b1-1685-4020-fc96-8074a62bb905"
      },
      "source": [
        "mydict4.values()"
      ],
      "execution_count": 6,
      "outputs": [
        {
          "output_type": "execute_result",
          "data": {
            "text/plain": [
              "dict_values(['홍길동', 1128, 30])"
            ]
          },
          "metadata": {
            "tags": []
          },
          "execution_count": 6
        }
      ]
    },
    {
      "cell_type": "code",
      "metadata": {
        "colab": {
          "base_uri": "https://localhost:8080/"
        },
        "id": "Q5wX66D2uVkN",
        "outputId": "bb1173ed-e4ba-44fa-c252-597c5089f4cf"
      },
      "source": [
        "mydict4.items()"
      ],
      "execution_count": 7,
      "outputs": [
        {
          "output_type": "execute_result",
          "data": {
            "text/plain": [
              "dict_items([('name', '홍길동'), ('birth', 1128), ('age', 30)])"
            ]
          },
          "metadata": {
            "tags": []
          },
          "execution_count": 7
        }
      ]
    },
    {
      "cell_type": "markdown",
      "metadata": {
        "id": "a1WW3jfQrZna"
      },
      "source": [
        "# 2-5 : 딕셔너리 값 추출"
      ]
    },
    {
      "cell_type": "code",
      "metadata": {
        "colab": {
          "base_uri": "https://localhost:8080/"
        },
        "id": "PB2sT4R5urpl",
        "outputId": "0cca405b-5587-4be4-c888-6c7b770bb656"
      },
      "source": [
        "mydict5 = {'A' : 90, 'B' : 80}\r\n",
        "mydict5.get('C', 70)"
      ],
      "execution_count": 8,
      "outputs": [
        {
          "output_type": "execute_result",
          "data": {
            "text/plain": [
              "70"
            ]
          },
          "metadata": {
            "tags": []
          },
          "execution_count": 8
        }
      ]
    },
    {
      "cell_type": "markdown",
      "metadata": {
        "id": "JQQIWVu0rZ3S"
      },
      "source": [
        "# 2-6 : 집합의 중복"
      ]
    },
    {
      "cell_type": "code",
      "metadata": {
        "colab": {
          "base_uri": "https://localhost:8080/"
        },
        "id": "wH79EpKYvC9O",
        "outputId": "317940ca-158f-487a-946a-6191661940fe"
      },
      "source": [
        "mylist6 = [1, 1, 1, 2, 2, 3, 3, 3, 4, 4, 5]\r\n",
        "myset6 = set(mylist6)\r\n",
        "myset6"
      ],
      "execution_count": 9,
      "outputs": [
        {
          "output_type": "execute_result",
          "data": {
            "text/plain": [
              "{1, 2, 3, 4, 5}"
            ]
          },
          "metadata": {
            "tags": []
          },
          "execution_count": 9
        }
      ]
    },
    {
      "cell_type": "markdown",
      "metadata": {
        "id": "L1JM4Je_raKS"
      },
      "source": [
        "# 2-7 : 딕셔너리 만들기"
      ]
    },
    {
      "cell_type": "code",
      "metadata": {
        "colab": {
          "base_uri": "https://localhost:8080/"
        },
        "id": "r_urqBT6wgus",
        "outputId": "5ba6a945-cd9b-4674-905a-f1bf584c4a85"
      },
      "source": [
        "inventory = dict(메로나 = [300, 20],\r\n",
        "                 비비빅 = [400, 3],\r\n",
        "                 죠스바 = [250, 100])\r\n",
        "inventory"
      ],
      "execution_count": 10,
      "outputs": [
        {
          "output_type": "execute_result",
          "data": {
            "text/plain": [
              "{'메로나': [300, 20], '비비빅': [400, 3], '죠스바': [250, 100]}"
            ]
          },
          "metadata": {
            "tags": []
          },
          "execution_count": 10
        }
      ]
    },
    {
      "cell_type": "code",
      "metadata": {
        "colab": {
          "base_uri": "https://localhost:8080/"
        },
        "id": "OYi8JBRcva-N",
        "outputId": "42e17591-a047-4305-80bb-01307f79a587"
      },
      "source": [
        "mydict7 = dict(이름 = [\"메로나\", \"비비빅\", \"죠스바\"],\r\n",
        "               가격 = [300, 400, 250],\r\n",
        "               재고 = [20, 3, 100])\r\n",
        "mydict7"
      ],
      "execution_count": 11,
      "outputs": [
        {
          "output_type": "execute_result",
          "data": {
            "text/plain": [
              "{'가격': [300, 400, 250], '이름': ['메로나', '비비빅', '죠스바'], '재고': [20, 3, 100]}"
            ]
          },
          "metadata": {
            "tags": []
          },
          "execution_count": 11
        }
      ]
    },
    {
      "cell_type": "markdown",
      "metadata": {
        "id": "k7eXTma8raXT"
      },
      "source": [
        "# 2-8 : 딕셔너리 출력"
      ]
    },
    {
      "cell_type": "code",
      "metadata": {
        "colab": {
          "base_uri": "https://localhost:8080/"
        },
        "id": "w7qsYccZw5Ka",
        "outputId": "1a0ef56f-ede3-499d-82e5-e167fcd994c7"
      },
      "source": [
        "print(\"메로나 가격 : {}\".format(inventory[\"메로나\"][0]))"
      ],
      "execution_count": 12,
      "outputs": [
        {
          "output_type": "stream",
          "text": [
            "메로나 가격 : 300\n"
          ],
          "name": "stdout"
        }
      ]
    },
    {
      "cell_type": "code",
      "metadata": {
        "colab": {
          "base_uri": "https://localhost:8080/"
        },
        "id": "f3AEwM61xCQU",
        "outputId": "abee1931-275a-4b32-d31f-c76c2c0a8e57"
      },
      "source": [
        "print(\"메로나 재고 : {}\".format(inventory[\"메로나\"][1]))"
      ],
      "execution_count": 13,
      "outputs": [
        {
          "output_type": "stream",
          "text": [
            "메로나 재고 : 20\n"
          ],
          "name": "stdout"
        }
      ]
    },
    {
      "cell_type": "code",
      "metadata": {
        "colab": {
          "base_uri": "https://localhost:8080/"
        },
        "id": "F9md6GhexIEK",
        "outputId": "3820aa84-8061-4914-d158-9437ea97dc8d"
      },
      "source": [
        "inventory[\"월드콘\"] = [500, 7]\r\n",
        "inventory"
      ],
      "execution_count": 14,
      "outputs": [
        {
          "output_type": "execute_result",
          "data": {
            "text/plain": [
              "{'메로나': [300, 20], '비비빅': [400, 3], '월드콘': [500, 7], '죠스바': [250, 100]}"
            ]
          },
          "metadata": {
            "tags": []
          },
          "execution_count": 14
        }
      ]
    },
    {
      "cell_type": "markdown",
      "metadata": {
        "id": "bEsuZ5zFra5K"
      },
      "source": [
        "# 2-9 : 약간 어려운 문제"
      ]
    },
    {
      "cell_type": "code",
      "metadata": {
        "colab": {
          "base_uri": "https://localhost:8080/"
        },
        "id": "m_gJpVh-xQRI",
        "outputId": "dd1625a9-6dfb-4dec-e7ec-066bac8973b6"
      },
      "source": [
        "mylist9 = [\"A\", \"b\", \"c\", \"D\"]\r\n",
        "\r\n",
        "while mylist9:\r\n",
        "  element = mylist9.pop(0)\r\n",
        "  if element.isupper():\r\n",
        "    print(element)"
      ],
      "execution_count": 15,
      "outputs": [
        {
          "output_type": "stream",
          "text": [
            "A\n",
            "D\n"
          ],
          "name": "stdout"
        }
      ]
    },
    {
      "cell_type": "markdown",
      "metadata": {
        "id": "UKGIGklLrbFq"
      },
      "source": [
        "# 2-10 : 약간 어려운 예제"
      ]
    },
    {
      "cell_type": "code",
      "metadata": {
        "colab": {
          "base_uri": "https://localhost:8080/",
          "height": 35
        },
        "id": "zosk_DB4yv1f",
        "outputId": "2fd91d07-c16f-4e8a-8862-8d3b3d9fbb3b"
      },
      "source": [
        "'b'.lower()"
      ],
      "execution_count": 16,
      "outputs": [
        {
          "output_type": "execute_result",
          "data": {
            "application/vnd.google.colaboratory.intrinsic+json": {
              "type": "string"
            },
            "text/plain": [
              "'b'"
            ]
          },
          "metadata": {
            "tags": []
          },
          "execution_count": 16
        }
      ]
    },
    {
      "cell_type": "code",
      "metadata": {
        "colab": {
          "base_uri": "https://localhost:8080/"
        },
        "id": "YL0hJt6ZyIX7",
        "outputId": "ea865352-7f07-46a9-f485-83ed3c8bff7e"
      },
      "source": [
        "mylist10 = [\"A\", \"b\", \"c\", \"D\"]\r\n",
        "print(\"\".join(mylist10).swapcase())"
      ],
      "execution_count": 17,
      "outputs": [
        {
          "output_type": "stream",
          "text": [
            "aBCd\n"
          ],
          "name": "stdout"
        }
      ]
    },
    {
      "cell_type": "code",
      "metadata": {
        "colab": {
          "base_uri": "https://localhost:8080/"
        },
        "id": "tdJnBJkIyOHn",
        "outputId": "0b2e3be5-1aca-47d6-d559-93d7dfe06bd6"
      },
      "source": [
        "mylist10_1 = []\r\n",
        "\r\n",
        "for ele in mylist10:\r\n",
        "  # 대문자는 소문자로, 소문자는 대문자로 변환\r\n",
        "  if ele.isupper():\r\n",
        "    new_ele = ele.lower()\r\n",
        "  else:\r\n",
        "    new_ele = ele.upper()\r\n",
        "  \r\n",
        "  # 새로운 리스트에 추가\r\n",
        "  mylist10_1.append(new_ele)\r\n",
        "\r\n",
        "print(''.join(mylist10_1))"
      ],
      "execution_count": 18,
      "outputs": [
        {
          "output_type": "stream",
          "text": [
            "aBCd\n"
          ],
          "name": "stdout"
        }
      ]
    }
  ]
}