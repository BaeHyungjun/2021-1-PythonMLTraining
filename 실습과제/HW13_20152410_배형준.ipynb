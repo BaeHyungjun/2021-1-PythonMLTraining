{
  "nbformat": 4,
  "nbformat_minor": 0,
  "metadata": {
    "colab": {
      "name": "HW13_20152410_배형준.ipynb",
      "provenance": [],
      "collapsed_sections": []
    },
    "kernelspec": {
      "name": "python3",
      "display_name": "Python 3"
    },
    "language_info": {
      "name": "python"
    }
  },
  "cells": [
    {
      "cell_type": "markdown",
      "metadata": {
        "id": "y8I5LFB5rPAK"
      },
      "source": [
        "# 13-1 : moons 데이터셋을 이용한 AdaBoostClassifier, RandomForestClassifier"
      ]
    },
    {
      "cell_type": "code",
      "metadata": {
        "id": "hUqbI-YTxbU-"
      },
      "source": [
        "import numpy as np\n",
        "import pandas as pd\n",
        "import matplotlib\n",
        "import matplotlib.pyplot as plt\n",
        "\n",
        "from sklearn.datasets import make_moons\n",
        "from sklearn.datasets import load_digits\n",
        "\n",
        "from sklearn.model_selection import train_test_split\n",
        "from sklearn.model_selection import cross_val_score, GridSearchCV\n",
        "\n",
        "from sklearn.metrics import make_scorer, accuracy_score, confusion_matrix, classification_report, mean_squared_error\n",
        "\n",
        "from sklearn.tree import DecisionTreeClassifier\n",
        "from sklearn.ensemble import AdaBoostClassifier, RandomForestClassifier\n",
        "from sklearn.ensemble import GradientBoostingRegressor\n",
        "from sklearn.svm import SVC\n",
        "from xgboost import XGBClassifier"
      ],
      "execution_count": 1,
      "outputs": []
    },
    {
      "cell_type": "code",
      "metadata": {
        "id": "NRRIuqWnx_pZ"
      },
      "source": [
        "X_moon, y_moon = make_moons(n_samples = 500,\n",
        "                            shuffle = True,\n",
        "                            noise = 0.25,\n",
        "                            random_state = 20152410)"
      ],
      "execution_count": 2,
      "outputs": []
    },
    {
      "cell_type": "code",
      "metadata": {
        "colab": {
          "base_uri": "https://localhost:8080/",
          "height": 297
        },
        "id": "TJD-xSAY_rx8",
        "outputId": "57dfad70-a896-4e16-a6c1-ea9189e5c314"
      },
      "source": [
        "plt.figure(figsize = (6, 4))\n",
        "plt.plot(X_moon[np.where(y_moon == 0)[0], 0], X_moon[np.where(y_moon == 0)[0], 1], 'ro')\n",
        "plt.plot(X_moon[np.where(y_moon == 1)[0], 0], X_moon[np.where(y_moon == 1)[0], 1], 'bo')\n",
        "plt.tight_layout()\n",
        "plt.show()"
      ],
      "execution_count": 3,
      "outputs": [
        {
          "output_type": "display_data",
          "data": {
            "image/png": "[encoded data removed]",
            "text/plain": [
              "<Figure size 432x288 with 1 Axes>"
            ]
          },
          "metadata": {
            "tags": [],
            "needs_background": "light"
          }
        }
      ]
    },
    {
      "cell_type": "code",
      "metadata": {
        "colab": {
          "base_uri": "https://localhost:8080/"
        },
        "id": "L_jnYp4C_sAr",
        "outputId": "2466e818-a848-467c-e834-cf36b47e4cb0"
      },
      "source": [
        "X_train, X_test, y_train, y_test = train_test_split(X_moon,\n",
        "                                                    y_moon,\n",
        "                                                    train_size = 0.8,\n",
        "                                                    stratify = y_moon,\n",
        "                                                    random_state = 20152410)\n",
        "\n",
        "print(X_train.shape, X_test.shape, y_train.shape, y_test.shape)"
      ],
      "execution_count": 4,
      "outputs": [
        {
          "output_type": "stream",
          "text": [
            "(400, 2) (100, 2) (400,) (100,)\n"
          ],
          "name": "stdout"
        }
      ]
    },
    {
      "cell_type": "code",
      "metadata": {
        "id": "JVV1gfeiBCPa"
      },
      "source": [
        "n_estimators_list = list(range(50, 501, 50))"
      ],
      "execution_count": 5,
      "outputs": []
    },
    {
      "cell_type": "code",
      "metadata": {
        "id": "_akZxS8YAa49"
      },
      "source": [
        "adaboost_clf_cv_accuracy = [cross_val_score(estimator = AdaBoostClassifier(base_estimator = DecisionTreeClassifier(),\n",
        "                                                                           n_estimators = number,\n",
        "                                                                           learning_rate = 0.3),\n",
        "                                            X = X_train,\n",
        "                                            y = y_train,\n",
        "                                            cv = 4,\n",
        "                                            scoring = make_scorer(accuracy_score)).mean() for number in n_estimators_list]"
      ],
      "execution_count": 6,
      "outputs": []
    },
    {
      "cell_type": "code",
      "metadata": {
        "id": "klCYVBm_BWT2"
      },
      "source": [
        "rf_clf_cv_accuracy = [cross_val_score(estimator = RandomForestClassifier(n_estimators = number),\n",
        "                                            X = X_train,\n",
        "                                            y = y_train,\n",
        "                                            cv = 4,\n",
        "                                            scoring = make_scorer(accuracy_score)).mean() for number in n_estimators_list]"
      ],
      "execution_count": 7,
      "outputs": []
    },
    {
      "cell_type": "code",
      "metadata": {
        "colab": {
          "base_uri": "https://localhost:8080/"
        },
        "id": "2Uj1MqzFDyGH",
        "outputId": "98524a44-20bc-4ca0-eb6f-cb186418f3e1"
      },
      "source": [
        "print(\"Maximum cv accuracy of adaboost clf : {}\".format(np.max(adaboost_clf_cv_accuracy)))\n",
        "print(\"n_estimators of maximum cv accuracy : {}\".format(n_estimators_list[np.argmax(adaboost_clf_cv_accuracy)]))"
      ],
      "execution_count": 8,
      "outputs": [
        {
          "output_type": "stream",
          "text": [
            "Maximum cv accuracy of adaboost clf : 0.8975\n",
            "n_estimators of maximum cv accuracy : 200\n"
          ],
          "name": "stdout"
        }
      ]
    },
    {
      "cell_type": "code",
      "metadata": {
        "colab": {
          "base_uri": "https://localhost:8080/"
        },
        "id": "lCe5TyTvDNy8",
        "outputId": "887e5413-e349-48b8-fc97-c5f6a746c258"
      },
      "source": [
        "print(\"Maximum cv accuracy of adaboost clf : {}\".format(np.max(rf_clf_cv_accuracy)))\n",
        "print(\"n_estimators of maximum cv accuracy : {}\".format(n_estimators_list[np.argmax(rf_clf_cv_accuracy)]))"
      ],
      "execution_count": 9,
      "outputs": [
        {
          "output_type": "stream",
          "text": [
            "Maximum cv accuracy of adaboost clf : 0.93\n",
            "n_estimators of maximum cv accuracy : 450\n"
          ],
          "name": "stdout"
        }
      ]
    },
    {
      "cell_type": "code",
      "metadata": {
        "id": "lP9rN4vn_y28"
      },
      "source": [
        "adaboost_clf_best_n_estimators = n_estimators_list[np.argmax(adaboost_clf_cv_accuracy)]\n",
        "rf_clf_best_n_estimators = n_estimators_list[np.argmax(rf_clf_cv_accuracy)]\n",
        "\n",
        "adaboost_clf = AdaBoostClassifier(base_estimator = DecisionTreeClassifier(),\n",
        "                                  n_estimators = adaboost_clf_best_n_estimators,\n",
        "                                  learning_rate = 0.3,\n",
        "                                  random_state = 20152410)\n",
        "\n",
        "rf_clf = RandomForestClassifier(n_estimators = rf_clf_best_n_estimators,\n",
        "                                random_state = 20152410)"
      ],
      "execution_count": 10,
      "outputs": []
    },
    {
      "cell_type": "code",
      "metadata": {
        "colab": {
          "base_uri": "https://localhost:8080/"
        },
        "id": "S1lzdUWWEg2l",
        "outputId": "ee9aaac3-afa7-4736-a9cf-53f4d6b33fa7"
      },
      "source": [
        "adaboost_clf.fit(X_train, y_train)"
      ],
      "execution_count": 11,
      "outputs": [
        {
          "output_type": "execute_result",
          "data": {
            "text/plain": [
              "AdaBoostClassifier(algorithm='SAMME.R',\n",
              "                   base_estimator=DecisionTreeClassifier(ccp_alpha=0.0,\n",
              "                                                         class_weight=None,\n",
              "                                                         criterion='gini',\n",
              "                                                         max_depth=None,\n",
              "                                                         max_features=None,\n",
              "                                                         max_leaf_nodes=None,\n",
              "                                                         min_impurity_decrease=0.0,\n",
              "                                                         min_impurity_split=None,\n",
              "                                                         min_samples_leaf=1,\n",
              "                                                         min_samples_split=2,\n",
              "                                                         min_weight_fraction_leaf=0.0,\n",
              "                                                         presort='deprecated',\n",
              "                                                         random_state=None,\n",
              "                                                         splitter='best'),\n",
              "                   learning_rate=0.3, n_estimators=200, random_state=20152410)"
            ]
          },
          "metadata": {
            "tags": []
          },
          "execution_count": 11
        }
      ]
    },
    {
      "cell_type": "code",
      "metadata": {
        "colab": {
          "base_uri": "https://localhost:8080/"
        },
        "id": "CAzlEpnTEkM8",
        "outputId": "76a4b6a9-2005-454c-f8a7-bd1b5467d61f"
      },
      "source": [
        "rf_clf.fit(X_train, y_train)"
      ],
      "execution_count": 12,
      "outputs": [
        {
          "output_type": "execute_result",
          "data": {
            "text/plain": [
              "RandomForestClassifier(bootstrap=True, ccp_alpha=0.0, class_weight=None,\n",
              "                       criterion='gini', max_depth=None, max_features='auto',\n",
              "                       max_leaf_nodes=None, max_samples=None,\n",
              "                       min_impurity_decrease=0.0, min_impurity_split=None,\n",
              "                       min_samples_leaf=1, min_samples_split=2,\n",
              "                       min_weight_fraction_leaf=0.0, n_estimators=450,\n",
              "                       n_jobs=None, oob_score=False, random_state=20152410,\n",
              "                       verbose=0, warm_start=False)"
            ]
          },
          "metadata": {
            "tags": []
          },
          "execution_count": 12
        }
      ]
    },
    {
      "cell_type": "code",
      "metadata": {
        "id": "th4SuQYIEl7c"
      },
      "source": [
        "ada_clf_y_test_pred = adaboost_clf.predict(X_test)\n",
        "rf_clf_y_test_pred = rf_clf.predict(X_test)"
      ],
      "execution_count": 13,
      "outputs": []
    },
    {
      "cell_type": "code",
      "metadata": {
        "colab": {
          "base_uri": "https://localhost:8080/"
        },
        "id": "exQxuuAdExGU",
        "outputId": "d1f93415-5c85-4937-ef00-b449fd31656d"
      },
      "source": [
        "print(\"AdaBoostClassifier test accuracy : {}\".format(accuracy_score(y_test, ada_clf_y_test_pred)))\n",
        "print(\"\\n\")\n",
        "print(confusion_matrix(y_test, ada_clf_y_test_pred))\n",
        "print(\"\\n\")\n",
        "print(classification_report(y_test, ada_clf_y_test_pred))"
      ],
      "execution_count": 14,
      "outputs": [
        {
          "output_type": "stream",
          "text": [
            "AdaBoostClassifier test accuracy : 0.89\n",
            "\n",
            "\n",
            "[[45  5]\n",
            " [ 6 44]]\n",
            "\n",
            "\n",
            "              precision    recall  f1-score   support\n",
            "\n",
            "           0       0.88      0.90      0.89        50\n",
            "           1       0.90      0.88      0.89        50\n",
            "\n",
            "    accuracy                           0.89       100\n",
            "   macro avg       0.89      0.89      0.89       100\n",
            "weighted avg       0.89      0.89      0.89       100\n",
            "\n"
          ],
          "name": "stdout"
        }
      ]
    },
    {
      "cell_type": "code",
      "metadata": {
        "colab": {
          "base_uri": "https://localhost:8080/"
        },
        "id": "vWbR-XAFE-Pb",
        "outputId": "aa2170e6-da40-4a41-bdee-396305237ce2"
      },
      "source": [
        "print(\"RandomForestClassifier test accuracy : {}\".format(accuracy_score(y_test, rf_clf_y_test_pred)))\n",
        "print(\"\\n\")\n",
        "print(confusion_matrix(y_test, rf_clf_y_test_pred))\n",
        "print(\"\\n\")\n",
        "print(classification_report(y_test, rf_clf_y_test_pred))"
      ],
      "execution_count": 15,
      "outputs": [
        {
          "output_type": "stream",
          "text": [
            "RandomForestClassifier test accuracy : 0.92\n",
            "\n",
            "\n",
            "[[46  4]\n",
            " [ 4 46]]\n",
            "\n",
            "\n",
            "              precision    recall  f1-score   support\n",
            "\n",
            "           0       0.92      0.92      0.92        50\n",
            "           1       0.92      0.92      0.92        50\n",
            "\n",
            "    accuracy                           0.92       100\n",
            "   macro avg       0.92      0.92      0.92       100\n",
            "weighted avg       0.92      0.92      0.92       100\n",
            "\n"
          ],
          "name": "stdout"
        }
      ]
    },
    {
      "cell_type": "code",
      "metadata": {
        "colab": {
          "base_uri": "https://localhost:8080/",
          "height": 585
        },
        "id": "DnnHXQR8FGfr",
        "outputId": "e2efc59e-d5f5-494f-e065-97afb9cc641e"
      },
      "source": [
        "plt.figure(figsize = (12, 8))\n",
        "\n",
        "plt.subplot(2, 1, 1)\n",
        "plt.plot(X_moon[np.where(y_moon == 0)[0], 0], X_moon[np.where(y_moon == 0)[0], 1], 'ro')\n",
        "plt.plot(X_moon[np.where(y_moon == 1)[0], 0], X_moon[np.where(y_moon == 1)[0], 1], 'bo')\n",
        "\n",
        "x1, x2 = np.meshgrid(np.linspace(-2, 3, 500), np.linspace(-1.5, 2, 500))\n",
        "X_new = np.c_[x1.ravel(), x2.ravel()]\n",
        "y_pred = adaboost_clf.predict(X_new).reshape(x1.shape)\n",
        "plt.contourf(x1, x2, y_pred, cmap = 'seismic', alpha = 0.2)\n",
        "\n",
        "plt.title('AdaBoostClassifier(DecisionTreeClassifier(), n_estimators = 50, learning_rate = 0.3)', fontsize = 15)\n",
        "\n",
        "plt.subplot(2, 1, 2)\n",
        "plt.plot(X_moon[np.where(y_moon == 0)[0], 0], X_moon[np.where(y_moon == 0)[0], 1], 'ro')\n",
        "plt.plot(X_moon[np.where(y_moon == 1)[0], 0], X_moon[np.where(y_moon == 1)[0], 1], 'bo')\n",
        "\n",
        "x1, x2 = np.meshgrid(np.linspace(-2, 3, 500), np.linspace(-1.5, 2, 500))\n",
        "X_new = np.c_[x1.ravel(), x2.ravel()]\n",
        "y_pred = rf_clf.predict(X_new).reshape(x1.shape)\n",
        "plt.contourf(x1, x2, y_pred, cmap = 'seismic', alpha = 0.2)\n",
        "\n",
        "plt.title('RandomForestClassifier(n_estimators = 450)', fontsize = 15)\n",
        "\n",
        "plt.tight_layout()\n",
        "plt.show()"
      ],
      "execution_count": 16,
      "outputs": [
        {
          "output_type": "display_data",
          "data": {
            "image/png": "[encoded data removed]",
            "text/plain": [
              "<Figure size 864x576 with 2 Axes>"
            ]
          },
          "metadata": {
            "tags": [],
            "needs_background": "light"
          }
        }
      ]
    },
    {
      "cell_type": "markdown",
      "metadata": {
        "id": "KZyZ8ozuHQFY"
      },
      "source": [
        "# 13-2 : sample data를 이용해 GradientBoostingRegressor 모델 학습"
      ]
    },
    {
      "cell_type": "code",
      "metadata": {
        "id": "r_ci-sARH1wx"
      },
      "source": [
        "np.random.seed(20152410)\n",
        "X = np.random.randn(100, 1) - 0.5\n",
        "y = 4 * X[:, 0]**2 + 0.05 * np.random.randn(100)"
      ],
      "execution_count": 17,
      "outputs": []
    },
    {
      "cell_type": "code",
      "metadata": {
        "colab": {
          "base_uri": "https://localhost:8080/",
          "height": 297
        },
        "id": "NQy9xqPGJEND",
        "outputId": "b8bb9c07-c0ae-459d-a859-3d9cdd9f718e"
      },
      "source": [
        "plt.figure(figsize = (6, 4))\n",
        "plt.plot(X, y, 'bo')\n",
        "plt.tight_layout()\n",
        "plt.show()"
      ],
      "execution_count": 18,
      "outputs": [
        {
          "output_type": "display_data",
          "data": {
            "image/png": "[encoded data removed]",
            "text/plain": [
              "<Figure size 432x288 with 1 Axes>"
            ]
          },
          "metadata": {
            "tags": [],
            "needs_background": "light"
          }
        }
      ]
    },
    {
      "cell_type": "code",
      "metadata": {
        "colab": {
          "base_uri": "https://localhost:8080/"
        },
        "id": "Kyby9TBgIjrI",
        "outputId": "31f92312-9078-45af-b8e2-73fbb7a17d6a"
      },
      "source": [
        "X_train, X_test, y_train, y_test = train_test_split(X,\n",
        "                                                    y,\n",
        "                                                    train_size = 0.8,\n",
        "                                                    random_state = 20152410)\n",
        "\n",
        "print(X_train.shape, X_test.shape, y_train.shape, y_test.shape)"
      ],
      "execution_count": 19,
      "outputs": [
        {
          "output_type": "stream",
          "text": [
            "(80, 1) (20, 1) (80,) (20,)\n"
          ],
          "name": "stdout"
        }
      ]
    },
    {
      "cell_type": "code",
      "metadata": {
        "id": "ImnJqWBkIw5D"
      },
      "source": [
        "n_estimators_list = list(range(10, 201, 10))"
      ],
      "execution_count": 20,
      "outputs": []
    },
    {
      "cell_type": "code",
      "metadata": {
        "id": "EKYdToAiH-UF"
      },
      "source": [
        "gbm_reg_cv_accuracy = [cross_val_score(estimator = GradientBoostingRegressor(n_estimators = number,\n",
        "                                                                             learning_rate = 0.1),\n",
        "                                            X = X_train,\n",
        "                                            y = y_train,\n",
        "                                            cv = 4,\n",
        "                                            scoring = make_scorer(mean_squared_error)).mean() for number in n_estimators_list]"
      ],
      "execution_count": 21,
      "outputs": []
    },
    {
      "cell_type": "code",
      "metadata": {
        "colab": {
          "base_uri": "https://localhost:8080/"
        },
        "id": "ZnJbDxj7Ixig",
        "outputId": "b0208a40-8f0b-4f9b-89eb-61fe23f6a0ab"
      },
      "source": [
        "print(\"Minimum cv mse of gbm regressor: {}\".format(np.min(gbm_reg_cv_accuracy)))\n",
        "print(\"n_estimators of minimum cv mse : {}\".format(n_estimators_list[np.argmin(gbm_reg_cv_accuracy)]))"
      ],
      "execution_count": 22,
      "outputs": [
        {
          "output_type": "stream",
          "text": [
            "Minimum cv mse of gbm regressor: 2.1342133025636265\n",
            "n_estimators of minimum cv mse : 130\n"
          ],
          "name": "stdout"
        }
      ]
    },
    {
      "cell_type": "code",
      "metadata": {
        "id": "OhkvqE2wJocC"
      },
      "source": [
        "gbm_reg_best_n_estimators = n_estimators_list[np.argmin(gbm_reg_cv_accuracy)]\n",
        "\n",
        "gbm_reg = GradientBoostingRegressor(n_estimators = gbm_reg_best_n_estimators,\n",
        "                                    learning_rate = 0.1,\n",
        "                                    random_state = 20152410)"
      ],
      "execution_count": 23,
      "outputs": []
    },
    {
      "cell_type": "code",
      "metadata": {
        "colab": {
          "base_uri": "https://localhost:8080/"
        },
        "id": "pDvAn-7vJoe_",
        "outputId": "9a2d3f7e-5d3f-4b9c-a591-5b4d103f8986"
      },
      "source": [
        "gbm_reg.fit(X_train, y_train)"
      ],
      "execution_count": 24,
      "outputs": [
        {
          "output_type": "execute_result",
          "data": {
            "text/plain": [
              "GradientBoostingRegressor(alpha=0.9, ccp_alpha=0.0, criterion='friedman_mse',\n",
              "                          init=None, learning_rate=0.1, loss='ls', max_depth=3,\n",
              "                          max_features=None, max_leaf_nodes=None,\n",
              "                          min_impurity_decrease=0.0, min_impurity_split=None,\n",
              "                          min_samples_leaf=1, min_samples_split=2,\n",
              "                          min_weight_fraction_leaf=0.0, n_estimators=130,\n",
              "                          n_iter_no_change=None, presort='deprecated',\n",
              "                          random_state=20152410, subsample=1.0, tol=0.0001,\n",
              "                          validation_fraction=0.1, verbose=0, warm_start=False)"
            ]
          },
          "metadata": {
            "tags": []
          },
          "execution_count": 24
        }
      ]
    },
    {
      "cell_type": "code",
      "metadata": {
        "colab": {
          "base_uri": "https://localhost:8080/"
        },
        "id": "Nf81ir_2J8bN",
        "outputId": "478fbaed-8a82-42d7-8a40-7c71b9b378b6"
      },
      "source": [
        "gbm_reg_y_pred_test = gbm_reg.predict(X_test)\n",
        "print(\"GradientBoostingRegressor test accuracy : {}\".format(mean_squared_error(y_test, gbm_reg_y_pred_test)))"
      ],
      "execution_count": 25,
      "outputs": [
        {
          "output_type": "stream",
          "text": [
            "GradientBoostingRegressor test accuracy : 0.06138452724919778\n"
          ],
          "name": "stdout"
        }
      ]
    },
    {
      "cell_type": "markdown",
      "metadata": {
        "id": "foY3ocGCMKQq"
      },
      "source": [
        "# 13-3 : digits 데이터를 이용해 앙상블 모델 학습"
      ]
    },
    {
      "cell_type": "code",
      "metadata": {
        "id": "yvyv2b2rMS45"
      },
      "source": [
        "from sklearn.ensemble import AdaBoostClassifier, RandomForestClassifier\n",
        "from sklearn.svm import SVC\n",
        "from xgboost import XGBClassifier"
      ],
      "execution_count": 26,
      "outputs": []
    },
    {
      "cell_type": "code",
      "metadata": {
        "id": "1HBrlWeGPpRv"
      },
      "source": [
        "digits_dataset = load_digits()"
      ],
      "execution_count": 27,
      "outputs": []
    },
    {
      "cell_type": "code",
      "metadata": {
        "id": "oXY6zJnJPyAF"
      },
      "source": [
        "X = digits_dataset.data\n",
        "y = digits_dataset.target"
      ],
      "execution_count": 28,
      "outputs": []
    },
    {
      "cell_type": "code",
      "metadata": {
        "id": "ixBAAB_3QfEy"
      },
      "source": [
        "X_images = X[0:25].reshape(-1, 8, 8)"
      ],
      "execution_count": 29,
      "outputs": []
    },
    {
      "cell_type": "code",
      "metadata": {
        "colab": {
          "base_uri": "https://localhost:8080/",
          "height": 575
        },
        "id": "iPA4WFe8P24z",
        "outputId": "0d508e08-ab2a-47dc-cb06-a23e91a96086"
      },
      "source": [
        "fig, axes = plt.subplots(figsize = (10, 10), nrows = 5, ncols = 5)\n",
        "axes = axes.ravel()\n",
        "\n",
        "for index in range(25):\n",
        "    axes[index].imshow(X_images[index], cmap = plt.cm.binary)\n",
        "    axes[index].axis('off')"
      ],
      "execution_count": 30,
      "outputs": [
        {
          "output_type": "display_data",
          "data": {
            "image/png": "[encoded data removed]",
            "text/plain": [
              "<Figure size 720x720 with 25 Axes>"
            ]
          },
          "metadata": {
            "tags": [],
            "needs_background": "light"
          }
        }
      ]
    },
    {
      "cell_type": "code",
      "metadata": {
        "colab": {
          "base_uri": "https://localhost:8080/"
        },
        "id": "RIEJ47WYQ9Ug",
        "outputId": "903a8fc3-0788-4118-cb31-2c0c7e13b096"
      },
      "source": [
        "X_train, X_test, y_train, y_test = train_test_split(X,\n",
        "                                                    y,\n",
        "                                                    train_size = 0.8,\n",
        "                                                    stratify = y,\n",
        "                                                    random_state = 20152410)\n",
        "\n",
        "print(X_train.shape, X_test.shape, y_train.shape, y_test.shape)"
      ],
      "execution_count": 31,
      "outputs": [
        {
          "output_type": "stream",
          "text": [
            "(1437, 64) (360, 64) (1437,) (360,)\n"
          ],
          "name": "stdout"
        }
      ]
    },
    {
      "cell_type": "code",
      "metadata": {
        "id": "lbCFdeewRQwf"
      },
      "source": [
        "n_estimators_list = list(range(100, 701, 60))\n",
        "C_list = np.logspace(-1, 1, 50)"
      ],
      "execution_count": 32,
      "outputs": []
    },
    {
      "cell_type": "code",
      "metadata": {
        "id": "EsM3cuh5RLw2"
      },
      "source": [
        "adaboost_clf_cv_accuracy = [cross_val_score(estimator = AdaBoostClassifier(base_estimator = DecisionTreeClassifier(),\n",
        "                                                                           n_estimators = number,\n",
        "                                                                           learning_rate = 0.6),\n",
        "                                            X = X_train,\n",
        "                                            y = y_train,\n",
        "                                            cv = 4,\n",
        "                                            scoring = make_scorer(accuracy_score)).mean() for number in n_estimators_list]"
      ],
      "execution_count": 33,
      "outputs": []
    },
    {
      "cell_type": "code",
      "metadata": {
        "id": "GczdsY-nROCX"
      },
      "source": [
        "rf_clf_cv_accuracy = [cross_val_score(estimator = RandomForestClassifier(n_estimators = number),\n",
        "                                      X = X_train,\n",
        "                                      y = y_train,\n",
        "                                      cv = 4,\n",
        "                                      scoring = make_scorer(accuracy_score)).mean() for number in n_estimators_list]"
      ],
      "execution_count": 34,
      "outputs": []
    },
    {
      "cell_type": "code",
      "metadata": {
        "id": "6NnyYMtWS6pz"
      },
      "source": [
        "xgb_cv_accuracy = [cross_val_score(estimator = XGBClassifier(n_estimators = number,\n",
        "                                                             learning_rate = 0.3),\n",
        "                                   X = X_train,\n",
        "                                   y = y_train,\n",
        "                                   cv = 4,\n",
        "                                   scoring = make_scorer(accuracy_score)).mean() for number in n_estimators_list]"
      ],
      "execution_count": 35,
      "outputs": []
    },
    {
      "cell_type": "code",
      "metadata": {
        "id": "Ox68vRbZRTT-"
      },
      "source": [
        "svc_cv_accuracy = [cross_val_score(estimator = SVC(kernel='rbf', C = c),\n",
        "                                   X = X_train,\n",
        "                                   y = y_train,\n",
        "                                   cv = 4,\n",
        "                                   scoring = make_scorer(accuracy_score)).mean() for c in C_list]"
      ],
      "execution_count": 36,
      "outputs": []
    },
    {
      "cell_type": "code",
      "metadata": {
        "colab": {
          "base_uri": "https://localhost:8080/"
        },
        "id": "Ww0KVmg8SgNF",
        "outputId": "658278ac-6969-4c28-9f40-ad3b5aa625c9"
      },
      "source": [
        "print(\"Maximum cv accuracy of adaboost clf : {}\".format(np.max(adaboost_clf_cv_accuracy)))\n",
        "print(\"n_estimators of maximum cv accuracy : {}\".format(n_estimators_list[np.argmax(adaboost_clf_cv_accuracy)]))\n",
        "print('\\n')\n",
        "\n",
        "print(\"Maximum cv accuracy of random forest clf : {}\".format(np.max(rf_clf_cv_accuracy)))\n",
        "print(\"n_estimators of maximum cv accuracy : {}\".format(n_estimators_list[np.argmax(rf_clf_cv_accuracy)]))\n",
        "print('\\n')\n",
        "\n",
        "print(\"Maximum cv accuracy of xgboost clf : {}\".format(np.max(xgb_cv_accuracy)))\n",
        "print(\"n_estimators of maximum cv accuracy : {}\".format(n_estimators_list[np.argmax(xgb_cv_accuracy)]))\n",
        "print('\\n')\n",
        "\n",
        "print(\"Maximum cv accuracy of support vector clf : {}\".format(np.max(svc_cv_accuracy)))\n",
        "print(\"C of maximum cv accuracy : {}\".format(C_list[np.argmax(svc_cv_accuracy)]))"
      ],
      "execution_count": 37,
      "outputs": [
        {
          "output_type": "stream",
          "text": [
            "Maximum cv accuracy of adaboost clf : 0.8531704580625193\n",
            "n_estimators of maximum cv accuracy : 700\n",
            "\n",
            "\n",
            "Maximum cv accuracy of random forest clf : 0.9770446456205509\n",
            "n_estimators of maximum cv accuracy : 640\n",
            "\n",
            "\n",
            "Maximum cv accuracy of xgboost clf : 0.959654518724853\n",
            "n_estimators of maximum cv accuracy : 520\n",
            "\n",
            "\n",
            "Maximum cv accuracy of support vector clf : 0.9895736614051378\n",
            "C of maximum cv accuracy : 1.5264179671752334\n"
          ],
          "name": "stdout"
        }
      ]
    },
    {
      "cell_type": "code",
      "metadata": {
        "id": "pt6fWcVNVbkd"
      },
      "source": [
        "adaboost_clf_best_n_estimators = n_estimators_list[np.argmax(adaboost_clf_cv_accuracy)]\n",
        "rf_clf_best_n_estimators = n_estimators_list[np.argmax(rf_clf_cv_accuracy)]\n",
        "xgb_clf_n_estimators = n_estimators_list[np.argmax(xgb_cv_accuracy)]\n",
        "svc_best_C = C_list[np.argmax(svc_cv_accuracy)]"
      ],
      "execution_count": 38,
      "outputs": []
    },
    {
      "cell_type": "code",
      "metadata": {
        "id": "3qL6zp6MM7aO"
      },
      "source": [
        "adaboost_clf = AdaBoostClassifier(base_estimator = DecisionTreeClassifier(),\n",
        "                                  n_estimators = adaboost_clf_best_n_estimators,\n",
        "                                  learning_rate = 0.6,\n",
        "                                  random_state = 20152410)\n",
        "\n",
        "rf_clf = RandomForestClassifier(n_estimators = rf_clf_best_n_estimators,\n",
        "                                random_state = 20152410)\n",
        "\n",
        "xgb_clf = XGBClassifier(n_estimators = xgb_clf_n_estimators,\n",
        "                        random_state = 20152410)\n",
        "\n",
        "svc_clf = SVC(kernel='rbf',\n",
        "              C = svc_best_C,\n",
        "              probability = True)"
      ],
      "execution_count": 39,
      "outputs": []
    },
    {
      "cell_type": "code",
      "metadata": {
        "colab": {
          "base_uri": "https://localhost:8080/"
        },
        "id": "qUvEUcFpV-Mz",
        "outputId": "e55999ec-fd3d-40ea-987a-5ab02ebdf5cb"
      },
      "source": [
        "adaboost_clf.fit(X_train, y_train)"
      ],
      "execution_count": 40,
      "outputs": [
        {
          "output_type": "execute_result",
          "data": {
            "text/plain": [
              "AdaBoostClassifier(algorithm='SAMME.R',\n",
              "                   base_estimator=DecisionTreeClassifier(ccp_alpha=0.0,\n",
              "                                                         class_weight=None,\n",
              "                                                         criterion='gini',\n",
              "                                                         max_depth=None,\n",
              "                                                         max_features=None,\n",
              "                                                         max_leaf_nodes=None,\n",
              "                                                         min_impurity_decrease=0.0,\n",
              "                                                         min_impurity_split=None,\n",
              "                                                         min_samples_leaf=1,\n",
              "                                                         min_samples_split=2,\n",
              "                                                         min_weight_fraction_leaf=0.0,\n",
              "                                                         presort='deprecated',\n",
              "                                                         random_state=None,\n",
              "                                                         splitter='best'),\n",
              "                   learning_rate=0.6, n_estimators=700, random_state=20152410)"
            ]
          },
          "metadata": {
            "tags": []
          },
          "execution_count": 40
        }
      ]
    },
    {
      "cell_type": "code",
      "metadata": {
        "colab": {
          "base_uri": "https://localhost:8080/"
        },
        "id": "tZbzCcH_M9AM",
        "outputId": "b8069650-4061-4a67-a5e1-94d34170b732"
      },
      "source": [
        "rf_clf.fit(X_train, y_train)"
      ],
      "execution_count": 41,
      "outputs": [
        {
          "output_type": "execute_result",
          "data": {
            "text/plain": [
              "RandomForestClassifier(bootstrap=True, ccp_alpha=0.0, class_weight=None,\n",
              "                       criterion='gini', max_depth=None, max_features='auto',\n",
              "                       max_leaf_nodes=None, max_samples=None,\n",
              "                       min_impurity_decrease=0.0, min_impurity_split=None,\n",
              "                       min_samples_leaf=1, min_samples_split=2,\n",
              "                       min_weight_fraction_leaf=0.0, n_estimators=640,\n",
              "                       n_jobs=None, oob_score=False, random_state=20152410,\n",
              "                       verbose=0, warm_start=False)"
            ]
          },
          "metadata": {
            "tags": []
          },
          "execution_count": 41
        }
      ]
    },
    {
      "cell_type": "code",
      "metadata": {
        "colab": {
          "base_uri": "https://localhost:8080/"
        },
        "id": "t1RAktPuM-TE",
        "outputId": "046ffe44-0f0e-4439-cbaa-3b94e6039c40"
      },
      "source": [
        "xgb_clf.fit(X_train, y_train)"
      ],
      "execution_count": 42,
      "outputs": [
        {
          "output_type": "execute_result",
          "data": {
            "text/plain": [
              "XGBClassifier(base_score=0.5, booster='gbtree', colsample_bylevel=1,\n",
              "              colsample_bynode=1, colsample_bytree=1, gamma=0,\n",
              "              learning_rate=0.1, max_delta_step=0, max_depth=3,\n",
              "              min_child_weight=1, missing=None, n_estimators=520, n_jobs=1,\n",
              "              nthread=None, objective='multi:softprob', random_state=20152410,\n",
              "              reg_alpha=0, reg_lambda=1, scale_pos_weight=1, seed=None,\n",
              "              silent=None, subsample=1, verbosity=1)"
            ]
          },
          "metadata": {
            "tags": []
          },
          "execution_count": 42
        }
      ]
    },
    {
      "cell_type": "code",
      "metadata": {
        "colab": {
          "base_uri": "https://localhost:8080/"
        },
        "id": "-ZBQZiR7M_mF",
        "outputId": "655ca26b-3a05-4f5f-cfdf-f284a3b0ee24"
      },
      "source": [
        "svc_clf.fit(X_train, y_train)"
      ],
      "execution_count": 43,
      "outputs": [
        {
          "output_type": "execute_result",
          "data": {
            "text/plain": [
              "SVC(C=1.5264179671752334, break_ties=False, cache_size=200, class_weight=None,\n",
              "    coef0=0.0, decision_function_shape='ovr', degree=3, gamma='scale',\n",
              "    kernel='rbf', max_iter=-1, probability=True, random_state=None,\n",
              "    shrinking=True, tol=0.001, verbose=False)"
            ]
          },
          "metadata": {
            "tags": []
          },
          "execution_count": 43
        }
      ]
    },
    {
      "cell_type": "code",
      "metadata": {
        "id": "J2QNbCo6W7ka"
      },
      "source": [
        "ada_clf_y_test_pred_target = adaboost_clf.predict(X_test)\n",
        "rf_clf_y_test_pred_target = rf_clf.predict(X_test)\n",
        "xgb_clf_y_test_pred_target = xgb_clf.predict(X_test)\n",
        "svc_clf_y_test_pred_target = svc_clf.predict(X_test)"
      ],
      "execution_count": 44,
      "outputs": []
    },
    {
      "cell_type": "code",
      "metadata": {
        "colab": {
          "base_uri": "https://localhost:8080/"
        },
        "id": "UlHeKd9TXPPm",
        "outputId": "c8277940-b71f-4f5a-9184-ca6a86935bd1"
      },
      "source": [
        "AdaBoostClassifier\n",
        "RandomForestClassifier\n",
        "XGBClassifier\n",
        "SVC"
      ],
      "execution_count": 45,
      "outputs": [
        {
          "output_type": "execute_result",
          "data": {
            "text/plain": [
              "sklearn.svm._classes.SVC"
            ]
          },
          "metadata": {
            "tags": []
          },
          "execution_count": 45
        }
      ]
    },
    {
      "cell_type": "code",
      "metadata": {
        "colab": {
          "base_uri": "https://localhost:8080/"
        },
        "id": "a5OAVVQIXHY-",
        "outputId": "d7bf1f7d-e343-4ed2-bb29-f83345568990"
      },
      "source": [
        "print(\"AdaBoostClassifier test accuracy : {}\".format(accuracy_score(y_test, ada_clf_y_test_pred_target)))\n",
        "print(\"RandomForestClassifier test accuracy : {}\".format(accuracy_score(y_test, rf_clf_y_test_pred_target)))\n",
        "print(\"XGBClassifier test accuracy : {}\".format(accuracy_score(y_test, xgb_clf_y_test_pred_target)))\n",
        "print(\"SVC test accuracy : {}\".format(accuracy_score(y_test, svc_clf_y_test_pred_target)))"
      ],
      "execution_count": 46,
      "outputs": [
        {
          "output_type": "stream",
          "text": [
            "AdaBoostClassifier test accuracy : 0.8194444444444444\n",
            "RandomForestClassifier test accuracy : 0.9638888888888889\n",
            "XGBClassifier test accuracy : 0.9722222222222222\n",
            "SVC test accuracy : 0.9805555555555555\n"
          ],
          "name": "stdout"
        }
      ]
    },
    {
      "cell_type": "markdown",
      "metadata": {
        "id": "r8WeVhKXXbwk"
      },
      "source": [
        "테스트 정확도가 90퍼센트 이하인 AdaBoostClassifier를 제외한 3개의 모델을 이용하여 soft voting 방식의 앙상블 모델 구성"
      ]
    },
    {
      "cell_type": "code",
      "metadata": {
        "id": "ppMAuDgQWTwA"
      },
      "source": [
        "rf_clf_y_test_pred_prob = rf_clf.predict_proba(X_test)\n",
        "xgb_clf_y_test_pred_prob = xgb_clf.predict_proba(X_test)\n",
        "svc_clf_y_test_pred_prob = svc_clf.predict_proba(X_test)\n",
        "\n",
        "ensemble_clf_y_test_pred_prob = (rf_clf_y_test_pred_prob + xgb_clf_y_test_pred_prob + svc_clf_y_test_pred_prob) / 3\n",
        "ensemble_clf_y_test_pred_target = np.argmax(ensemble_clf_y_test_pred_prob, axis = 1)"
      ],
      "execution_count": 47,
      "outputs": []
    },
    {
      "cell_type": "code",
      "metadata": {
        "colab": {
          "base_uri": "https://localhost:8080/"
        },
        "id": "g3mW7mpPX8qu",
        "outputId": "0f4dada7-ed17-44ba-d206-a41686f9bcb4"
      },
      "source": [
        "print(\"Ensemble test accuracy : {}\".format(accuracy_score(y_test, ensemble_clf_y_test_pred_target)))"
      ],
      "execution_count": 48,
      "outputs": [
        {
          "output_type": "stream",
          "text": [
            "Ensemble test accuracy : 0.9805555555555555\n"
          ],
          "name": "stdout"
        }
      ]
    }
  ]
}