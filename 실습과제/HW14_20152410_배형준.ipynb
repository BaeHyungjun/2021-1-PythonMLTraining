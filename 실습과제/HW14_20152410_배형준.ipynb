{
  "nbformat": 4,
  "nbformat_minor": 0,
  "metadata": {
    "colab": {
      "name": "HW14_20152410_배형준.ipynb",
      "provenance": [],
      "collapsed_sections": []
    },
    "kernelspec": {
      "name": "python3",
      "display_name": "Python 3"
    },
    "language_info": {
      "name": "python"
    }
  },
  "cells": [
    {
      "cell_type": "markdown",
      "metadata": {
        "id": "dX7MPAtEn6vo"
      },
      "source": [
        "# 14-1 : MNIST 데이터셋을 이용한 pca, svm, rf\n",
        "\n",
        "MNIST 데이터셋을 불러와 60,000개를 훈련세트로 배정합시다.\n",
        "1. 랜덤 PCA를 사용하여 차원을 154차원으로 축소하여 보세요.\n",
        "2. 축소한 차원 데이터셋을 이용하여 SVM분류를 해보세요.\n",
        "3. 축소한 차원 데이터셋을 사용하여 랜덤 포레스트 분류를 훈련시켜 보세요.\n",
        "4. 이제 테스트 셋에 위 두 개의 분류기를 평가해 보세요.(3장에서sgd의 정확도가 90%정도였습니다.)\n"
      ]
    },
    {
      "cell_type": "code",
      "metadata": {
        "id": "k1Uq_Ht3l1dc"
      },
      "source": [
        "# fundamentals\n",
        "import numpy as np\n",
        "import pandas as pd\n",
        "import matplotlib as mpl\n",
        "import matplotlib.pyplot as plt\n",
        "\n",
        "# data\n",
        "from sklearn.datasets import fetch_openml\n",
        "\n",
        "# holdout\n",
        "from sklearn.model_selection import train_test_split\n",
        "from sklearn.model_selection import cross_val_score\n",
        "\n",
        "# preprocessing\n",
        "from sklearn.decomposition import PCA\n",
        "\n",
        "# model\n",
        "from sklearn.svm import SVC\n",
        "from sklearn.ensemble import RandomForestClassifier\n",
        "\n",
        "# evaluation\n",
        "from sklearn.metrics import make_scorer, accuracy_score, confusion_matrix, classification_report"
      ],
      "execution_count": 1,
      "outputs": []
    },
    {
      "cell_type": "code",
      "metadata": {
        "id": "cs10v4ktwM6j"
      },
      "source": [
        "mnist = fetch_openml('mnist_784')"
      ],
      "execution_count": 2,
      "outputs": []
    },
    {
      "cell_type": "code",
      "metadata": {
        "id": "Zc2DzXaNxV-x"
      },
      "source": [
        "X = mnist['data'] / 255\n",
        "y = mnist[\"target\"].astype(np.int)"
      ],
      "execution_count": 3,
      "outputs": []
    },
    {
      "cell_type": "code",
      "metadata": {
        "colab": {
          "base_uri": "https://localhost:8080/",
          "height": 608
        },
        "id": "BRB3RphFxYrI",
        "outputId": "aa0c4e8a-d211-4043-bca5-9ee0723de28c"
      },
      "source": [
        "X_plot = X[:16].reshape(16, 28, 28)\n",
        "y_plot = y[:16]\n",
        "\n",
        "fig, axes = plt.subplots(nrows = 4, ncols = 4, figsize = (8, 8))\n",
        "axes = axes.ravel()\n",
        "\n",
        "for index, ax in enumerate(axes):\n",
        "    ax.imshow(X_plot[index], cmap = plt.cm.binary)\n",
        "    ax.set_title('{}'.format(y[index]), fontsize = 15)\n",
        "    ax.axis('off')\n",
        "\n",
        "fig.suptitle('Example of MNIST', y = 1.02, fontsize = 20)\n",
        "plt.tight_layout()\n",
        "plt.show()"
      ],
      "execution_count": 4,
      "outputs": [
        {
          "output_type": "display_data",
          "data": {
            "image/png": "[encoded data removed]",
            "text/plain": [
              "<Figure size 576x576 with 16 Axes>"
            ]
          },
          "metadata": {
            "tags": [],
            "needs_background": "light"
          }
        }
      ]
    },
    {
      "cell_type": "code",
      "metadata": {
        "id": "7t4Ffnjtx3m8"
      },
      "source": [
        "X_train, X_test, y_train, y_test = train_test_split(X, \n",
        "                                                    y,\n",
        "                                                    train_size = 6 / 7,\n",
        "                                                    stratify = y,\n",
        "                                                    random_state = 20152410)"
      ],
      "execution_count": 5,
      "outputs": []
    },
    {
      "cell_type": "code",
      "metadata": {
        "id": "lwpJrpKAy18k",
        "colab": {
          "base_uri": "https://localhost:8080/"
        },
        "outputId": "60098c6a-a660-4fd2-87fa-708cfc601038"
      },
      "source": [
        "print(X_train.shape, X_test.shape, y_train.shape, y_test.shape)"
      ],
      "execution_count": 6,
      "outputs": [
        {
          "output_type": "stream",
          "text": [
            "(60000, 784) (10000, 784) (60000,) (10000,)\n"
          ],
          "name": "stdout"
        }
      ]
    },
    {
      "cell_type": "code",
      "metadata": {
        "id": "YJZssrFRy6RP"
      },
      "source": [
        "pca_model_1 = PCA(n_components = 154, svd_solver = 'randomized', random_state = 20152410)\n",
        "pca_model_1.fit(X_train)\n",
        "\n",
        "X_train_pca_1 = pca_model_1.transform(X_train)\n",
        "X_test_pca_1 = pca_model_1.transform(X_test)"
      ],
      "execution_count": 7,
      "outputs": []
    },
    {
      "cell_type": "code",
      "metadata": {
        "colab": {
          "base_uri": "https://localhost:8080/"
        },
        "id": "PO9OQpL-OUqZ",
        "outputId": "ad22f085-e212-4e41-fb50-9775a21e635c"
      },
      "source": [
        "print('154개로 차원 축소 했을 때 PCA로 설명되는 분산 비율 : {:0.2f}%'.format(100*np.sum(pca_model_1.explained_variance_ratio_)))"
      ],
      "execution_count": 8,
      "outputs": [
        {
          "output_type": "stream",
          "text": [
            "154개로 차원 축소 했을 때 PCA로 설명되는 분산 비율 : 95.01%\n"
          ],
          "name": "stdout"
        }
      ]
    },
    {
      "cell_type": "code",
      "metadata": {
        "colab": {
          "base_uri": "https://localhost:8080/",
          "height": 297
        },
        "id": "ffXdSeKdN0Ft",
        "outputId": "cc3bffcd-e0ae-40f2-f04b-4a9e38170a0a"
      },
      "source": [
        "plt.figure(figsize = (6, 4))\n",
        "plt.plot(list(range(len(pca_model_1.explained_variance_ratio_))),\n",
        "         np.cumsum(pca_model_1.explained_variance_ratio_),\n",
        "         'b-')\n",
        "\n",
        "plt.title('PCA explained variance ratio', fontsize = 15)\n",
        "plt.ylim(0, 1)\n",
        "plt.tight_layout()\n",
        "plt.show()"
      ],
      "execution_count": 9,
      "outputs": [
        {
          "output_type": "display_data",
          "data": {
            "image/png": "[encoded data removed]",
            "text/plain": [
              "<Figure size 432x288 with 1 Axes>"
            ]
          },
          "metadata": {
            "tags": [],
            "needs_background": "light"
          }
        }
      ]
    },
    {
      "cell_type": "markdown",
      "metadata": {
        "id": "uajUxf-lnJl8"
      },
      "source": [
        "너무 오래 걸려..."
      ]
    },
    {
      "cell_type": "code",
      "metadata": {
        "id": "-d4UCQafSTit"
      },
      "source": [
        "# C_list = np.logspace(-2, 1, 10)\n",
        "# n_estimators_list = list(range(50, 501, 50))\n",
        "\n",
        "# print(C_list)\n",
        "# print(n_estimators_list)"
      ],
      "execution_count": 10,
      "outputs": []
    },
    {
      "cell_type": "code",
      "metadata": {
        "id": "hhuqdy5WSJlw"
      },
      "source": [
        "# svc_cv_accuracy = [cross_val_score(estimator = SVC(kernel = 'linear', C = c),\n",
        "#                                    X = X_train_pca_1,\n",
        "#                                    y = y_train,\n",
        "#                                    cv = 4,\n",
        "#                                    scoring = make_scorer(accuracy_score)).mean() for c in C_list]"
      ],
      "execution_count": 11,
      "outputs": []
    },
    {
      "cell_type": "code",
      "metadata": {
        "id": "tEdMysbBNsJC"
      },
      "source": [
        "# rf_clf_cv_accuracy = [cross_val_score(estimator = RandomForestClassifier(n_estimators = number),\n",
        "#                                             X = X_train_pca_1,\n",
        "#                                             y = y_train,\n",
        "#                                             cv = 4,\n",
        "#                                             scoring = make_scorer(accuracy_score)).mean() for number in n_estimators_list]"
      ],
      "execution_count": 12,
      "outputs": []
    },
    {
      "cell_type": "code",
      "metadata": {
        "id": "JMUq5F4zS88T"
      },
      "source": [
        "# best_C = C_list[np.argmax(svc_cv_accuracy)]\n",
        "\n",
        "# print(\"Linear SVC max cv accuracy : {:0.2f}%\".format(100*np.max(svc_cv_accuracy)))\n",
        "# print(\"CV accuracy가 최대일 때의 C : {}\".format(best_C))"
      ],
      "execution_count": 13,
      "outputs": []
    },
    {
      "cell_type": "code",
      "metadata": {
        "id": "Zh7O48edS_LU"
      },
      "source": [
        "# best_n_estimators = n_estimators_list[np.argmax(rf_clf_cv_accuracy)]\n",
        "\n",
        "# print(\"Random Forest max cv accuracy : {:0.2f}%\".format(100*np.max(rf_clf_cv_accuracy)))\n",
        "# print(\"CV accuracy가 최대일 때의 n_estimators : {}\".format(best_n_estimators))"
      ],
      "execution_count": 14,
      "outputs": []
    },
    {
      "cell_type": "code",
      "metadata": {
        "id": "P4BaOKNDS_SX"
      },
      "source": [
        "svm_clf = SVC(kernel='linear')\n",
        "rf_clf = RandomForestClassifier(random_state = 20152410)"
      ],
      "execution_count": 15,
      "outputs": []
    },
    {
      "cell_type": "code",
      "metadata": {
        "colab": {
          "base_uri": "https://localhost:8080/"
        },
        "id": "oE913r3hS_eT",
        "outputId": "1a9cf404-3574-4692-e19e-04ddc1b1073c"
      },
      "source": [
        "svm_clf.fit(X_train_pca_1, y_train)"
      ],
      "execution_count": 16,
      "outputs": [
        {
          "output_type": "execute_result",
          "data": {
            "text/plain": [
              "SVC(C=1.0, break_ties=False, cache_size=200, class_weight=None, coef0=0.0,\n",
              "    decision_function_shape='ovr', degree=3, gamma='scale', kernel='linear',\n",
              "    max_iter=-1, probability=False, random_state=None, shrinking=True,\n",
              "    tol=0.001, verbose=False)"
            ]
          },
          "metadata": {
            "tags": []
          },
          "execution_count": 16
        }
      ]
    },
    {
      "cell_type": "code",
      "metadata": {
        "colab": {
          "base_uri": "https://localhost:8080/"
        },
        "id": "lBFJgivlTDMS",
        "outputId": "dd85bead-97ef-463e-84c5-2d1437505db0"
      },
      "source": [
        "rf_clf.fit(X_train_pca_1, y_train)"
      ],
      "execution_count": 17,
      "outputs": [
        {
          "output_type": "execute_result",
          "data": {
            "text/plain": [
              "RandomForestClassifier(bootstrap=True, ccp_alpha=0.0, class_weight=None,\n",
              "                       criterion='gini', max_depth=None, max_features='auto',\n",
              "                       max_leaf_nodes=None, max_samples=None,\n",
              "                       min_impurity_decrease=0.0, min_impurity_split=None,\n",
              "                       min_samples_leaf=1, min_samples_split=2,\n",
              "                       min_weight_fraction_leaf=0.0, n_estimators=100,\n",
              "                       n_jobs=None, oob_score=False, random_state=20152410,\n",
              "                       verbose=0, warm_start=False)"
            ]
          },
          "metadata": {
            "tags": []
          },
          "execution_count": 17
        }
      ]
    },
    {
      "cell_type": "code",
      "metadata": {
        "id": "cjvzfvF5TDQd"
      },
      "source": [
        "y_test_pred_svm = svm_clf.predict(X_test_pca_1)\n",
        "y_test_pred_rf = rf_clf.predict(X_test_pca_1)"
      ],
      "execution_count": 18,
      "outputs": []
    },
    {
      "cell_type": "code",
      "metadata": {
        "colab": {
          "base_uri": "https://localhost:8080/"
        },
        "id": "xFsHVQGIS_yb",
        "outputId": "a433c797-29d5-4a20-aeb5-cf67d925965f"
      },
      "source": [
        "print(\"Linear SVC test accuracy : {:0.2f}%\".format(100*accuracy_score(y_test, y_test_pred_svm)))\n",
        "print(\"\\n\")\n",
        "print(confusion_matrix(y_test, y_test_pred_svm))\n",
        "print(\"\\n\")\n",
        "print(classification_report(y_test, y_test_pred_svm))"
      ],
      "execution_count": 19,
      "outputs": [
        {
          "output_type": "stream",
          "text": [
            "Linear SVC test accuracy : 93.85%\n",
            "\n",
            "\n",
            "[[ 954    1    7    3    0    8    5    1    6    1]\n",
            " [   1 1107    4    2    1    1    0    1    8    0]\n",
            " [   5    6  930   14    8    3    7   11   14    1]\n",
            " [   1    5   22  948    1   20    2    5   13    3]\n",
            " [   2    1   10    0  921    2    5    6    1   27]\n",
            " [   5    6    7   25   11  813   17    2   13    3]\n",
            " [   6    2   13    1    3   15  940    0    2    0]\n",
            " [   2    3   12   13   10    1    1  981    1   18]\n",
            " [   5   14    8   25    4   20    7    3  880    9]\n",
            " [   4    3    1   11   30    7    0   22    5  911]]\n",
            "\n",
            "\n",
            "              precision    recall  f1-score   support\n",
            "\n",
            "           0       0.97      0.97      0.97       986\n",
            "           1       0.96      0.98      0.97      1125\n",
            "           2       0.92      0.93      0.92       999\n",
            "           3       0.91      0.93      0.92      1020\n",
            "           4       0.93      0.94      0.94       975\n",
            "           5       0.91      0.90      0.91       902\n",
            "           6       0.96      0.96      0.96       982\n",
            "           7       0.95      0.94      0.95      1042\n",
            "           8       0.93      0.90      0.92       975\n",
            "           9       0.94      0.92      0.93       994\n",
            "\n",
            "    accuracy                           0.94     10000\n",
            "   macro avg       0.94      0.94      0.94     10000\n",
            "weighted avg       0.94      0.94      0.94     10000\n",
            "\n"
          ],
          "name": "stdout"
        }
      ]
    },
    {
      "cell_type": "code",
      "metadata": {
        "colab": {
          "base_uri": "https://localhost:8080/"
        },
        "id": "7aAtZGeES_4r",
        "outputId": "42730cae-057a-4ed7-c9aa-143e59142263"
      },
      "source": [
        "print(\"Random Forest test accuracy : {:0.2f}%\".format(100*accuracy_score(y_test, y_test_pred_rf)))\n",
        "print(\"\\n\")\n",
        "print(confusion_matrix(y_test, y_test_pred_rf))\n",
        "print(\"\\n\")\n",
        "print(classification_report(y_test, y_test_pred_rf))"
      ],
      "execution_count": 20,
      "outputs": [
        {
          "output_type": "stream",
          "text": [
            "Random Forest test accuracy : 94.70%\n",
            "\n",
            "\n",
            "[[ 958    0    7    3    2    2    6    1    5    2]\n",
            " [   0 1107    8    3    1    2    3    0    0    1]\n",
            " [   5    0  943   10    4    2    3   12   19    1]\n",
            " [   1    1   14  954    0   12    3    5   21    9]\n",
            " [   0    3    7    2  939    0    3    2    3   16]\n",
            " [   4    0    2   24   10  835   16    1    4    6]\n",
            " [   7    1    5    2    1   14  950    0    2    0]\n",
            " [   3    3   10    1   16    0    0  986    5   18]\n",
            " [   8    6   10   22    1   16    6    5  889   12]\n",
            " [   3    2    6   14   28    9    1   16    6  909]]\n",
            "\n",
            "\n",
            "              precision    recall  f1-score   support\n",
            "\n",
            "           0       0.97      0.97      0.97       986\n",
            "           1       0.99      0.98      0.98      1125\n",
            "           2       0.93      0.94      0.94       999\n",
            "           3       0.92      0.94      0.93      1020\n",
            "           4       0.94      0.96      0.95       975\n",
            "           5       0.94      0.93      0.93       902\n",
            "           6       0.96      0.97      0.96       982\n",
            "           7       0.96      0.95      0.95      1042\n",
            "           8       0.93      0.91      0.92       975\n",
            "           9       0.93      0.91      0.92       994\n",
            "\n",
            "    accuracy                           0.95     10000\n",
            "   macro avg       0.95      0.95      0.95     10000\n",
            "weighted avg       0.95      0.95      0.95     10000\n",
            "\n"
          ],
          "name": "stdout"
        }
      ]
    },
    {
      "cell_type": "markdown",
      "metadata": {
        "id": "_rVdldJiwM_E"
      },
      "source": [
        "# 14-2 : MNIST 데이터셋을 이용한 pca, svm, rf\n",
        "\n",
        "MNIST 데이터셋을 불러와 60,000개를 훈련세트로 배정합시다.\n",
        "1. PCA를 사용하여 분산이 95% 유지되도록 차원을 축소하여 보세요.\n",
        "2. 축소한 차원 데이터셋을 사용하여 랜덤 포레스트 분류를 훈련시켜 보세요.\n",
        "3. 차원 축소하지 않은 데이터셋에 랜덤포레스트 분류를 훈련해 보세요.\n",
        "4. 이제 테스트 셋에 위 두 개의 분류기를 평가해 보세요."
      ]
    },
    {
      "cell_type": "code",
      "metadata": {
        "id": "NSJrETaawRHD"
      },
      "source": [
        "pca_model_2 = PCA(n_components = 0.95, svd_solver = 'auto')\n",
        "pca_model_2.fit(X_train)\n",
        "\n",
        "X_train_pca_2 = pca_model_2.transform(X_train)\n",
        "X_test_pca_2 = pca_model_2.transform(X_test)"
      ],
      "execution_count": 21,
      "outputs": []
    },
    {
      "cell_type": "code",
      "metadata": {
        "colab": {
          "base_uri": "https://localhost:8080/"
        },
        "id": "oC1cCdC-O6Kk",
        "outputId": "04915b53-f61c-4f39-8ece-8122ea7bf5bc"
      },
      "source": [
        "print('95% 분산이 유지되도록 했을 때 PCA의 차원 수 : {}'.format(pca_model_2.n_components_))"
      ],
      "execution_count": 22,
      "outputs": [
        {
          "output_type": "stream",
          "text": [
            "95% 분산이 유지되도록 했을 때 PCA의 차원 수 : 154\n"
          ],
          "name": "stdout"
        }
      ]
    },
    {
      "cell_type": "code",
      "metadata": {
        "colab": {
          "base_uri": "https://localhost:8080/",
          "height": 297
        },
        "id": "fajsOSb-O6QR",
        "outputId": "3c4dc9cc-d5a5-4ef3-ac0c-56eeff5c2441"
      },
      "source": [
        "plt.figure(figsize = (6, 4))\n",
        "plt.plot(list(range(len(pca_model_2.explained_variance_ratio_))),\n",
        "         np.cumsum(pca_model_2.explained_variance_ratio_),\n",
        "         'b-')\n",
        "\n",
        "plt.title('PCA number of components', fontsize = 15)\n",
        "plt.ylim(0, 1)\n",
        "plt.tight_layout()\n",
        "plt.show()"
      ],
      "execution_count": 23,
      "outputs": [
        {
          "output_type": "display_data",
          "data": {
            "image/png": "[encoded data removed]",
            "text/plain": [
              "<Figure size 432x288 with 1 Axes>"
            ]
          },
          "metadata": {
            "tags": [],
            "needs_background": "light"
          }
        }
      ]
    },
    {
      "cell_type": "markdown",
      "metadata": {
        "id": "jP1HoWWpnXg3"
      },
      "source": [
        "이것도 너무 오래 걸려..."
      ]
    },
    {
      "cell_type": "code",
      "metadata": {
        "id": "hgucl0i0Sw3z"
      },
      "source": [
        "# n_estimators_list = list(range(50, 501, 25))\n",
        "\n",
        "# print(n_estimators_list)"
      ],
      "execution_count": 24,
      "outputs": []
    },
    {
      "cell_type": "code",
      "metadata": {
        "id": "sch7FaLmPZhd"
      },
      "source": [
        "# rf_clf1_cv_accuracy = [cross_val_score(estimator = RandomForestClassifier(n_estimators = number),\n",
        "#                                             X = X_train_pca_2,\n",
        "#                                             y = y_train,\n",
        "#                                             cv = 4,\n",
        "#                                             scoring = make_scorer(accuracy_score)).mean() for number in n_estimators_list]"
      ],
      "execution_count": 25,
      "outputs": []
    },
    {
      "cell_type": "code",
      "metadata": {
        "id": "ZEaqo_RcPXQS"
      },
      "source": [
        "# rf_clf2_cv_accuracy = [cross_val_score(estimator = RandomForestClassifier(n_estimators = number),\n",
        "#                                             X = X_train,\n",
        "#                                             y = y_train,\n",
        "#                                             cv = 4,\n",
        "#                                             scoring = make_scorer(accuracy_score)).mean() for number in n_estimators_list]"
      ],
      "execution_count": 26,
      "outputs": []
    },
    {
      "cell_type": "code",
      "metadata": {
        "id": "eo0uoaOxTBWL"
      },
      "source": [
        "# best_n_estimators_1 = n_estimators_list[np.argmax(rf_clf1_cv_accuracy)]\n",
        "\n",
        "# print(\"Random Forest with pca max cv accuracy : {:0.2f}%\".format(100*np.max(rf_clf1_cv_accuracy)))\n",
        "# print(\"CV accuracy가 최대일 때의 n_estimators : {}\".format(best_n_estimators_1))"
      ],
      "execution_count": 27,
      "outputs": []
    },
    {
      "cell_type": "code",
      "metadata": {
        "id": "ixenDf9Dc2gq"
      },
      "source": [
        "# best_n_estimators_2 = n_estimators_list[np.argmax(rf_clf2_cv_accuracy)]\n",
        "\n",
        "# print(\"Random Forest without pca max cv accuracy : {:0.2f}%\".format(100*np.max(rf_clf2_cv_accuracy)))\n",
        "# print(\"CV accuracy가 최대일 때의 n_estimators : {}\".format(best_n_estimators_2))"
      ],
      "execution_count": 28,
      "outputs": []
    },
    {
      "cell_type": "code",
      "metadata": {
        "id": "lYDuJmaMTCGT"
      },
      "source": [
        "rf_clf1 = RandomForestClassifier(random_state = 20152410)\n",
        "rf_clf2 = RandomForestClassifier(random_state = 20152410)"
      ],
      "execution_count": 29,
      "outputs": []
    },
    {
      "cell_type": "code",
      "metadata": {
        "colab": {
          "base_uri": "https://localhost:8080/"
        },
        "id": "P9aOxvMxTCJ6",
        "outputId": "35581947-89cd-4c67-e238-4569b6bf4309"
      },
      "source": [
        "rf_clf1.fit(X_train_pca_2, y_train)"
      ],
      "execution_count": 30,
      "outputs": [
        {
          "output_type": "execute_result",
          "data": {
            "text/plain": [
              "RandomForestClassifier(bootstrap=True, ccp_alpha=0.0, class_weight=None,\n",
              "                       criterion='gini', max_depth=None, max_features='auto',\n",
              "                       max_leaf_nodes=None, max_samples=None,\n",
              "                       min_impurity_decrease=0.0, min_impurity_split=None,\n",
              "                       min_samples_leaf=1, min_samples_split=2,\n",
              "                       min_weight_fraction_leaf=0.0, n_estimators=100,\n",
              "                       n_jobs=None, oob_score=False, random_state=20152410,\n",
              "                       verbose=0, warm_start=False)"
            ]
          },
          "metadata": {
            "tags": []
          },
          "execution_count": 30
        }
      ]
    },
    {
      "cell_type": "code",
      "metadata": {
        "colab": {
          "base_uri": "https://localhost:8080/"
        },
        "id": "qyslisd8TCRL",
        "outputId": "a8637ac1-c3cc-4ef7-b77d-9ba0d2522751"
      },
      "source": [
        "rf_clf2.fit(X_train, y_train)"
      ],
      "execution_count": 31,
      "outputs": [
        {
          "output_type": "execute_result",
          "data": {
            "text/plain": [
              "RandomForestClassifier(bootstrap=True, ccp_alpha=0.0, class_weight=None,\n",
              "                       criterion='gini', max_depth=None, max_features='auto',\n",
              "                       max_leaf_nodes=None, max_samples=None,\n",
              "                       min_impurity_decrease=0.0, min_impurity_split=None,\n",
              "                       min_samples_leaf=1, min_samples_split=2,\n",
              "                       min_weight_fraction_leaf=0.0, n_estimators=100,\n",
              "                       n_jobs=None, oob_score=False, random_state=20152410,\n",
              "                       verbose=0, warm_start=False)"
            ]
          },
          "metadata": {
            "tags": []
          },
          "execution_count": 31
        }
      ]
    },
    {
      "cell_type": "code",
      "metadata": {
        "id": "XaXkuJUyTCUt"
      },
      "source": [
        "y_test_pred_rf1 = rf_clf1.predict(X_test_pca_2)\n",
        "y_test_pred_rf2 = rf_clf2.predict(X_test)"
      ],
      "execution_count": 32,
      "outputs": []
    },
    {
      "cell_type": "code",
      "metadata": {
        "colab": {
          "base_uri": "https://localhost:8080/"
        },
        "id": "TmWtDJdZTCbs",
        "outputId": "b48650df-6901-4955-f21f-111d6a1d6024"
      },
      "source": [
        "print(\"Random Forest with pca test accuracy : {:0.2f}%\".format(100*accuracy_score(y_test, y_test_pred_rf1)))\n",
        "print(\"\\n\")\n",
        "print(confusion_matrix(y_test, y_test_pred_rf1))\n",
        "print(\"\\n\")\n",
        "print(classification_report(y_test, y_test_pred_rf1))"
      ],
      "execution_count": 33,
      "outputs": [
        {
          "output_type": "stream",
          "text": [
            "Random Forest with pca test accuracy : 94.61%\n",
            "\n",
            "\n",
            "[[ 958    0    5    4    1    2    8    2    5    1]\n",
            " [   0 1104    7    5    2    2    3    0    2    0]\n",
            " [   6    0  947    8    4    1    3   11   18    1]\n",
            " [   1    1   16  949    0    9    6    5   23   10]\n",
            " [   1    1    6    3  934    0    6    2    6   16]\n",
            " [   4    0    1   27    9  831   14    2    7    7]\n",
            " [   6    1    4    1    3   19  946    0    2    0]\n",
            " [   2    3    8    2   12    0    0  991    5   19]\n",
            " [   8    6   11   21    4   15    4    3  890   13]\n",
            " [   3    3    6   18   26    6    1   16    4  911]]\n",
            "\n",
            "\n",
            "              precision    recall  f1-score   support\n",
            "\n",
            "           0       0.97      0.97      0.97       986\n",
            "           1       0.99      0.98      0.98      1125\n",
            "           2       0.94      0.95      0.94       999\n",
            "           3       0.91      0.93      0.92      1020\n",
            "           4       0.94      0.96      0.95       975\n",
            "           5       0.94      0.92      0.93       902\n",
            "           6       0.95      0.96      0.96       982\n",
            "           7       0.96      0.95      0.96      1042\n",
            "           8       0.93      0.91      0.92       975\n",
            "           9       0.93      0.92      0.92       994\n",
            "\n",
            "    accuracy                           0.95     10000\n",
            "   macro avg       0.95      0.95      0.95     10000\n",
            "weighted avg       0.95      0.95      0.95     10000\n",
            "\n"
          ],
          "name": "stdout"
        }
      ]
    },
    {
      "cell_type": "code",
      "metadata": {
        "colab": {
          "base_uri": "https://localhost:8080/"
        },
        "id": "VPT1ZmdZTCfG",
        "outputId": "7fb8ed7a-5968-487a-94fa-cb093948a4cf"
      },
      "source": [
        "print(\"Random Forest without pca test accuracy : {:0.2f}%\".format(100*accuracy_score(y_test, y_test_pred_rf2)))\n",
        "print(\"\\n\")\n",
        "print(confusion_matrix(y_test, y_test_pred_rf2))\n",
        "print(\"\\n\")\n",
        "print(classification_report(y_test, y_test_pred_rf2))"
      ],
      "execution_count": 34,
      "outputs": [
        {
          "output_type": "stream",
          "text": [
            "Random Forest without pca test accuracy : 96.87%\n",
            "\n",
            "\n",
            "[[ 967    0    1    1    0    2    6    0    8    1]\n",
            " [   1 1114    3    5    0    0    1    0    0    1]\n",
            " [   5    0  972    4    3    0    3    6    6    0]\n",
            " [   0    2   17  969    0   12    2    5    9    4]\n",
            " [   3    0    2    0  947    0    3    2    3   15]\n",
            " [   2    0    0   12    4  869    5    1    5    4]\n",
            " [   4    2    1    0    1    9  963    0    2    0]\n",
            " [   1    1    8    0    6    0    0 1010    0   16]\n",
            " [   4    5    4    2    2    5    4    1  936   12]\n",
            " [   3    2    3   13   12    4    0   11    6  940]]\n",
            "\n",
            "\n",
            "              precision    recall  f1-score   support\n",
            "\n",
            "           0       0.98      0.98      0.98       986\n",
            "           1       0.99      0.99      0.99      1125\n",
            "           2       0.96      0.97      0.97       999\n",
            "           3       0.96      0.95      0.96      1020\n",
            "           4       0.97      0.97      0.97       975\n",
            "           5       0.96      0.96      0.96       902\n",
            "           6       0.98      0.98      0.98       982\n",
            "           7       0.97      0.97      0.97      1042\n",
            "           8       0.96      0.96      0.96       975\n",
            "           9       0.95      0.95      0.95       994\n",
            "\n",
            "    accuracy                           0.97     10000\n",
            "   macro avg       0.97      0.97      0.97     10000\n",
            "weighted avg       0.97      0.97      0.97     10000\n",
            "\n"
          ],
          "name": "stdout"
        }
      ]
    }
  ]
}