{
  "nbformat": 4,
  "nbformat_minor": 0,
  "metadata": {
    "colab": {
      "name": "HW05_20152410_배형준.ipynb",
      "provenance": [],
      "collapsed_sections": []
    },
    "kernelspec": {
      "name": "python3",
      "display_name": "Python 3"
    },
    "language_info": {
      "name": "python"
    }
  },
  "cells": [
    {
      "cell_type": "markdown",
      "metadata": {
        "id": "r2Pm2POT88F3"
      },
      "source": [
        "# 5-1 : Coordinate class"
      ]
    },
    {
      "cell_type": "code",
      "metadata": {
        "id": "1QsCbgDe87YP"
      },
      "source": [
        "class Coordinate1:\n",
        "  \n",
        "  x = 0\n",
        "  y = 0"
      ],
      "execution_count": 1,
      "outputs": []
    },
    {
      "cell_type": "code",
      "metadata": {
        "colab": {
          "base_uri": "https://localhost:8080/"
        },
        "id": "3pprwcNg9yRV",
        "outputId": "20272a5d-d7d1-42e6-8604-ac527f26255d"
      },
      "source": [
        "Coordinate1.__dict__"
      ],
      "execution_count": 2,
      "outputs": [
        {
          "output_type": "execute_result",
          "data": {
            "text/plain": [
              "mappingproxy({'__dict__': <attribute '__dict__' of 'Coordinate1' objects>,\n",
              "              '__doc__': None,\n",
              "              '__module__': '__main__',\n",
              "              '__weakref__': <attribute '__weakref__' of 'Coordinate1' objects>,\n",
              "              'x': 0,\n",
              "              'y': 0})"
            ]
          },
          "metadata": {
            "tags": []
          },
          "execution_count": 2
        }
      ]
    },
    {
      "cell_type": "markdown",
      "metadata": {
        "id": "JMIKDgLl9y_8"
      },
      "source": [
        "# 5-2 : Coordinate class"
      ]
    },
    {
      "cell_type": "code",
      "metadata": {
        "id": "UUbU5t0N-A7b"
      },
      "source": [
        "coordinate2_1 = Coordinate1()\n",
        "coordinate2_2 = Coordinate1()\n",
        "\n",
        "coordinate2_1.x, coordinate2_1.y = -1, 2\n",
        "coordinate2_2.x, coordinate2_2.y = 2, 3"
      ],
      "execution_count": 3,
      "outputs": []
    },
    {
      "cell_type": "code",
      "metadata": {
        "colab": {
          "base_uri": "https://localhost:8080/"
        },
        "id": "k2bBF3BB-SsD",
        "outputId": "ba01ed09-cff6-48d9-bba6-49ab8121aeae"
      },
      "source": [
        "coordinate2_1.__dict__, coordinate2_2.__dict__"
      ],
      "execution_count": 4,
      "outputs": [
        {
          "output_type": "execute_result",
          "data": {
            "text/plain": [
              "({'x': -1, 'y': 2}, {'x': 2, 'y': 3})"
            ]
          },
          "metadata": {
            "tags": []
          },
          "execution_count": 4
        }
      ]
    },
    {
      "cell_type": "markdown",
      "metadata": {
        "id": "0sA8r-Ya-kLj"
      },
      "source": [
        "# 5-3 : Coordinate class"
      ]
    },
    {
      "cell_type": "code",
      "metadata": {
        "id": "1Ia9rppF_JcZ"
      },
      "source": [
        "import math"
      ],
      "execution_count": 5,
      "outputs": []
    },
    {
      "cell_type": "code",
      "metadata": {
        "id": "b-O5KnD2-okp"
      },
      "source": [
        "def distance(point_a, point_b):\n",
        "  \"\"\"두 점 사이의 거리를 계산\"\"\"\n",
        "  \n",
        "  return math.sqrt((point_a.x - point_b.x)**2 +\n",
        "                   (point_a.y - point_b.y)**2)"
      ],
      "execution_count": 6,
      "outputs": []
    },
    {
      "cell_type": "code",
      "metadata": {
        "colab": {
          "base_uri": "https://localhost:8080/"
        },
        "id": "6KP0raKW_NcQ",
        "outputId": "6735d99e-b4cc-4dca-abed-e7a3db948246"
      },
      "source": [
        "distance(coordinate2_1, coordinate2_2)"
      ],
      "execution_count": 7,
      "outputs": [
        {
          "output_type": "execute_result",
          "data": {
            "text/plain": [
              "3.1622776601683795"
            ]
          },
          "metadata": {
            "tags": []
          },
          "execution_count": 7
        }
      ]
    },
    {
      "cell_type": "markdown",
      "metadata": {
        "id": "D-5j_lWo_QHw"
      },
      "source": [
        "# 5-4 : Coordinate class"
      ]
    },
    {
      "cell_type": "code",
      "metadata": {
        "id": "k8wSJTbI_rCG"
      },
      "source": [
        "class Coordinate4:\n",
        "\n",
        "  def __init__(self, x, y):\n",
        "    \n",
        "    self.x = x\n",
        "    self.y = y\n",
        "\n",
        "  def distance(self, other_point):\n",
        "    \n",
        "    dist = math.sqrt((self.x - other_point.x)**2 +\n",
        "                     (self.y - other_point.y)**2)\n",
        "    \n",
        "    return dist"
      ],
      "execution_count": 8,
      "outputs": []
    },
    {
      "cell_type": "code",
      "metadata": {
        "colab": {
          "base_uri": "https://localhost:8080/"
        },
        "id": "lPe-qLedA3XH",
        "outputId": "f6f0db99-849e-4789-ac87-c056d7f57fb4"
      },
      "source": [
        "coordinate4_1 = Coordinate4(x = 0, y = 0)\n",
        "coordinate4_2 = Coordinate4(x = 3, y = 4)\n",
        "\n",
        "coordinate4_1.distance(coordinate4_2)"
      ],
      "execution_count": 9,
      "outputs": [
        {
          "output_type": "execute_result",
          "data": {
            "text/plain": [
              "5.0"
            ]
          },
          "metadata": {
            "tags": []
          },
          "execution_count": 9
        }
      ]
    },
    {
      "cell_type": "markdown",
      "metadata": {
        "id": "mV7Yr9l2BBM8"
      },
      "source": [
        "# 5-5 : Coordinate class"
      ]
    },
    {
      "cell_type": "code",
      "metadata": {
        "id": "5Jg2182EBTiq"
      },
      "source": [
        "class Coordinate5:\n",
        "\n",
        "  def __init__(self, x = 0, y = 0):\n",
        "    \n",
        "    self.x = x\n",
        "    self.y = y\n",
        "\n",
        "  def distance(self, other_point):\n",
        "    \n",
        "    dist = math.sqrt((self.x - other_point.x)**2 +\n",
        "                     (self.y - other_point.y)**2)\n",
        "    \n",
        "    return dist"
      ],
      "execution_count": 10,
      "outputs": []
    },
    {
      "cell_type": "code",
      "metadata": {
        "colab": {
          "base_uri": "https://localhost:8080/"
        },
        "id": "T7oGKWf5B3I6",
        "outputId": "fae5d292-d49c-468e-8540-6a03594d0599"
      },
      "source": [
        "coordinate5_1 = Coordinate5(x = 10, y = 10)\n",
        "\n",
        "coordinate5_1.__dict__"
      ],
      "execution_count": 11,
      "outputs": [
        {
          "output_type": "execute_result",
          "data": {
            "text/plain": [
              "{'x': 10, 'y': 10}"
            ]
          },
          "metadata": {
            "tags": []
          },
          "execution_count": 11
        }
      ]
    },
    {
      "cell_type": "code",
      "metadata": {
        "colab": {
          "base_uri": "https://localhost:8080/"
        },
        "id": "KvqOR2SeCRyy",
        "outputId": "769c7194-3b9d-4fd0-96d2-edee0e39588c"
      },
      "source": [
        "coordinate5_2 = Coordinate5()\n",
        "\n",
        "coordinate5_2.__dict__"
      ],
      "execution_count": 12,
      "outputs": [
        {
          "output_type": "execute_result",
          "data": {
            "text/plain": [
              "{'x': 0, 'y': 0}"
            ]
          },
          "metadata": {
            "tags": []
          },
          "execution_count": 12
        }
      ]
    },
    {
      "cell_type": "markdown",
      "metadata": {
        "id": "kczrHV7OCUMA"
      },
      "source": [
        "# 5-6 : Calculator Class"
      ]
    },
    {
      "cell_type": "code",
      "metadata": {
        "id": "pLZmVzPACa1v"
      },
      "source": [
        "class FourCal:\n",
        "\n",
        "  def setdata(self, a, b):\n",
        "    \n",
        "    self.a = a\n",
        "    self.b = b\n",
        "\n",
        "  def add(self):\n",
        "    \n",
        "    return self.a + self.b\n",
        "\n",
        "  def sub(self):\n",
        "    \n",
        "    return self.a - self.b\n",
        "\n",
        "  def mul(self):\n",
        "    \n",
        "    return self.a * self.b\n",
        "\n",
        "  def div(self):\n",
        "    \n",
        "    return self.a / self.b"
      ],
      "execution_count": 13,
      "outputs": []
    },
    {
      "cell_type": "code",
      "metadata": {
        "colab": {
          "base_uri": "https://localhost:8080/"
        },
        "id": "zQ95HhpiEBgH",
        "outputId": "51383351-fc36-4dff-8e62-401a48b259dc"
      },
      "source": [
        "class6 = FourCal()\n",
        "\n",
        "class6.setdata(a = 4, b = 2)\n",
        "\n",
        "print(\"add : {}, sub : {}, mul : {}, div : {}\".format(\n",
        "    class6.add(), class6.sub(), class6.mul(), class6.div()))"
      ],
      "execution_count": 14,
      "outputs": [
        {
          "output_type": "stream",
          "text": [
            "add : 6, sub : 2, mul : 8, div : 2.0\n"
          ],
          "name": "stdout"
        }
      ]
    },
    {
      "cell_type": "markdown",
      "metadata": {
        "id": "Z5UIrv84EFf0"
      },
      "source": [
        "# 5-7 : 직사각기둥"
      ]
    },
    {
      "cell_type": "code",
      "metadata": {
        "id": "lCmOtcjnHu3I"
      },
      "source": [
        "class SquarePillar:\n",
        "\n",
        "  def __init__(self, a, b, h):\n",
        "    \n",
        "    self.a = a\n",
        "    self.b = b\n",
        "    self.h = h\n",
        "\n",
        "  def volume(self):\n",
        "\n",
        "    return self.a * self.b * self.h\n",
        "\n",
        "  def surface(self):\n",
        "\n",
        "    return 2 * (self.a * self.b + self.a * self.h + self.b * self.h)"
      ],
      "execution_count": 15,
      "outputs": []
    },
    {
      "cell_type": "code",
      "metadata": {
        "colab": {
          "base_uri": "https://localhost:8080/"
        },
        "id": "A1AeSTQXIXGE",
        "outputId": "ba502092-50ac-44b1-9a32-3068e7bb748b"
      },
      "source": [
        "class7 = SquarePillar(a = 5, b = 6, h = 10)\n",
        "\n",
        "print(\"volumn : {}, surface : {}\".format(class7.volume(), class7.surface()))"
      ],
      "execution_count": 16,
      "outputs": [
        {
          "output_type": "stream",
          "text": [
            "volumn : 300, surface : 280\n"
          ],
          "name": "stdout"
        }
      ]
    },
    {
      "cell_type": "markdown",
      "metadata": {
        "id": "3eGvBZZjJJXv"
      },
      "source": [
        "# 5-8 : 도형 클래스 정의하기 1"
      ]
    },
    {
      "cell_type": "code",
      "metadata": {
        "id": "ZMxVkyGvJvRZ"
      },
      "source": [
        "class Shape:\n",
        "\n",
        "  def __init__(self, sides):\n",
        "    \n",
        "    self.sides = sides\n",
        "\n",
        "  def describe(self):\n",
        "\n",
        "    print(\"이 도형은 {}개의 변을 갖고 있습니다.\".format(self.sides))"
      ],
      "execution_count": 17,
      "outputs": []
    },
    {
      "cell_type": "code",
      "metadata": {
        "id": "IYujZWRYKqZ-"
      },
      "source": [
        "class Triangle8(Shape):\n",
        "\n",
        "  def __init__(self):\n",
        "\n",
        "    self.sides = 3"
      ],
      "execution_count": 18,
      "outputs": []
    },
    {
      "cell_type": "code",
      "metadata": {
        "id": "ebNJ4pPSKzRK"
      },
      "source": [
        "class Rectangle8(Shape):\n",
        "\n",
        "  def __init__(self):\n",
        "\n",
        "    self.sides = 4"
      ],
      "execution_count": 19,
      "outputs": []
    },
    {
      "cell_type": "code",
      "metadata": {
        "colab": {
          "base_uri": "https://localhost:8080/"
        },
        "id": "erq3ZpViLG7B",
        "outputId": "b58cd1ef-d358-44d5-92ee-f85e33e70506"
      },
      "source": [
        "shape = [Triangle8(), Rectangle8()]\n",
        "\n",
        "for element in shape:\n",
        "  element.describe()"
      ],
      "execution_count": 20,
      "outputs": [
        {
          "output_type": "stream",
          "text": [
            "이 도형은 3개의 변을 갖고 있습니다.\n",
            "이 도형은 4개의 변을 갖고 있습니다.\n"
          ],
          "name": "stdout"
        }
      ]
    },
    {
      "cell_type": "markdown",
      "metadata": {
        "id": "OIwV-Dz4Liji"
      },
      "source": [
        "# 5-9 : 도형 클래스 정의하기 2"
      ]
    },
    {
      "cell_type": "code",
      "metadata": {
        "id": "3duJyXT1O2vA"
      },
      "source": [
        "class Triangle9(Shape):\n",
        "\n",
        "  def __init__(self, point_a, point_b, point_c):\n",
        "    \n",
        "    self.sides = 3\n",
        "    self.point_a = point_a # Coordinate5 type\n",
        "    self.point_b = point_b # Coordinate5 type\n",
        "    self.point_c = point_c # Coordinate5 type\n",
        "\n",
        "  def circumference(self):\n",
        "    \n",
        "    dist1 = distance(self.point_a, self.point_b)\n",
        "    dist2 = distance(self.point_b, self.point_c)\n",
        "    dist3 = distance(self.point_c, self.point_a)\n",
        "\n",
        "    return dist1 + dist2 + dist3"
      ],
      "execution_count": 21,
      "outputs": []
    },
    {
      "cell_type": "code",
      "metadata": {
        "id": "T1xntZPfTU8O"
      },
      "source": [
        "class Rectangle9(Shape):\n",
        "\n",
        "  def __init__(self, point_a, point_b, point_c, point_d):\n",
        "    \n",
        "    self.sides = 4\n",
        "    self.point_a = point_a # Coordinate5 type\n",
        "    self.point_b = point_b # Coordinate5 type\n",
        "    self.point_c = point_c # Coordinate5 type\n",
        "    self.point_d = point_d # Coordinate5 type\n",
        "\n",
        "  def circumference(self):\n",
        "    \n",
        "    dist1 = distance(self.point_a, self.point_b)\n",
        "    dist2 = distance(self.point_b, self.point_c)\n",
        "    dist3 = distance(self.point_c, self.point_d)\n",
        "    dist4 = distance(self.point_d, self.point_a)\n",
        "\n",
        "    return dist1 + dist2 + dist3 + dist4"
      ],
      "execution_count": 22,
      "outputs": []
    },
    {
      "cell_type": "code",
      "metadata": {
        "colab": {
          "base_uri": "https://localhost:8080/"
        },
        "id": "4KxKfiPTStgE",
        "outputId": "0789cb22-80bd-421a-8e6d-0fbae3952e99"
      },
      "source": [
        "shapes = [\n",
        "          Triangle9(Coordinate5(0, 0), Coordinate5(3, 0), Coordinate5(3, 4)),\n",
        "          Rectangle9(Coordinate5(2, 2), Coordinate5(6, 2), Coordinate5(6, 6), Coordinate5(2, 6))\n",
        "          ]\n",
        "\n",
        "for shape in shapes:\n",
        "  shape.describe()\n",
        "  print(\"둘레 : {}\".format(shape.circumference()))\n",
        "  print(\"\\n\")"
      ],
      "execution_count": 23,
      "outputs": [
        {
          "output_type": "stream",
          "text": [
            "이 도형은 3개의 변을 갖고 있습니다.\n",
            "둘레 : 12.0\n",
            "\n",
            "\n",
            "이 도형은 4개의 변을 갖고 있습니다.\n",
            "둘레 : 16.0\n",
            "\n",
            "\n"
          ],
          "name": "stdout"
        }
      ]
    },
    {
      "cell_type": "markdown",
      "metadata": {
        "id": "HnaFAY6-U_3E"
      },
      "source": [
        "# 5-10 : Upgrade Calculator"
      ]
    },
    {
      "cell_type": "code",
      "metadata": {
        "id": "XsnHmMsaVRhA"
      },
      "source": [
        "class Calculator:\n",
        "  \n",
        "  def __init__(self):\n",
        "\n",
        "    self.value = 0\n",
        "\n",
        "  def add(self, val):\n",
        "\n",
        "    self.value += val"
      ],
      "execution_count": 24,
      "outputs": []
    },
    {
      "cell_type": "code",
      "metadata": {
        "id": "tjDju44VV_-f"
      },
      "source": [
        "class UpgradeCalculator(Calculator):\n",
        "\n",
        "  def minus(self, val):\n",
        "\n",
        "    self.value -= val"
      ],
      "execution_count": 25,
      "outputs": []
    },
    {
      "cell_type": "code",
      "metadata": {
        "colab": {
          "base_uri": "https://localhost:8080/"
        },
        "id": "URvxUAXYWI1M",
        "outputId": "c6ade7ce-ae25-4d10-bda9-46bcb349d4f3"
      },
      "source": [
        "calculator10 = UpgradeCalculator()\n",
        "\n",
        "calculator10.add(10)\n",
        "print(calculator10.value)\n",
        "\n",
        "calculator10.minus(7)\n",
        "print(calculator10.value)"
      ],
      "execution_count": 26,
      "outputs": [
        {
          "output_type": "stream",
          "text": [
            "10\n",
            "3\n"
          ],
          "name": "stdout"
        }
      ]
    },
    {
      "cell_type": "markdown",
      "metadata": {
        "id": "1eSNjf1CWXW1"
      },
      "source": [
        "# 5-11 : MaxLimitCalculator"
      ]
    },
    {
      "cell_type": "code",
      "metadata": {
        "id": "ZSJsZQpWWdgj"
      },
      "source": [
        "class MaxLimitCalculator(UpgradeCalculator):\n",
        "\n",
        "  def add(self, val):\n",
        "\n",
        "    self.value += val\n",
        "    self.value = self.value if self.value <= 100 else 100"
      ],
      "execution_count": 27,
      "outputs": []
    },
    {
      "cell_type": "code",
      "metadata": {
        "colab": {
          "base_uri": "https://localhost:8080/"
        },
        "id": "pXH9VnArXq1h",
        "outputId": "04a1b307-727d-457c-f4b5-77eb66ae84ca"
      },
      "source": [
        "max_limit_calculator = MaxLimitCalculator()\n",
        "\n",
        "max_limit_calculator.add(50)\n",
        "print(max_limit_calculator.value)\n",
        "\n",
        "max_limit_calculator.add(60)\n",
        "print(max_limit_calculator.value)"
      ],
      "execution_count": 28,
      "outputs": [
        {
          "output_type": "stream",
          "text": [
            "50\n",
            "100\n"
          ],
          "name": "stdout"
        }
      ]
    },
    {
      "cell_type": "markdown",
      "metadata": {
        "id": "2KQLJ2VXXxo3"
      },
      "source": [
        "# 5-12 : 상속 클래스"
      ]
    },
    {
      "cell_type": "code",
      "metadata": {
        "id": "oygFTiD8YXAS"
      },
      "source": [
        "class Car:\n",
        "\n",
        "  def __init__(self):\n",
        "\n",
        "    self.max_speed = 160\n",
        "    self.speed = 0\n",
        "    self.up = 20\n",
        "    self.down = 20\n",
        "\n",
        "  def speed_up(self):\n",
        "\n",
        "    self.speed = self.speed + self.up\n",
        "    self.speed = self.speed if 0 <= self.speed <= self.max_speed else self.max_speed\n",
        "    print(\"현재 속력은 {}입니다.\".format(self.speed))\n",
        "\n",
        "  def speed_down(self):\n",
        "    \n",
        "    self.speed = self.speed - self.down\n",
        "    self.speed = self.speed if 0 <= self.speed <= self.max_speed else 0  \n",
        "    print(\"현재 속력은 {}입니다.\".format(self.speed))"
      ],
      "execution_count": 29,
      "outputs": []
    },
    {
      "cell_type": "code",
      "metadata": {
        "colab": {
          "base_uri": "https://localhost:8080/"
        },
        "id": "gI6vRoTRZsWt",
        "outputId": "8b33c8b7-4088-46d4-94cf-d57f7b6ff3ab"
      },
      "source": [
        "my_car = Car()\n",
        "\n",
        "for i in range(10):\n",
        "  my_car.speed_up()\n",
        "\n",
        "print(\"\\n\")\n",
        "\n",
        "for j in range(10):\n",
        "  my_car.speed_down()"
      ],
      "execution_count": 30,
      "outputs": [
        {
          "output_type": "stream",
          "text": [
            "현재 속력은 20입니다.\n",
            "현재 속력은 40입니다.\n",
            "현재 속력은 60입니다.\n",
            "현재 속력은 80입니다.\n",
            "현재 속력은 100입니다.\n",
            "현재 속력은 120입니다.\n",
            "현재 속력은 140입니다.\n",
            "현재 속력은 160입니다.\n",
            "현재 속력은 160입니다.\n",
            "현재 속력은 160입니다.\n",
            "\n",
            "\n",
            "현재 속력은 140입니다.\n",
            "현재 속력은 120입니다.\n",
            "현재 속력은 100입니다.\n",
            "현재 속력은 80입니다.\n",
            "현재 속력은 60입니다.\n",
            "현재 속력은 40입니다.\n",
            "현재 속력은 20입니다.\n",
            "현재 속력은 0입니다.\n",
            "현재 속력은 0입니다.\n",
            "현재 속력은 0입니다.\n"
          ],
          "name": "stdout"
        }
      ]
    },
    {
      "cell_type": "markdown",
      "metadata": {
        "id": "8rAWIjBZZtmS"
      },
      "source": [
        "# 5-13 : 상속 클래스"
      ]
    },
    {
      "cell_type": "code",
      "metadata": {
        "id": "M_DS-OFCaryN"
      },
      "source": [
        "class SportsCar(Car):\n",
        "\n",
        "  def __init__(self):\n",
        "\n",
        "    super().__init__()\n",
        "    self.max_speed = 200\n",
        "    self.up = 45\n",
        "    self.down = 45"
      ],
      "execution_count": 31,
      "outputs": []
    },
    {
      "cell_type": "code",
      "metadata": {
        "colab": {
          "base_uri": "https://localhost:8080/"
        },
        "id": "Ms3pVLSKvSu1",
        "outputId": "50d18cbe-6b0c-4fd3-8aca-cec44e6aaacf"
      },
      "source": [
        "my_sports_car = SportsCar()\n",
        "\n",
        "for i in range(10):\n",
        "  my_sports_car.speed_up()\n",
        "\n",
        "print(\"\\n\")\n",
        "\n",
        "for j in range(10):\n",
        "  my_sports_car.speed_down()"
      ],
      "execution_count": 32,
      "outputs": [
        {
          "output_type": "stream",
          "text": [
            "현재 속력은 45입니다.\n",
            "현재 속력은 90입니다.\n",
            "현재 속력은 135입니다.\n",
            "현재 속력은 180입니다.\n",
            "현재 속력은 200입니다.\n",
            "현재 속력은 200입니다.\n",
            "현재 속력은 200입니다.\n",
            "현재 속력은 200입니다.\n",
            "현재 속력은 200입니다.\n",
            "현재 속력은 200입니다.\n",
            "\n",
            "\n",
            "현재 속력은 155입니다.\n",
            "현재 속력은 110입니다.\n",
            "현재 속력은 65입니다.\n",
            "현재 속력은 20입니다.\n",
            "현재 속력은 0입니다.\n",
            "현재 속력은 0입니다.\n",
            "현재 속력은 0입니다.\n",
            "현재 속력은 0입니다.\n",
            "현재 속력은 0입니다.\n",
            "현재 속력은 0입니다.\n"
          ],
          "name": "stdout"
        }
      ]
    },
    {
      "cell_type": "code",
      "metadata": {
        "id": "418FEmR3rQ6W"
      },
      "source": [
        "class Truck(Car):\n",
        "\n",
        "  def __init__(self):\n",
        "\n",
        "    super().__init__()\n",
        "    self.max_speed = 100\n",
        "    self.up = 15\n",
        "    self.down = 15"
      ],
      "execution_count": 33,
      "outputs": []
    },
    {
      "cell_type": "code",
      "metadata": {
        "colab": {
          "base_uri": "https://localhost:8080/"
        },
        "id": "myiWuIrcvTFq",
        "outputId": "db578271-947b-4bd1-e4f2-52c28f86d5a3"
      },
      "source": [
        "my_truck = Truck()\n",
        "\n",
        "for i in range(10):\n",
        "  my_truck.speed_up()\n",
        "\n",
        "print(\"\\n\")\n",
        "\n",
        "for j in range(10):\n",
        "  my_truck.speed_down()"
      ],
      "execution_count": 34,
      "outputs": [
        {
          "output_type": "stream",
          "text": [
            "현재 속력은 15입니다.\n",
            "현재 속력은 30입니다.\n",
            "현재 속력은 45입니다.\n",
            "현재 속력은 60입니다.\n",
            "현재 속력은 75입니다.\n",
            "현재 속력은 90입니다.\n",
            "현재 속력은 100입니다.\n",
            "현재 속력은 100입니다.\n",
            "현재 속력은 100입니다.\n",
            "현재 속력은 100입니다.\n",
            "\n",
            "\n",
            "현재 속력은 85입니다.\n",
            "현재 속력은 70입니다.\n",
            "현재 속력은 55입니다.\n",
            "현재 속력은 40입니다.\n",
            "현재 속력은 25입니다.\n",
            "현재 속력은 10입니다.\n",
            "현재 속력은 0입니다.\n",
            "현재 속력은 0입니다.\n",
            "현재 속력은 0입니다.\n",
            "현재 속력은 0입니다.\n"
          ],
          "name": "stdout"
        }
      ]
    },
    {
      "cell_type": "markdown",
      "metadata": {
        "id": "_oWFBR6lvqqq"
      },
      "source": [
        "# 5-14 : 주사위 클래스"
      ]
    },
    {
      "cell_type": "code",
      "metadata": {
        "id": "X1ihOjhExJ88"
      },
      "source": [
        "import random"
      ],
      "execution_count": 35,
      "outputs": []
    },
    {
      "cell_type": "code",
      "metadata": {
        "id": "XWcFGzPYwTLh"
      },
      "source": [
        "class Dice:\n",
        "\n",
        "  def __init__(self, sides):\n",
        "\n",
        "    self.__sides = sides # 비공개 인스턴스 속성으로 정의하면 클래스 밖에서 접근 불가\n",
        "    self.__topside = random.randint(1, sides)\n",
        "\n",
        "  def top(self):\n",
        "\n",
        "    print(\"위를 향하고 있는 숫자는 {}입니다.\".format(self.__topside))\n",
        "\n",
        "  def role(self):\n",
        "\n",
        "    print(\"주사위를 굴립니다. 새로 나온 숫자는 {}입니다.\".format(random.randint(1, self.__sides)))"
      ],
      "execution_count": 36,
      "outputs": []
    },
    {
      "cell_type": "code",
      "metadata": {
        "id": "_L9WUJ7gxnXO"
      },
      "source": [
        "my_dice = Dice(sides = 10)"
      ],
      "execution_count": 37,
      "outputs": []
    },
    {
      "cell_type": "code",
      "metadata": {
        "colab": {
          "base_uri": "https://localhost:8080/"
        },
        "id": "NnXzijPkyBs7",
        "outputId": "5d8ba86d-6be3-4bfb-a621-fbd966d1b72e"
      },
      "source": [
        "my_dice.top()"
      ],
      "execution_count": 38,
      "outputs": [
        {
          "output_type": "stream",
          "text": [
            "위를 향하고 있는 숫자는 6입니다.\n"
          ],
          "name": "stdout"
        }
      ]
    },
    {
      "cell_type": "code",
      "metadata": {
        "colab": {
          "base_uri": "https://localhost:8080/"
        },
        "id": "f9rvM6sjyDXy",
        "outputId": "24a3cf35-3506-4aeb-c661-5e5905fb18b9"
      },
      "source": [
        "for i in range(10):\n",
        "  my_dice.role()"
      ],
      "execution_count": 39,
      "outputs": [
        {
          "output_type": "stream",
          "text": [
            "주사위를 굴립니다. 새로 나온 숫자는 3입니다.\n",
            "주사위를 굴립니다. 새로 나온 숫자는 1입니다.\n",
            "주사위를 굴립니다. 새로 나온 숫자는 3입니다.\n",
            "주사위를 굴립니다. 새로 나온 숫자는 8입니다.\n",
            "주사위를 굴립니다. 새로 나온 숫자는 5입니다.\n",
            "주사위를 굴립니다. 새로 나온 숫자는 3입니다.\n",
            "주사위를 굴립니다. 새로 나온 숫자는 1입니다.\n",
            "주사위를 굴립니다. 새로 나온 숫자는 6입니다.\n",
            "주사위를 굴립니다. 새로 나온 숫자는 8입니다.\n",
            "주사위를 굴립니다. 새로 나온 숫자는 8입니다.\n"
          ],
          "name": "stdout"
        }
      ]
    },
    {
      "cell_type": "code",
      "metadata": {
        "colab": {
          "base_uri": "https://localhost:8080/"
        },
        "id": "LqlSMVSByGVK",
        "outputId": "c5f6f28e-739f-45a7-dfde-61995ea95577"
      },
      "source": [
        "try:\n",
        "  print(my_dice.sides)\n",
        "\n",
        "except AttributeError as e:\n",
        "  print(e)"
      ],
      "execution_count": 40,
      "outputs": [
        {
          "output_type": "stream",
          "text": [
            "'Dice' object has no attribute 'sides'\n"
          ],
          "name": "stdout"
        }
      ]
    },
    {
      "cell_type": "code",
      "metadata": {
        "colab": {
          "base_uri": "https://localhost:8080/"
        },
        "id": "q6NJhhmYyWRs",
        "outputId": "85aaf858-5510-4051-f230-6136f83b187e"
      },
      "source": [
        "try:\n",
        "  print(my_dice.__sides)\n",
        "\n",
        "except AttributeError as e:\n",
        "  print(e)"
      ],
      "execution_count": 41,
      "outputs": [
        {
          "output_type": "stream",
          "text": [
            "'Dice' object has no attribute '__sides'\n"
          ],
          "name": "stdout"
        }
      ]
    },
    {
      "cell_type": "markdown",
      "metadata": {
        "id": "W1IILPO_wTEf"
      },
      "source": [
        "# 5-15 : 음식 클래스"
      ]
    },
    {
      "cell_type": "code",
      "metadata": {
        "id": "vSe2OcyhwVtu"
      },
      "source": [
        "class Food:\n",
        "\n",
        "    \"\"\"음식을 나타내는 클래스\"\"\"\n",
        "\n",
        "    def __init__(self, taste, calorie):\n",
        "        \"\"\"인스턴스를 초기화한다.\"\"\"\n",
        "\n",
        "        self._taste = taste      # 맛\n",
        "        self._calorie = calorie  # 칼로리\n",
        "     \n",
        "    def to_string(self):               \n",
        "        \"\"\"이 음식을 표현하는 문자열을 반환한다.\"\"\"\n",
        "\n",
        "        return str(self._taste) + '만큼 맛있고, ' + str(self._calorie) + '만큼 든든한 음식'\n",
        "    \n",
        "    def __add__(self, other):              \n",
        "        \"\"\"이 음식(self)과 다른 음식(other)을 더한 새 음식을 반환한다.\"\"\"\n",
        "\n",
        "        taste = self._taste + other._taste           # 두 음식의 맛을 더한다\n",
        "        calorie = self._calorie + other._calorie     # 두 음식의 칼로리를 더한다\n",
        "\n",
        "        return Food(taste, calorie)                  # 새 음식 인스턴스를 생성하여 반환한다\n"
      ],
      "execution_count": 42,
      "outputs": []
    },
    {
      "cell_type": "code",
      "metadata": {
        "id": "r7TsHqup2bW6"
      },
      "source": [
        "# <, <=, >, >=, == and !=\n",
        "# __lt__, __le__, __gt__, __ge__, __eq__ and __ne__"
      ],
      "execution_count": 43,
      "outputs": []
    },
    {
      "cell_type": "code",
      "metadata": {
        "id": "n0lmp-S70fcM"
      },
      "source": [
        "class NewFood(Food):\n",
        "\n",
        "# 맛있으면 True 출력\n",
        "\n",
        "  def __init__(self, taste, calorie): # 여기에 있는 taste와 calorie를 super().__init__으로 전달해줘야 함\n",
        "\n",
        "    super().__init__(taste, calorie) # 여기에 있는 __init__안에 넣어줘야 부모에서의 __init__을 실행하면서 인자를 전송\n",
        "\n",
        "  def __lt__(self, other):\n",
        "    \n",
        "    if self._taste < other._taste:\n",
        "      return True\n",
        "\n",
        "    elif self._taste > other._taste:\n",
        "      return False\n",
        "    \n",
        "    else:\n",
        "      if self._calorie < other._calorie:\n",
        "        return False\n",
        "      elif self._calorie > other._calorie:\n",
        "        return True\n",
        "      else:\n",
        "        return False\n",
        "\n",
        "  def __le__(self, other):\n",
        "\n",
        "    if self._taste < other._taste:\n",
        "      return True\n",
        "\n",
        "    elif self._taste > other._taste:\n",
        "      return False\n",
        "    \n",
        "    else:\n",
        "      if self._calorie < other._calorie:\n",
        "        return False\n",
        "      elif self._calorie > other._calorie:\n",
        "        return True\n",
        "      else:\n",
        "        return True\n",
        "\n",
        "  def __gt__(self, other):\n",
        "\n",
        "    if self._taste < other._taste:\n",
        "      return False\n",
        "\n",
        "    elif self._taste > other._taste:\n",
        "      return True\n",
        "    \n",
        "    else:\n",
        "      if self._calorie < other._calorie:\n",
        "        return True\n",
        "      elif self._calorie > other._calorie:\n",
        "        return False\n",
        "      else:\n",
        "        return False\n",
        "    \n",
        "  def __ge__(self, other):\n",
        "\n",
        "    if self._taste < other._taste:\n",
        "      return False\n",
        "\n",
        "    elif self._taste > other._taste:\n",
        "      return True\n",
        "    \n",
        "    else:\n",
        "      if self._calorie < other._calorie:\n",
        "        return True\n",
        "      elif self._calorie > other._calorie:\n",
        "        return False\n",
        "      else:\n",
        "        return True\n",
        "\n",
        "  def __eq__(self, other):\n",
        "\n",
        "    if self._taste < other._taste:\n",
        "      return False\n",
        "\n",
        "    elif self._taste > other._taste:\n",
        "      return False\n",
        "    \n",
        "    else:\n",
        "      if self._calorie < other._calorie:\n",
        "        return False\n",
        "      elif self._calorie > other._calorie:\n",
        "        return False\n",
        "      else:\n",
        "        return True\n",
        "\n",
        "  def __ne__(self, other):\n",
        "\n",
        "    if self._taste < other._taste:\n",
        "      return True\n",
        "\n",
        "    elif self._taste > other._taste:\n",
        "      return True\n",
        "    \n",
        "    else:\n",
        "      if self._calorie < other._calorie:\n",
        "        return True\n",
        "      elif self._calorie > other._calorie:\n",
        "        return True\n",
        "      else:\n",
        "        return False"
      ],
      "execution_count": 44,
      "outputs": []
    },
    {
      "cell_type": "code",
      "metadata": {
        "id": "A3Enjtxq6A4l"
      },
      "source": [
        "strawberry = NewFood(taste = 9, calorie = 32)\n",
        "potato = NewFood(taste = 6, calorie = 66)\n",
        "sweet_potato = NewFood(taste = 12, calorie = 131)\n",
        "pizza = NewFood(taste = 13, calorie = 266)"
      ],
      "execution_count": 45,
      "outputs": []
    },
    {
      "cell_type": "code",
      "metadata": {
        "colab": {
          "base_uri": "https://localhost:8080/"
        },
        "id": "qA72AidW6N3I",
        "outputId": "c924cc66-d843-4d11-b320-ef9cbfdaa4c1"
      },
      "source": [
        "print('딸기 < 감자: ', strawberry < potato)\n",
        "print('감자 + 감자 < 고구마: ', potato + potato < sweet_potato)\n",
        "print('피자 >= 딸기: ', pizza >= strawberry)\n",
        "print('피자 >= 피자: ', pizza >= strawberry)\n",
        "print('감자 + 딸기 < 피자: ', potato + strawberry < pizza)\n",
        "print('딸기 == 딸기: ', potato == potato)\n",
        "print('피자 != 피자: ', pizza != pizza)"
      ],
      "execution_count": 46,
      "outputs": [
        {
          "output_type": "stream",
          "text": [
            "딸기 < 감자:  False\n",
            "감자 + 감자 < 고구마:  True\n",
            "피자 >= 딸기:  True\n",
            "피자 >= 피자:  True\n",
            "감자 + 딸기 < 피자:  False\n",
            "딸기 == 딸기:  True\n",
            "피자 != 피자:  False\n"
          ],
          "name": "stdout"
        }
      ]
    },
    {
      "cell_type": "markdown",
      "metadata": {
        "id": "GCumwxJGsrax"
      },
      "source": [
        "# 상속이 이해가 잘 안돼서 이것저것"
      ]
    },
    {
      "cell_type": "code",
      "metadata": {
        "id": "5xJUrJEvsqeq"
      },
      "source": [
        "class Base(object):\n",
        "    def __init__(self):\n",
        "        print(\"Base init'ed\")\n",
        "\n",
        "class ChildA(Base):\n",
        "    def __init__(self):\n",
        "        print(\"ChildA init'ed\")\n",
        "        Base.__init__(self)\n",
        "\n",
        "class ChildB(Base):\n",
        "    def __init__(self):\n",
        "        super().__init__()\n",
        "        print(\"ChildB init'ed\")\n",
        "        \n",
        "class UserDependency(Base):\n",
        "    def __init__(self):\n",
        "        print(\"UserDependency init'ed\")\n",
        "        super().__init__()"
      ],
      "execution_count": 47,
      "outputs": []
    },
    {
      "cell_type": "code",
      "metadata": {
        "id": "pZGK_henswBo"
      },
      "source": [
        "class UserA(ChildA, UserDependency):\n",
        "    def __init__(self):\n",
        "        print(\"UserA init'ed\")\n",
        "        super().__init__()\n",
        "\n",
        "class UserB(ChildB, UserDependency):\n",
        "    def __init__(self):\n",
        "        super().__init__()\n",
        "        print(\"UserB init'ed\")\n",
        "        "
      ],
      "execution_count": 48,
      "outputs": []
    },
    {
      "cell_type": "markdown",
      "metadata": {
        "id": "8gElWlk6tQ-a"
      },
      "source": [
        "And UserA does not call the UserDependency method.\n",
        "\n",
        "But UserB does in-fact call UserDependency because ChildB invokes super."
      ]
    },
    {
      "cell_type": "code",
      "metadata": {
        "colab": {
          "base_uri": "https://localhost:8080/"
        },
        "id": "AxRvUcznswRI",
        "outputId": "880035a8-0482-48a6-a6fe-ee328e1cc371"
      },
      "source": [
        "UserA()"
      ],
      "execution_count": 49,
      "outputs": [
        {
          "output_type": "stream",
          "text": [
            "UserA init'ed\n",
            "ChildA init'ed\n",
            "Base init'ed\n"
          ],
          "name": "stdout"
        },
        {
          "output_type": "execute_result",
          "data": {
            "text/plain": [
              "<__main__.UserA at 0x7f6340d19fd0>"
            ]
          },
          "metadata": {
            "tags": []
          },
          "execution_count": 49
        }
      ]
    },
    {
      "cell_type": "code",
      "metadata": {
        "colab": {
          "base_uri": "https://localhost:8080/"
        },
        "id": "zIFj-bQWs1X6",
        "outputId": "0573a580-bb4d-4a4a-f71c-6a064bd6f096"
      },
      "source": [
        "UserB()"
      ],
      "execution_count": 50,
      "outputs": [
        {
          "output_type": "stream",
          "text": [
            "UserDependency init'ed\n",
            "Base init'ed\n",
            "ChildB init'ed\n",
            "UserB init'ed\n"
          ],
          "name": "stdout"
        },
        {
          "output_type": "execute_result",
          "data": {
            "text/plain": [
              "<__main__.UserB at 0x7f6340d1bad0>"
            ]
          },
          "metadata": {
            "tags": []
          },
          "execution_count": 50
        }
      ]
    },
    {
      "cell_type": "markdown",
      "metadata": {
        "id": "WcpFV6JTtkQb"
      },
      "source": [
        "```\n",
        "부모클래스.__init__()\n",
        "```\n",
        "위의 형태면 해당 부모 클래스의 init 함수를 실행\n",
        "\n",
        "```\n",
        "super().__init__()\n",
        "```\n",
        "위의 형태면 모든 부모 클래스의 init 함수를 실행\n",
        "\n",
        "\n",
        "모든 부모의 init을 실행하냐 or 내가 선택한 부모의 init만 실행하냐 차이!\n",
        "\n",
        "그리고 상속을 거듭한 뒤 결과를 보니 init 안에서 super()을 먼저하냐 나중에 하냐에 따른 차이가 존재\n",
        "\n",
        "=> init 안에서 super().init을 먼저 한 다음에 자식의 init 값을 정해주는 것이 자식에서 값을 변경하는데 좋아보임\n",
        "\n",
        "\n",
        "\n",
        "\n"
      ]
    }
  ]
}