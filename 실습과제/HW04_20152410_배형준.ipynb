{
  "nbformat": 4,
  "nbformat_minor": 0,
  "metadata": {
    "colab": {
      "name": "HW04_20152410_배형준.ipynb",
      "provenance": [],
      "collapsed_sections": []
    },
    "kernelspec": {
      "name": "python3",
      "display_name": "Python 3"
    },
    "language_info": {
      "name": "python"
    }
  },
  "cells": [
    {
      "cell_type": "markdown",
      "metadata": {
        "id": "ZROf_2FR1b6D"
      },
      "source": [
        "# 4-1 : 리스트 반복문 조건문"
      ]
    },
    {
      "cell_type": "code",
      "metadata": {
        "id": "73vPWhHD81oI"
      },
      "source": [
        "def check_fruit():\n",
        "  \"\"\"입력받은 단어가 목록에 있는지 없는지 체크\"\"\"\n",
        "  \n",
        "  user_input = input(\"좋아하는 과일을 입력하세요 : \")\n",
        "  fruit = [\"사과\", \"포도\", \"홍시\"]\n",
        "  \n",
        "  # fruit에 사용자가 입력한 과일 존재 여부 쳋크\n",
        "  if user_input in fruit:\n",
        "    print(\"정답입니다.\")\n",
        "  else:\n",
        "    print(\"오답입니다.\")"
      ],
      "execution_count": null,
      "outputs": []
    },
    {
      "cell_type": "code",
      "metadata": {
        "colab": {
          "base_uri": "https://localhost:8080/"
        },
        "id": "P1QxkgMA9O6G",
        "outputId": "f39d8090-5163-401a-9af6-36e8d234a1cf"
      },
      "source": [
        "check_fruit()"
      ],
      "execution_count": null,
      "outputs": [
        {
          "output_type": "stream",
          "text": [
            "좋아하는 과일을 입력하세요 : 사과\n",
            "정답입니다.\n"
          ],
          "name": "stdout"
        }
      ]
    },
    {
      "cell_type": "code",
      "metadata": {
        "colab": {
          "base_uri": "https://localhost:8080/"
        },
        "id": "BhIA_DKx9QpL",
        "outputId": "a4889567-82ae-44bb-cf1a-255c070dd22d"
      },
      "source": [
        "check_fruit()"
      ],
      "execution_count": null,
      "outputs": [
        {
          "output_type": "stream",
          "text": [
            "좋아하는 과일을 입력하세요 : 곶감\n",
            "오답입니다.\n"
          ],
          "name": "stdout"
        }
      ]
    },
    {
      "cell_type": "markdown",
      "metadata": {
        "id": "35hjPxjk9RBC"
      },
      "source": [
        "# 4-2 : elif 사용"
      ]
    },
    {
      "cell_type": "code",
      "metadata": {
        "id": "vszabE129jq1"
      },
      "source": [
        "def grading():\n",
        "  \"\"\"점수 구간에 따른 학점 부여\"\"\"\n",
        "  \n",
        "  score = int(input(\"학생의 점수를 입력하세요 : \"))\n",
        "  score_interval = [0, 21, 41, 61, 81, 101]\n",
        "  grade_list = [\"E\", \"D\", \"C\", \"B\", \"A\"]\n",
        "\n",
        "  # 점수 구간에 따른 학점 부여\n",
        "  for i in range(len(score_interval) - 1):\n",
        "    if score_interval[i] <= score < score_interval[i + 1]:\n",
        "      grade = grade_list[i]\n",
        "\n",
        "  print(\"Grade is {}.\".format(grade))\n",
        "\n",
        "  return grade"
      ],
      "execution_count": null,
      "outputs": []
    },
    {
      "cell_type": "code",
      "metadata": {
        "colab": {
          "base_uri": "https://localhost:8080/",
          "height": 71
        },
        "id": "0B08iRZP-yFp",
        "outputId": "bf068841-5769-45a6-d80e-9099e8036dfb"
      },
      "source": [
        "grading()"
      ],
      "execution_count": null,
      "outputs": [
        {
          "output_type": "stream",
          "text": [
            "학생의 점수를 입력하세요 : 85\n",
            "Grade is A.\n"
          ],
          "name": "stdout"
        },
        {
          "output_type": "execute_result",
          "data": {
            "application/vnd.google.colaboratory.intrinsic+json": {
              "type": "string"
            },
            "text/plain": [
              "'A'"
            ]
          },
          "metadata": {
            "tags": []
          },
          "execution_count": 5
        }
      ]
    },
    {
      "cell_type": "markdown",
      "metadata": {
        "id": "tXb_NC7y-y2H"
      },
      "source": [
        "# 4-3 : 주민등록번호 elif"
      ]
    },
    {
      "cell_type": "code",
      "metadata": {
        "id": "cv-hiSlF_PEF"
      },
      "source": [
        "def check_resident_number():\n",
        "  \"\"\"주민등록번호의 유효성 검정\"\"\"\n",
        "\n",
        "  resident_number = input(\"주민등록번호를 입력하세요 (6자리-7자리 형식): \")\n",
        "  number_replaced = resident_number.replace(\"-\", \"\")\n",
        "  last_number = int(number_replaced[-1])\n",
        "  check_logic = [2, 3, 4, 5, 6, 7, 8, 9, 2, 3, 4, 5]\n",
        "\n",
        "  # 로직에 따라 계산\n",
        "  sum_of_multiple = 0\n",
        "  for i in range(len(number_replaced) - 1):\n",
        "    sum_of_multiple = sum_of_multiple + check_logic[i] * int(number_replaced[i])\n",
        "  \n",
        "  result = (11 - sum_of_multiple % 11) % 10\n",
        "\n",
        "  # 계산 결과와 주민등록번호의 마지막 숫자가 같은지 체크\n",
        "  if result == last_number:\n",
        "    print(\"유효한 주민등록번호입니다.\")\n",
        "  else:\n",
        "    print(\"유효하지 않은 주민등록번호입니다.\")"
      ],
      "execution_count": null,
      "outputs": []
    },
    {
      "cell_type": "code",
      "metadata": {
        "colab": {
          "base_uri": "https://localhost:8080/"
        },
        "id": "mDi_MPrXB5PD",
        "outputId": "15a31439-4315-4526-aee4-bab96f932652"
      },
      "source": [
        "check_resident_number()"
      ],
      "execution_count": null,
      "outputs": [
        {
          "output_type": "stream",
          "text": [
            "주민등록번호를 입력하세요 (6자리-7자리 형식): 123456-1234567\n",
            "유효하지 않은 주민등록번호입니다.\n"
          ],
          "name": "stdout"
        }
      ]
    },
    {
      "cell_type": "code",
      "metadata": {
        "colab": {
          "base_uri": "https://localhost:8080/"
        },
        "id": "VCmSumRSCHYo",
        "outputId": "f30f7ea8-1a21-4426-ee98-44e617c0c9c6"
      },
      "source": [
        "check_resident_number()"
      ],
      "execution_count": null,
      "outputs": [
        {
          "output_type": "stream",
          "text": [
            "주민등록번호를 입력하세요 (6자리-7자리 형식): 821010-1635214\n",
            "유효한 주민등록번호입니다.\n"
          ],
          "name": "stdout"
        }
      ]
    },
    {
      "cell_type": "markdown",
      "metadata": {
        "id": "7769qTfeCMZW"
      },
      "source": [
        "# 4-4 : 할인 가격 계산"
      ]
    },
    {
      "cell_type": "code",
      "metadata": {
        "id": "o9iF9tj4CSth"
      },
      "source": [
        "def check_discount():\n",
        "  \"\"\"구매할 상품 개수 입력받아 지불해야 할 가격을 계산\"\"\"\n",
        "  \n",
        "  quantity = int(input(\"구매할 상품 개수를 입력하세요 : \"))\n",
        "  price = 100\n",
        "  quantity_interval = [0, 10, 30, 100]\n",
        "\n",
        "  # 기준에 맞게 개당 할인 금액 정하기\n",
        "  discount = 0\n",
        "  for i in range(len(quantity_interval) - 1):\n",
        "    if quantity_interval[i] <= quantity < quantity_interval[i + 1]:\n",
        "      discount = 5 * i\n",
        "  \n",
        "  if discount == 0:\n",
        "    discount = 5 * 3\n",
        "  \n",
        "  # 결과 계산\n",
        "  result = (price - discount) * quantity\n",
        "  print(\"{}개를 구매하여 지불해야하는 금액은 {}입니다.\".format(quantity, result))\n",
        "\n",
        "  return result"
      ],
      "execution_count": null,
      "outputs": []
    },
    {
      "cell_type": "code",
      "metadata": {
        "colab": {
          "base_uri": "https://localhost:8080/"
        },
        "id": "WRpgOf4mFiSi",
        "outputId": "404e5ac3-dd88-4001-b07c-801c483dabeb"
      },
      "source": [
        "check_discount()"
      ],
      "execution_count": null,
      "outputs": [
        {
          "output_type": "stream",
          "text": [
            "구매할 상품 개수를 입력하세요 : 29\n",
            "29개를 구매하여 지불해야하는 금액은 2755입니다.\n"
          ],
          "name": "stdout"
        },
        {
          "output_type": "execute_result",
          "data": {
            "text/plain": [
              "2755"
            ]
          },
          "metadata": {
            "tags": []
          },
          "execution_count": 10
        }
      ]
    },
    {
      "cell_type": "code",
      "metadata": {
        "colab": {
          "base_uri": "https://localhost:8080/"
        },
        "id": "4Xjb0OHPGC69",
        "outputId": "8dd74149-86d9-4781-d6ec-9c52db57c3da"
      },
      "source": [
        "check_discount()"
      ],
      "execution_count": null,
      "outputs": [
        {
          "output_type": "stream",
          "text": [
            "구매할 상품 개수를 입력하세요 : 70\n",
            "70개를 구매하여 지불해야하는 금액은 6300입니다.\n"
          ],
          "name": "stdout"
        },
        {
          "output_type": "execute_result",
          "data": {
            "text/plain": [
              "6300"
            ]
          },
          "metadata": {
            "tags": []
          },
          "execution_count": 11
        }
      ]
    },
    {
      "cell_type": "code",
      "metadata": {
        "colab": {
          "base_uri": "https://localhost:8080/"
        },
        "id": "GDRaBWd7Fjim",
        "outputId": "eca374f9-8326-4ad3-e0c7-c7b2554f643d"
      },
      "source": [
        "check_discount()"
      ],
      "execution_count": null,
      "outputs": [
        {
          "output_type": "stream",
          "text": [
            "구매할 상품 개수를 입력하세요 : 111\n",
            "111개를 구매하여 지불해야하는 금액은 9435입니다.\n"
          ],
          "name": "stdout"
        },
        {
          "output_type": "execute_result",
          "data": {
            "text/plain": [
              "9435"
            ]
          },
          "metadata": {
            "tags": []
          },
          "execution_count": 12
        }
      ]
    },
    {
      "cell_type": "code",
      "metadata": {
        "colab": {
          "base_uri": "https://localhost:8080/"
        },
        "id": "EQbMeXaOFoEF",
        "outputId": "609d8add-6a42-48d4-b1f1-2f8e46ca5606"
      },
      "source": [
        "29*95, 70*90, 111*85"
      ],
      "execution_count": null,
      "outputs": [
        {
          "output_type": "execute_result",
          "data": {
            "text/plain": [
              "(2755, 6300, 9435)"
            ]
          },
          "metadata": {
            "tags": []
          },
          "execution_count": 13
        }
      ]
    },
    {
      "cell_type": "markdown",
      "metadata": {
        "id": "wi5H6IGZFtmN"
      },
      "source": [
        "# 4-5 : 윤년"
      ]
    },
    {
      "cell_type": "code",
      "metadata": {
        "id": "MayoQmZFGOvv"
      },
      "source": [
        "def is_leap_year(year):\n",
        "  \"\"\"\n",
        "  매개변수로 입력받은 해가 윤년인지 아닌지 반환\n",
        "  \n",
        "  year : 윤년인지 아닌지 판단해야하는 연도\n",
        "  \"\"\"\n",
        "\n",
        "  # 디폴트값은 윤년 아님\n",
        "  result = False\n",
        "\n",
        "  # 4의 배수이면 윤년\n",
        "  if year % 4 == 0:\n",
        "    result = True\n",
        "    # 100의 배수면 윤년 아님\n",
        "    if year % 100  == 0:\n",
        "      result = False\n",
        "      # 400의 배수면 윤년\n",
        "      if year % 400 == 0:\n",
        "        result = True\n",
        "  \n",
        "  if result:\n",
        "    print(\"{}은 윤년이다.\".format(year))\n",
        "  else:\n",
        "    print(\"{}은 윤년이 아니다.\".format(year))\n",
        "\n",
        "  return result"
      ],
      "execution_count": null,
      "outputs": []
    },
    {
      "cell_type": "code",
      "metadata": {
        "colab": {
          "base_uri": "https://localhost:8080/"
        },
        "id": "IcvAj1GdJ8RV",
        "outputId": "69cde772-8094-4df5-d5b7-9e6503130a83"
      },
      "source": [
        "print(is_leap_year(1996))\n",
        "print(is_leap_year(1900))\n",
        "print(is_leap_year(2000))"
      ],
      "execution_count": null,
      "outputs": [
        {
          "output_type": "stream",
          "text": [
            "1996은 윤년이다.\n",
            "True\n",
            "1900은 윤년이 아니다.\n",
            "False\n",
            "2000은 윤년이다.\n",
            "True\n"
          ],
          "name": "stdout"
        }
      ]
    },
    {
      "cell_type": "markdown",
      "metadata": {
        "id": "_QebFfTZKvgy"
      },
      "source": [
        "# 4-6 : 날수계산"
      ]
    },
    {
      "cell_type": "code",
      "metadata": {
        "id": "QeoV0AQJLWim"
      },
      "source": [
        "def days_in_month(year, month):\n",
        "  \"\"\"\n",
        "  연과 월을 매개변수로 받아서 그 달이 며칠까지 있는지 반환\n",
        "\n",
        "  year : 연도\n",
        "  month : 월\n",
        "  \"\"\"\n",
        "\n",
        "  days_31 = [1, 3, 5, 7, 8, 10, 12]\n",
        "  days_30 = [4, 6, 9, 11]\n",
        "\n",
        "  if month in days_31:\n",
        "    days = 31\n",
        "  elif month in days_30:\n",
        "    days = 30\n",
        "  elif month == 2:\n",
        "    # 4의 배수이면 윤년\n",
        "    if year % 4 == 0:\n",
        "      days = 29\n",
        "      # 100의 배수면 윤년 아님\n",
        "      if year % 100  == 0:\n",
        "        days = 28\n",
        "        # 400의 배수면 윤년\n",
        "        if year % 400 == 0:\n",
        "          days = 29\n",
        "          \n",
        "  return days"
      ],
      "execution_count": null,
      "outputs": []
    },
    {
      "cell_type": "code",
      "metadata": {
        "colab": {
          "base_uri": "https://localhost:8080/"
        },
        "id": "cA4ZMU2Z6fXo",
        "outputId": "ef6a4af1-7ec1-4342-9ae4-6842227d7228"
      },
      "source": [
        "print(days_in_month(2021, 3))\n",
        "print(days_in_month(2020, 9))\n",
        "print(days_in_month(2020, 2))"
      ],
      "execution_count": null,
      "outputs": [
        {
          "output_type": "stream",
          "text": [
            "31\n",
            "30\n",
            "29\n"
          ],
          "name": "stdout"
        }
      ]
    },
    {
      "cell_type": "markdown",
      "metadata": {
        "id": "SRu2JoZQKyPw"
      },
      "source": [
        "# 4-7 : 간단한 반복문"
      ]
    },
    {
      "cell_type": "code",
      "metadata": {
        "id": "WpOzbjiQLXWX"
      },
      "source": [
        "def print_sum_of_multiple1(number):\n",
        "  \"\"\"\n",
        "  1000 이하의 입력받은 숫자의 배수들의 합을 계산하여 출력\n",
        "  반복문을 사용하여 계산\n",
        "\n",
        "  number : 계산할 숫자\n",
        "  \"\"\"\n",
        "\n",
        "  # 초기값\n",
        "  result = 0\n",
        "  value = number\n",
        "\n",
        "  # 반복문으로 결과 계산\n",
        "  for i in range(1000 // number):\n",
        "    result = result + value * (i + 1)    \n",
        "\n",
        "  # 결과 출력\n",
        "  print(\"1000 이하의 {}의 배수의 합은 {}이다.\".format(number, result))\n",
        "\n",
        "  return result"
      ],
      "execution_count": null,
      "outputs": []
    },
    {
      "cell_type": "code",
      "metadata": {
        "colab": {
          "base_uri": "https://localhost:8080/"
        },
        "id": "fJRWqKFB8n-U",
        "outputId": "d52b7cca-98a5-4a96-977e-b1f22e4c920d"
      },
      "source": [
        "print_sum_of_multiple1(2)\n",
        "print_sum_of_multiple1(499)\n",
        "print_sum_of_multiple1(999)"
      ],
      "execution_count": null,
      "outputs": [
        {
          "output_type": "stream",
          "text": [
            "1000 이하의 2의 배수의 합은 250500이다.\n",
            "1000 이하의 499의 배수의 합은 1497이다.\n",
            "1000 이하의 999의 배수의 합은 999이다.\n"
          ],
          "name": "stdout"
        },
        {
          "output_type": "execute_result",
          "data": {
            "text/plain": [
              "999"
            ]
          },
          "metadata": {
            "tags": []
          },
          "execution_count": 19
        }
      ]
    },
    {
      "cell_type": "code",
      "metadata": {
        "id": "bKPt8NJp-TB2"
      },
      "source": [
        "def print_sum_of_multiple2(number):\n",
        "  \"\"\"\n",
        "  1000 이하의 입력받은 숫자의 배수들의 합을 계산하여 출력\n",
        "  반복문을 사용하지 않고 공식을 이용\n",
        "  \n",
        "  number : 계산할 숫자\n",
        "  \"\"\"\n",
        "\n",
        "  # 초기값\n",
        "  quotient = 1000 // number\n",
        "  result = int(number * quotient * (quotient + 1) / 2)\n",
        "  \n",
        "  # 결과 출력\n",
        "  print(\"1000 이하의 {}의 배수의 합은 {}이다.\".format(number, result))\n",
        "\n",
        "  return result"
      ],
      "execution_count": null,
      "outputs": []
    },
    {
      "cell_type": "code",
      "metadata": {
        "colab": {
          "base_uri": "https://localhost:8080/"
        },
        "id": "unw9BruP-aQY",
        "outputId": "83da9b47-34f9-4cf7-8868-457250197589"
      },
      "source": [
        "print_sum_of_multiple2(2)\n",
        "print_sum_of_multiple2(499)\n",
        "print_sum_of_multiple2(999)"
      ],
      "execution_count": null,
      "outputs": [
        {
          "output_type": "stream",
          "text": [
            "1000 이하의 2의 배수의 합은 250500이다.\n",
            "1000 이하의 499의 배수의 합은 1497이다.\n",
            "1000 이하의 999의 배수의 합은 999이다.\n"
          ],
          "name": "stdout"
        },
        {
          "output_type": "execute_result",
          "data": {
            "text/plain": [
              "999"
            ]
          },
          "metadata": {
            "tags": []
          },
          "execution_count": 21
        }
      ]
    },
    {
      "cell_type": "markdown",
      "metadata": {
        "id": "Ug2Yz69aKy7g"
      },
      "source": [
        "# 4-8 : 리스트에서 조건을 만족하는 값 뽑기"
      ]
    },
    {
      "cell_type": "code",
      "metadata": {
        "id": "8uI8_RPdLXmG"
      },
      "source": [
        "def who_is_A(score_list):\n",
        "  \"\"\"\n",
        "  점수 리스트에서 특정 조건을 만족하는 값만 뽑아 더해서 출력\n",
        "\n",
        "  score_list : 점수의 리스트 형태\n",
        "  \"\"\"\n",
        "\n",
        "  result_list = []\n",
        "\n",
        "  # 반복문을 통해 값이 조건을 만족하면 결과 리스트에 저장\n",
        "  for element in score_list:\n",
        "    if element >= 50:\n",
        "      result_list.append(element)\n",
        "\n",
        "  # 총합 계산\n",
        "  result = sum(result_list)\n",
        "\n",
        "  print(\"50점 이상의 점수들의 총합은 {}이다.\".format(result))\n",
        "\n",
        "  return result"
      ],
      "execution_count": null,
      "outputs": []
    },
    {
      "cell_type": "code",
      "metadata": {
        "colab": {
          "base_uri": "https://localhost:8080/"
        },
        "id": "6Hpsezv8AcTZ",
        "outputId": "5da033c8-b979-4a22-8c09-411998fb2a9f"
      },
      "source": [
        "who_is_A([20, 55, 67, 82, 45, 33, 90, 87, 100, 25])"
      ],
      "execution_count": null,
      "outputs": [
        {
          "output_type": "stream",
          "text": [
            "50점 이상의 점수들의 총합은 481이다.\n"
          ],
          "name": "stdout"
        },
        {
          "output_type": "execute_result",
          "data": {
            "text/plain": [
              "481"
            ]
          },
          "metadata": {
            "tags": []
          },
          "execution_count": 23
        }
      ]
    },
    {
      "cell_type": "markdown",
      "metadata": {
        "id": "TVAUm7lRKzC5"
      },
      "source": [
        "# 4-9 : 별 표시하기"
      ]
    },
    {
      "cell_type": "code",
      "metadata": {
        "id": "N9IUI1pQLX2O"
      },
      "source": [
        "def print_stars1(number):\n",
        "  \"\"\"\n",
        "  number 이하의 모든 숫자들만큼 별을 출력하기\n",
        "  \n",
        "  number : 별 개수 상한선\n",
        "  \"\"\"\n",
        "\n",
        "  for i in range(1, number + 1):\n",
        "    print(\"*\" * i)"
      ],
      "execution_count": null,
      "outputs": []
    },
    {
      "cell_type": "code",
      "metadata": {
        "colab": {
          "base_uri": "https://localhost:8080/"
        },
        "id": "laq48bZfCZBs",
        "outputId": "c5a9db53-0906-4fbf-a089-694a414db7aa"
      },
      "source": [
        "print_stars1(10)"
      ],
      "execution_count": null,
      "outputs": [
        {
          "output_type": "stream",
          "text": [
            "*\n",
            "**\n",
            "***\n",
            "****\n",
            "*****\n",
            "******\n",
            "*******\n",
            "********\n",
            "*********\n",
            "**********\n"
          ],
          "name": "stdout"
        }
      ]
    },
    {
      "cell_type": "code",
      "metadata": {
        "id": "LEKlWpEJCgRr"
      },
      "source": [
        "def print_stars2(number):\n",
        "  \"\"\"\n",
        "  number 이하의 모든 숫자들만큼 별을 피라미드 모양으로 출력하기\n",
        "  \n",
        "  number : 별 개수 상한선\n",
        "  \"\"\"\n",
        "\n",
        "  for i in range(1, number + 1):\n",
        "    string = \"*\" * i\n",
        "    print(string.center(number, \" \"))"
      ],
      "execution_count": null,
      "outputs": []
    },
    {
      "cell_type": "code",
      "metadata": {
        "colab": {
          "base_uri": "https://localhost:8080/"
        },
        "id": "-mN-yXVhC3QD",
        "outputId": "dd3d259a-28ca-4500-d1de-c3049de75c5b"
      },
      "source": [
        "print_stars2(10)"
      ],
      "execution_count": null,
      "outputs": [
        {
          "output_type": "stream",
          "text": [
            "    *     \n",
            "    **    \n",
            "   ***    \n",
            "   ****   \n",
            "  *****   \n",
            "  ******  \n",
            " *******  \n",
            " ******** \n",
            "********* \n",
            "**********\n"
          ],
          "name": "stdout"
        }
      ]
    },
    {
      "cell_type": "markdown",
      "metadata": {
        "id": "SjyEuWovE8i4"
      },
      "source": [
        "짝수 홀수때문에 양쪽 공백 개수가 달라져서 삐뚤빼뚤\n",
        "\n",
        "=> 피라미드를 출력하려면 층 수를 입력받아서 1, 3, 5, ... 개수로 홀수 개수만 출력하는게 양쪽 공백 개수를 같게 만들어주는 방법인듯"
      ]
    },
    {
      "cell_type": "markdown",
      "metadata": {
        "id": "6LarD41DKzKx"
      },
      "source": [
        "# 4-10 : while 이용하여 5의 배수 합 계산"
      ]
    },
    {
      "cell_type": "code",
      "metadata": {
        "id": "FDhoRmpTLYD-"
      },
      "source": [
        "def sum_of_5_multiple():\n",
        "  \"\"\"\n",
        "  100 이상 10000 미만인 자연수 가운데 5의 배수 합 계산\n",
        "  5(20 + 21 + ... + 1999) = 5 * (1999 * 1000 - 19 * 10)을 계산하는게 속도가 더 빠르긴 함\n",
        "  \"\"\"\n",
        "\n",
        "  result = 0\n",
        "  value = 100\n",
        "  while True:\n",
        "    result = result + value\n",
        "    value = value + 5\n",
        "    if value >= 10000:\n",
        "      break\n",
        "\n",
        "  print(\"100 이상 10000 미만인 자연수 가운데 5의 배수의 합은 {}이다.\".format(result))\n",
        "\n",
        "  return result"
      ],
      "execution_count": null,
      "outputs": []
    },
    {
      "cell_type": "code",
      "metadata": {
        "colab": {
          "base_uri": "https://localhost:8080/"
        },
        "id": "zJAmAb6tMpXa",
        "outputId": "59c8b8a7-c3c6-4bdd-d4c1-2b4b32725035"
      },
      "source": [
        "sum_of_5_multiple()"
      ],
      "execution_count": null,
      "outputs": [
        {
          "output_type": "stream",
          "text": [
            "100 이상 10000 미만인 자연수 가운데 5의 배수의 합은 9994050이다.\n"
          ],
          "name": "stdout"
        },
        {
          "output_type": "execute_result",
          "data": {
            "text/plain": [
              "9994050"
            ]
          },
          "metadata": {
            "tags": []
          },
          "execution_count": 29
        }
      ]
    },
    {
      "cell_type": "code",
      "metadata": {
        "colab": {
          "base_uri": "https://localhost:8080/"
        },
        "id": "BlBggXHnMrJZ",
        "outputId": "e93d9092-ef0c-46b3-ba62-b692eae406a9"
      },
      "source": [
        "5 * (1999 * 1000 - 19 * 10)"
      ],
      "execution_count": null,
      "outputs": [
        {
          "output_type": "execute_result",
          "data": {
            "text/plain": [
              "9994050"
            ]
          },
          "metadata": {
            "tags": []
          },
          "execution_count": 30
        }
      ]
    },
    {
      "cell_type": "markdown",
      "metadata": {
        "id": "Kcc2qfASKzSh"
      },
      "source": [
        "# 4-11 : 1부터 100까지 반복문 이용하여 출력"
      ]
    },
    {
      "cell_type": "code",
      "metadata": {
        "id": "b981dBNHKmA_"
      },
      "source": [
        "def print_until_100():\n",
        "  \"\"\"1부터 100까지 출력\"\"\"\n",
        "\n",
        "  for i in range(10):\n",
        "    i_10 = 10 * i\n",
        "    for j in range(1, 11):\n",
        "      print(i_10 + j, end=\" \")\n",
        "    print(\"\\n\")"
      ],
      "execution_count": null,
      "outputs": []
    },
    {
      "cell_type": "code",
      "metadata": {
        "colab": {
          "base_uri": "https://localhost:8080/"
        },
        "id": "VHIok1jgPFgV",
        "outputId": "5028fd68-dda9-4d6e-e296-09f5d0efc349"
      },
      "source": [
        "print_until_100()"
      ],
      "execution_count": null,
      "outputs": [
        {
          "output_type": "stream",
          "text": [
            "1 2 3 4 5 6 7 8 9 10 \n",
            "\n",
            "11 12 13 14 15 16 17 18 19 20 \n",
            "\n",
            "21 22 23 24 25 26 27 28 29 30 \n",
            "\n",
            "31 32 33 34 35 36 37 38 39 40 \n",
            "\n",
            "41 42 43 44 45 46 47 48 49 50 \n",
            "\n",
            "51 52 53 54 55 56 57 58 59 60 \n",
            "\n",
            "61 62 63 64 65 66 67 68 69 70 \n",
            "\n",
            "71 72 73 74 75 76 77 78 79 80 \n",
            "\n",
            "81 82 83 84 85 86 87 88 89 90 \n",
            "\n",
            "91 92 93 94 95 96 97 98 99 100 \n",
            "\n"
          ],
          "name": "stdout"
        }
      ]
    },
    {
      "cell_type": "markdown",
      "metadata": {
        "id": "GO3IfFupKzZh"
      },
      "source": [
        "# 4-12 : 리스트에서 평균 구하기"
      ]
    },
    {
      "cell_type": "code",
      "metadata": {
        "id": "ZAm0MOsYLYdO"
      },
      "source": [
        "def calculate_mean(score_list):\n",
        "  \"\"\"for문을 이용하여 학습의 평균 점수 계산\"\"\"\n",
        "\n",
        "  sum_score = 0\n",
        "  for value in score_list:\n",
        "    sum_score = sum_score + value\n",
        "  \n",
        "  result = sum_score / len(score_list)\n",
        "\n",
        "  return result"
      ],
      "execution_count": null,
      "outputs": []
    },
    {
      "cell_type": "code",
      "metadata": {
        "colab": {
          "base_uri": "https://localhost:8080/"
        },
        "id": "wksRfDc1P4w6",
        "outputId": "bb19b56b-379c-471d-b0f2-4b90c4b78aaa"
      },
      "source": [
        "calculate_mean([70, 60, 55, 75, 95, 90, 80, 80, 85, 100])"
      ],
      "execution_count": null,
      "outputs": [
        {
          "output_type": "execute_result",
          "data": {
            "text/plain": [
              "79.0"
            ]
          },
          "metadata": {
            "tags": []
          },
          "execution_count": 34
        }
      ]
    },
    {
      "cell_type": "markdown",
      "metadata": {
        "id": "yceAvH2zKzgw"
      },
      "source": [
        "# 4-13 : 369 369 369 369"
      ]
    },
    {
      "cell_type": "code",
      "metadata": {
        "id": "iEe8ZO_ELYou"
      },
      "source": [
        "def game_369():\n",
        "  \"\"\"1부터 100까지의 숫자를 리스트에 넣는데 3의 배수면 *로 저장\"\"\"\n",
        "\n",
        "  result_list = []\n",
        "  for i in range(1, 101):\n",
        "    if \"3\" in str(i) or \"6\" in str(i) or \"9\" in str(i):\n",
        "      result_list.append(\"*\")\n",
        "    else:\n",
        "      result_list.append(i)\n",
        "\n",
        "  print(result_list)"
      ],
      "execution_count": null,
      "outputs": []
    },
    {
      "cell_type": "code",
      "metadata": {
        "colab": {
          "base_uri": "https://localhost:8080/"
        },
        "id": "uJv5o-KAQZE3",
        "outputId": "aea88abf-536b-4efe-c24b-04a8c4f0d3b2"
      },
      "source": [
        "game_369()"
      ],
      "execution_count": null,
      "outputs": [
        {
          "output_type": "stream",
          "text": [
            "[1, 2, '*', 4, 5, '*', 7, 8, '*', 10, 11, 12, '*', 14, 15, '*', 17, 18, '*', 20, 21, 22, '*', 24, 25, '*', 27, 28, '*', '*', '*', '*', '*', '*', '*', '*', '*', '*', '*', 40, 41, 42, '*', 44, 45, '*', 47, 48, '*', 50, 51, 52, '*', 54, 55, '*', 57, 58, '*', '*', '*', '*', '*', '*', '*', '*', '*', '*', '*', 70, 71, 72, '*', 74, 75, '*', 77, 78, '*', 80, 81, 82, '*', 84, 85, '*', 87, 88, '*', '*', '*', '*', '*', '*', '*', '*', '*', '*', '*', 100]\n"
          ],
          "name": "stdout"
        }
      ]
    },
    {
      "cell_type": "markdown",
      "metadata": {
        "id": "3ECoczWmKznw"
      },
      "source": [
        "# 4-14 : 3의 배수, 4의 배수인 자연수 출력"
      ]
    },
    {
      "cell_type": "code",
      "metadata": {
        "id": "EvAOFBI7LY_n"
      },
      "source": [
        "def print_3or4_multiple():\n",
        "  \"\"\"1부터 100까지의 자연수 중 3의 배수 or 4의 배수인 자연수 출력\"\"\"\n",
        "\n",
        "  for i in range(1, 101):\n",
        "    if i % 3 == 0 or i % 4 == 0:\n",
        "      print(i, end = \" \")\n",
        "    if i % 10 == 0:\n",
        "      print(\"\\n\")"
      ],
      "execution_count": null,
      "outputs": []
    },
    {
      "cell_type": "code",
      "metadata": {
        "colab": {
          "base_uri": "https://localhost:8080/"
        },
        "id": "AVkHH7eeRg92",
        "outputId": "350c1ee7-0852-4f0e-b052-1b5fb5b18e66"
      },
      "source": [
        "print_3or4_multiple()"
      ],
      "execution_count": null,
      "outputs": [
        {
          "output_type": "stream",
          "text": [
            "3 4 6 8 9 \n",
            "\n",
            "12 15 16 18 20 \n",
            "\n",
            "21 24 27 28 30 \n",
            "\n",
            "32 33 36 39 40 \n",
            "\n",
            "42 44 45 48 \n",
            "\n",
            "51 52 54 56 57 60 \n",
            "\n",
            "63 64 66 68 69 \n",
            "\n",
            "72 75 76 78 80 \n",
            "\n",
            "81 84 87 88 90 \n",
            "\n",
            "92 93 96 99 100 \n",
            "\n"
          ],
          "name": "stdout"
        }
      ]
    },
    {
      "cell_type": "markdown",
      "metadata": {
        "id": "N_qi7L3tKzuy"
      },
      "source": [
        "# 4-15 : 가장 큰 수 계산"
      ]
    },
    {
      "cell_type": "code",
      "metadata": {
        "id": "T_bnAUM1LZZO"
      },
      "source": [
        "def find_max_value(value_list):\n",
        "  \"\"\"입력된 리스트에서 가장 큰 숫자를 찾자\"\"\"\n",
        "  \n",
        "  # 0번째 값을 최댓값으로 지정\n",
        "  max_value = value_list.pop(0)\n",
        "\n",
        "  # 0번째 값과 그 다음 값들을 비교해서 다음 값이 더 크면 최댓값 갱신\n",
        "  for value in value_list:\n",
        "    if value > max_value:\n",
        "      max_value = value\n",
        "  \n",
        "  print(\"주어진 리스트에서 가장 큰 숫자는 {}이다.\".format(max_value))\n",
        "\n",
        "  return max_value"
      ],
      "execution_count": null,
      "outputs": []
    },
    {
      "cell_type": "code",
      "metadata": {
        "colab": {
          "base_uri": "https://localhost:8080/"
        },
        "id": "lyMsCJVrSFOb",
        "outputId": "02758d86-d7ba-4bd2-f128-2e8322560cc7"
      },
      "source": [
        "import random\n",
        "find_max_value([random.randint(-1000, 1000) for i in range(100)])"
      ],
      "execution_count": null,
      "outputs": [
        {
          "output_type": "stream",
          "text": [
            "주어진 리스트에서 가장 큰 숫자는 976이다.\n"
          ],
          "name": "stdout"
        },
        {
          "output_type": "execute_result",
          "data": {
            "text/plain": [
              "976"
            ]
          },
          "metadata": {
            "tags": []
          },
          "execution_count": 40
        }
      ]
    },
    {
      "cell_type": "markdown",
      "metadata": {
        "id": "zDs8Vk2RKz3B"
      },
      "source": [
        "# 4-16 : 종합 실습 과제\n",
        "\n",
        "만약 100을 검사한다고 쳤을 때 곱해서 100이 나오는 경우는\n",
        "\n",
        "1 * 100  \n",
        "2 * 50  \n",
        "4 * 25  \n",
        "5 * 20  \n",
        "10 * 10  \n",
        "\n",
        "5가지가 있는데 \"작은 수 * 큰 수\" 구조로 생각한다면 100의 제곱근인 10보다 작은 약수가 존재해야만 100이 소수가 아닐 수 있다.  \n",
        "=> 소수인지 아닌지 검사할 때 제곱근보다 작은 숫자들에 대해서만 검사하면 됨  \n",
        "=> 2에 대해서 검사 + 3 이상이면서 제곱근보다 작은 홀수에 대해서만 검사하면 됨\n",
        "\n"
      ]
    },
    {
      "cell_type": "code",
      "metadata": {
        "id": "n_XRe5geLVZ6"
      },
      "source": [
        "def is_prime(number):\n",
        "  \"\"\"\n",
        "  주어진 함수가 소수인지 아닌지 검사\n",
        "  \n",
        "  number : 소수인지 아닌지 검사할 자연수\n",
        "  \"\"\"\n",
        "  import math\n",
        "\n",
        "  # 초기값\n",
        "  result = True\n",
        "\n",
        "  # 2의 배수(짝수)이면 소수가 아님\n",
        "  if number > 2 and number % 2 == 0:\n",
        "    result = False\n",
        "  else:\n",
        "    # 3 이상의 홀수로 나눠지면 소수가 아님\n",
        "    # => 홀수 중에서 소수가 아닌 애들을 검사 범위에서 제외하고 싶은데...\n",
        "    # 찾아보니 해당 숫자의 제곱근 이하인 애들만 검사하는 방법이 있다!\n",
        "    for i in range(3, round(math.sqrt(number)) + 1, 2):\n",
        "      if number % i == 0:\n",
        "        result = False\n",
        "\n",
        "  return result"
      ],
      "execution_count": 4,
      "outputs": []
    },
    {
      "cell_type": "code",
      "metadata": {
        "id": "ySUMJALiX5fA"
      },
      "source": [
        "def sum_of_prime(number):\n",
        "  \"\"\"number 이하의 숫자 중 소수인 숫자들의 합을 구하는 함수\"\"\"\n",
        "\n",
        "  prime_number_list = [i for i in range(2, number + 1) if is_prime(i)]\n",
        "  result = sum(prime_number_list)\n",
        "\n",
        "  print(\"{} 이하 중 소수인 자연수 : \".format(number), prime_number_list)\n",
        "  print(\"{} 이하 중 소수인 자연수들의 합 : {}\".format(number, result))\n",
        "\n",
        "  return result"
      ],
      "execution_count": 5,
      "outputs": []
    },
    {
      "cell_type": "code",
      "metadata": {
        "colab": {
          "base_uri": "https://localhost:8080/"
        },
        "id": "H-tEbSEXc7AZ",
        "outputId": "ca6f693b-e21c-4da0-8e39-515eae703800"
      },
      "source": [
        "sum_of_prime(100)"
      ],
      "execution_count": 6,
      "outputs": [
        {
          "output_type": "stream",
          "text": [
            "100 이하 중 소수인 자연수 :  [2, 3, 5, 7, 11, 13, 17, 19, 23, 29, 31, 37, 41, 43, 47, 53, 59, 61, 67, 71, 73, 79, 83, 89, 97]\n",
            "100 이하 중 소수인 자연수들의 합 : 1060\n"
          ],
          "name": "stdout"
        },
        {
          "output_type": "execute_result",
          "data": {
            "text/plain": [
              "1060"
            ]
          },
          "metadata": {
            "tags": []
          },
          "execution_count": 6
        }
      ]
    }
  ]
}